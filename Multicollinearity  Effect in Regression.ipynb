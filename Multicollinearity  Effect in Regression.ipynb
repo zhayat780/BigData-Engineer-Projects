{
  "nbformat": 4,
  "nbformat_minor": 0,
  "metadata": {
    "colab": {
      "name": "Untitled1.ipynb",
      "provenance": []
    },
    "kernelspec": {
      "name": "python3",
      "display_name": "Python 3"
    }
  },
  "cells": [
    {
      "cell_type": "code",
      "metadata": {
        "id": "aHxgDwq8G5g3"
      },
      "source": [
        "import sklearn\n",
        "import numpy as np;\n",
        "import pandas as pd;\n",
        "import seaborn as sns;"
      ],
      "execution_count": 35,
      "outputs": []
    },
    {
      "cell_type": "code",
      "metadata": {
        "id": "PpvGGNrBG8v5"
      },
      "source": [
        "Stock_Market = {'Year': [2017,2017,2017,2017,2017,2017,2017,2017,2017,2017,2017,2017,2016,2016,2016,2016,2016,2016,2016,2016,2016,2016,2016,2016],\n",
        "                'Month': [12, 11,10,9,8,7,6,5,4,3,2,1,12,11,10,9,8,7,6,5,4,3,2,1],\n",
        "                'Interest_Rate': [2.75,2.5,2.5,2.5,2.5,2.5,2.5,2.25,2.25,2.25,2,2,2,1.75,1.75,1.75,1.75,1.75,1.75,1.75,1.75,1.75,1.75,1.75],\n",
        "                'Unemployment_Rate': [5.3,5.3,5.3,5.3,5.4,5.6,5.5,5.5,5.5,5.6,5.7,5.9,6,5.9,5.8,6.1,6.2,6.1,6.1,6.1,5.9,6.2,6.2,6.1],\n",
        "                'Stock_Index_Price': [1464,1394,1357,1293,1256,1254,1234,1195,1159,1167,1130,1075,1047,965,943,958,971,949,884,866,876,822,704,719]        \n",
        "                }\n",
        "df = pd.DataFrame(Stock_Market,columns=['Year','Month','Interest_Rate','Unemployment_Rate','Stock_Index_Price']) "
      ],
      "execution_count": 36,
      "outputs": []
    },
    {
      "cell_type": "code",
      "metadata": {
        "colab": {
          "base_uri": "https://localhost:8080/",
          "height": 195
        },
        "id": "XNH0MxPjHBgY",
        "outputId": "bdfd357f-5754-4bf1-dafc-e13b78b44a5b"
      },
      "source": [
        "df.head()"
      ],
      "execution_count": 37,
      "outputs": [
        {
          "output_type": "execute_result",
          "data": {
            "text/html": [
              "<div>\n",
              "<style scoped>\n",
              "    .dataframe tbody tr th:only-of-type {\n",
              "        vertical-align: middle;\n",
              "    }\n",
              "\n",
              "    .dataframe tbody tr th {\n",
              "        vertical-align: top;\n",
              "    }\n",
              "\n",
              "    .dataframe thead th {\n",
              "        text-align: right;\n",
              "    }\n",
              "</style>\n",
              "<table border=\"1\" class=\"dataframe\">\n",
              "  <thead>\n",
              "    <tr style=\"text-align: right;\">\n",
              "      <th></th>\n",
              "      <th>Year</th>\n",
              "      <th>Month</th>\n",
              "      <th>Interest_Rate</th>\n",
              "      <th>Unemployment_Rate</th>\n",
              "      <th>Stock_Index_Price</th>\n",
              "    </tr>\n",
              "  </thead>\n",
              "  <tbody>\n",
              "    <tr>\n",
              "      <th>0</th>\n",
              "      <td>2017</td>\n",
              "      <td>12</td>\n",
              "      <td>2.75</td>\n",
              "      <td>5.3</td>\n",
              "      <td>1464</td>\n",
              "    </tr>\n",
              "    <tr>\n",
              "      <th>1</th>\n",
              "      <td>2017</td>\n",
              "      <td>11</td>\n",
              "      <td>2.50</td>\n",
              "      <td>5.3</td>\n",
              "      <td>1394</td>\n",
              "    </tr>\n",
              "    <tr>\n",
              "      <th>2</th>\n",
              "      <td>2017</td>\n",
              "      <td>10</td>\n",
              "      <td>2.50</td>\n",
              "      <td>5.3</td>\n",
              "      <td>1357</td>\n",
              "    </tr>\n",
              "    <tr>\n",
              "      <th>3</th>\n",
              "      <td>2017</td>\n",
              "      <td>9</td>\n",
              "      <td>2.50</td>\n",
              "      <td>5.3</td>\n",
              "      <td>1293</td>\n",
              "    </tr>\n",
              "    <tr>\n",
              "      <th>4</th>\n",
              "      <td>2017</td>\n",
              "      <td>8</td>\n",
              "      <td>2.50</td>\n",
              "      <td>5.4</td>\n",
              "      <td>1256</td>\n",
              "    </tr>\n",
              "  </tbody>\n",
              "</table>\n",
              "</div>"
            ],
            "text/plain": [
              "   Year  Month  Interest_Rate  Unemployment_Rate  Stock_Index_Price\n",
              "0  2017     12           2.75                5.3               1464\n",
              "1  2017     11           2.50                5.3               1394\n",
              "2  2017     10           2.50                5.3               1357\n",
              "3  2017      9           2.50                5.3               1293\n",
              "4  2017      8           2.50                5.4               1256"
            ]
          },
          "metadata": {
            "tags": []
          },
          "execution_count": 37
        }
      ]
    },
    {
      "cell_type": "code",
      "metadata": {
        "colab": {
          "base_uri": "https://localhost:8080/",
          "height": 195
        },
        "id": "My6MG6kaJdkS",
        "outputId": "35ff609d-9c1b-4f95-8126-86aabfc2b933"
      },
      "source": [
        "df.corr()"
      ],
      "execution_count": 38,
      "outputs": [
        {
          "output_type": "execute_result",
          "data": {
            "text/html": [
              "<div>\n",
              "<style scoped>\n",
              "    .dataframe tbody tr th:only-of-type {\n",
              "        vertical-align: middle;\n",
              "    }\n",
              "\n",
              "    .dataframe tbody tr th {\n",
              "        vertical-align: top;\n",
              "    }\n",
              "\n",
              "    .dataframe thead th {\n",
              "        text-align: right;\n",
              "    }\n",
              "</style>\n",
              "<table border=\"1\" class=\"dataframe\">\n",
              "  <thead>\n",
              "    <tr style=\"text-align: right;\">\n",
              "      <th></th>\n",
              "      <th>Year</th>\n",
              "      <th>Month</th>\n",
              "      <th>Interest_Rate</th>\n",
              "      <th>Unemployment_Rate</th>\n",
              "      <th>Stock_Index_Price</th>\n",
              "    </tr>\n",
              "  </thead>\n",
              "  <tbody>\n",
              "    <tr>\n",
              "      <th>Year</th>\n",
              "      <td>1.000000</td>\n",
              "      <td>0.000000</td>\n",
              "      <td>0.882851</td>\n",
              "      <td>-0.877000</td>\n",
              "      <td>0.863232</td>\n",
              "    </tr>\n",
              "    <tr>\n",
              "      <th>Month</th>\n",
              "      <td>0.000000</td>\n",
              "      <td>1.000000</td>\n",
              "      <td>0.339526</td>\n",
              "      <td>-0.351189</td>\n",
              "      <td>0.481287</td>\n",
              "    </tr>\n",
              "    <tr>\n",
              "      <th>Interest_Rate</th>\n",
              "      <td>0.882851</td>\n",
              "      <td>0.339526</td>\n",
              "      <td>1.000000</td>\n",
              "      <td>-0.925814</td>\n",
              "      <td>0.935793</td>\n",
              "    </tr>\n",
              "    <tr>\n",
              "      <th>Unemployment_Rate</th>\n",
              "      <td>-0.877000</td>\n",
              "      <td>-0.351189</td>\n",
              "      <td>-0.925814</td>\n",
              "      <td>1.000000</td>\n",
              "      <td>-0.922338</td>\n",
              "    </tr>\n",
              "    <tr>\n",
              "      <th>Stock_Index_Price</th>\n",
              "      <td>0.863232</td>\n",
              "      <td>0.481287</td>\n",
              "      <td>0.935793</td>\n",
              "      <td>-0.922338</td>\n",
              "      <td>1.000000</td>\n",
              "    </tr>\n",
              "  </tbody>\n",
              "</table>\n",
              "</div>"
            ],
            "text/plain": [
              "                       Year     Month  ...  Unemployment_Rate  Stock_Index_Price\n",
              "Year               1.000000  0.000000  ...          -0.877000           0.863232\n",
              "Month              0.000000  1.000000  ...          -0.351189           0.481287\n",
              "Interest_Rate      0.882851  0.339526  ...          -0.925814           0.935793\n",
              "Unemployment_Rate -0.877000 -0.351189  ...           1.000000          -0.922338\n",
              "Stock_Index_Price  0.863232  0.481287  ...          -0.922338           1.000000\n",
              "\n",
              "[5 rows x 5 columns]"
            ]
          },
          "metadata": {
            "tags": []
          },
          "execution_count": 38
        }
      ]
    },
    {
      "cell_type": "markdown",
      "metadata": {
        "id": "0S5P2l2nKNnW"
      },
      "source": [
        "Year and Month is not required , we are interested in corelation between Interest_Rate & Unemployment_Rate & Stock_Index_Price\n",
        "\n",
        "Clearly we can see that there is a positive correlation between  Interest_Rate & Stock_Index_Price and highly negative correlation between Unemployment_Rate & Stock_Index_Price.\n",
        "\n",
        "We can observe same thing from jointplot also as below"
      ]
    },
    {
      "cell_type": "code",
      "metadata": {
        "colab": {
          "base_uri": "https://localhost:8080/",
          "height": 458
        },
        "id": "aCDraajlHC6w",
        "outputId": "91002543-8220-4f26-cc96-8fba89867f67"
      },
      "source": [
        "sns.jointplot(x=\"Interest_Rate\",y=\"Stock_Index_Price\",data=df)"
      ],
      "execution_count": 39,
      "outputs": [
        {
          "output_type": "execute_result",
          "data": {
            "text/plain": [
              "<seaborn.axisgrid.JointGrid at 0x7fa646f94080>"
            ]
          },
          "metadata": {
            "tags": []
          },
          "execution_count": 39
        },
        {
          "output_type": "display_data",
          "data": {
            "image/png": "[encoded data removed]",
            "text/plain": [
              "<Figure size 432x432 with 3 Axes>"
            ]
          },
          "metadata": {
            "tags": [],
            "needs_background": "light"
          }
        }
      ]
    },
    {
      "cell_type": "markdown",
      "metadata": {
        "id": "_uf-ceDx-Wuo"
      },
      "source": [
        "Observation:-\n",
        "-------------\n",
        "\n",
        "# Clearly Positively Correlated"
      ]
    },
    {
      "cell_type": "code",
      "metadata": {
        "colab": {
          "base_uri": "https://localhost:8080/",
          "height": 458
        },
        "id": "1MxuAPzZHelz",
        "outputId": "0417ed39-d735-4bd8-d6f1-5b0046554a53"
      },
      "source": [
        "sns.jointplot(x=\"Unemployment_Rate\",y=\"Stock_Index_Price\",data=df)"
      ],
      "execution_count": 40,
      "outputs": [
        {
          "output_type": "execute_result",
          "data": {
            "text/plain": [
              "<seaborn.axisgrid.JointGrid at 0x7fa646e1f048>"
            ]
          },
          "metadata": {
            "tags": []
          },
          "execution_count": 40
        },
        {
          "output_type": "display_data",
          "data": {
            "image/png": "[encoded data removed]",
            "text/plain": [
              "<Figure size 432x432 with 3 Axes>"
            ]
          },
          "metadata": {
            "tags": [],
            "needs_background": "light"
          }
        }
      ]
    },
    {
      "cell_type": "markdown",
      "metadata": {
        "id": "Kz3wPxSq-pXI"
      },
      "source": [
        "Observation:-\n",
        "-------------\n",
        "\n",
        "# Clearly Negatively Correlated"
      ]
    },
    {
      "cell_type": "code",
      "metadata": {
        "id": "PH6GO4_gHsl0"
      },
      "source": [
        "x=df[['Interest_Rate','Unemployment_Rate']];#Concept: More than one column extraction , so [[]]\n",
        "y=df['Stock_Index_Price'];"
      ],
      "execution_count": 41,
      "outputs": []
    },
    {
      "cell_type": "code",
      "metadata": {
        "id": "BZCAOsbZH_Rx"
      },
      "source": [
        "from sklearn.linear_model import LinearRegression;"
      ],
      "execution_count": 42,
      "outputs": []
    },
    {
      "cell_type": "code",
      "metadata": {
        "colab": {
          "base_uri": "https://localhost:8080/"
        },
        "id": "4i59aHS9INVZ",
        "outputId": "047b1764-fed0-4313-b6cb-14035f6b74b7"
      },
      "source": [
        "lm3=LinearRegression()\n",
        "lm3.fit(x,y)\n",
        "print(lm3.intercept_,lm3.coef_)"
      ],
      "execution_count": 43,
      "outputs": [
        {
          "output_type": "stream",
          "text": [
            "1798.4039776258546 [ 345.54008701 -250.14657137]\n"
          ],
          "name": "stdout"
        }
      ]
    },
    {
      "cell_type": "markdown",
      "metadata": {
        "id": "rO46n5cVIpJ_"
      },
      "source": [
        "So the equation is-->\n",
        "Stock_Index_Price = (Intercept) + (Interest_Rate coef)*X1 + (Unemployment_Rate coef)*X2\n",
        "\n"
      ]
    },
    {
      "cell_type": "markdown",
      "metadata": {
        "id": "OEZrPM4GI2pK"
      },
      "source": [
        "Imagine that you want to predict the stock index price after you collected the following data:\n",
        "\n",
        "Interest Rate = 2.75 (i.e., X1= 2.75)\n",
        "Unemployment Rate = 5.3 (i.e., X2= 5.3)\n",
        "Then what will be Stock Index Price?"
      ]
    },
    {
      "cell_type": "code",
      "metadata": {
        "colab": {
          "base_uri": "https://localhost:8080/"
        },
        "id": "0TyODyShId5y",
        "outputId": "7adabd49-a672-47ce-f426-667909bc2fd2"
      },
      "source": [
        "Stock_Index_Price = (1798.4039776258546) + (345.54008701) *2.75 + (-250.14657137)*5.3;\n",
        "print(Stock_Index_Price)"
      ],
      "execution_count": 44,
      "outputs": [
        {
          "output_type": "stream",
          "text": [
            "1422.8623886423543\n"
          ],
          "name": "stdout"
        }
      ]
    },
    {
      "cell_type": "code",
      "metadata": {
        "colab": {
          "base_uri": "https://localhost:8080/"
        },
        "id": "lSXLeykBJG0R",
        "outputId": "cfc3f9b4-8484-46d2-e1e7-2400e369461c"
      },
      "source": [
        "lm3.predict([[2.75,5.3]])#One single value prediction ---so [[]]--already told to \n",
        "#remember in Simple Linear regression input feature selection part"
      ],
      "execution_count": 45,
      "outputs": [
        {
          "output_type": "execute_result",
          "data": {
            "text/plain": [
              "array([1422.86238865])"
            ]
          },
          "metadata": {
            "tags": []
          },
          "execution_count": 45
        }
      ]
    },
    {
      "cell_type": "markdown",
      "metadata": {
        "id": "xfh6dZa-PcX2"
      },
      "source": [
        "The sign of a regression coefficient tells you whether there is a positive or negative correlation between each independent variable the dependent variable. \n",
        "\n",
        "A positive coefficient indicates that as the value of the independent variable increases, the mean of the dependent variable also tends to increase. \n",
        "\n",
        "A negative coefficient suggests that as the independent variable increases, the dependent variable tends to decrease."
      ]
    },
    {
      "cell_type": "code",
      "metadata": {
        "colab": {
          "base_uri": "https://localhost:8080/"
        },
        "id": "j-cpSDVoPa1q",
        "outputId": "6bbb13cf-229d-44c3-9f38-74cdf52a5dcb"
      },
      "source": [
        "lm3.predict([[2.76,5.3]])"
      ],
      "execution_count": 46,
      "outputs": [
        {
          "output_type": "execute_result",
          "data": {
            "text/plain": [
              "array([1426.31778952])"
            ]
          },
          "metadata": {
            "tags": []
          },
          "execution_count": 46
        }
      ]
    },
    {
      "cell_type": "markdown",
      "metadata": {
        "id": "02LE7ZdN-uVa"
      },
      "source": [
        "Observation:\n",
        "------------\n",
        "\n",
        "Small change in one variable(2.75-->2.76 , i.e. 0.01 amount change) is changing the output by hige amount(1422.86238865-->1426.31778952).\n",
        "\n",
        "This is happening because of Multicollinearity .\n",
        "\n",
        "Explantion:\n",
        "\n",
        "https://youtu.be/-boaIvGR0ec"
      ]
    },
    {
      "cell_type": "code",
      "metadata": {
        "id": "2Z_oXjnDqdwX"
      },
      "source": [
        ""
      ],
      "execution_count": null,
      "outputs": []
    }
  ]
}