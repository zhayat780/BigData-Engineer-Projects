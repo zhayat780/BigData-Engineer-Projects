{
  "nbformat": 4,
  "nbformat_minor": 0,
  "metadata": {
    "colab": {
      "name": "Untitled33.ipynb",
      "provenance": [],
      "collapsed_sections": [],
      "authorship_tag": "ABX9TyNn3vKjL4oFpiI7iu0mLKW4",
      "include_colab_link": true
    },
    "kernelspec": {
      "name": "python3",
      "display_name": "Python 3"
    },
    "language_info": {
      "name": "python"
    }
  },
  "cells": [
    {
      "cell_type": "markdown",
      "metadata": {
        "id": "view-in-github",
        "colab_type": "text"
      },
      "source": [
        "<a href=\"https://colab.research.google.com/github/SatadruMukherjee/Data-Preprocessing-Models/blob/main/transientcluster.ipynb\" target=\"_parent\"><img src=\"https://colab.research.google.com/assets/colab-badge.svg\" alt=\"Open In Colab\"/></a>"
      ]
    },
    {
      "cell_type": "code",
      "execution_count": 1,
      "metadata": {
        "colab": {
          "base_uri": "https://localhost:8080/"
        },
        "id": "lkiqQj9tqi8n",
        "outputId": "9218a3b6-6e72-4063-89ad-ca572cf21f79"
      },
      "outputs": [
        {
          "output_type": "stream",
          "name": "stdout",
          "text": [
            "Collecting boto3\n",
            "  Downloading boto3-1.20.37-py3-none-any.whl (131 kB)\n",
            "\u001b[?25l\r\u001b[K     |██▌                             | 10 kB 28.8 MB/s eta 0:00:01\r\u001b[K     |█████                           | 20 kB 22.9 MB/s eta 0:00:01\r\u001b[K     |███████▌                        | 30 kB 16.4 MB/s eta 0:00:01\r\u001b[K     |██████████                      | 40 kB 14.3 MB/s eta 0:00:01\r\u001b[K     |████████████▍                   | 51 kB 7.0 MB/s eta 0:00:01\r\u001b[K     |███████████████                 | 61 kB 7.8 MB/s eta 0:00:01\r\u001b[K     |█████████████████▍              | 71 kB 8.4 MB/s eta 0:00:01\r\u001b[K     |███████████████████▉            | 81 kB 9.1 MB/s eta 0:00:01\r\u001b[K     |██████████████████████▍         | 92 kB 8.6 MB/s eta 0:00:01\r\u001b[K     |████████████████████████▉       | 102 kB 7.6 MB/s eta 0:00:01\r\u001b[K     |███████████████████████████▍    | 112 kB 7.6 MB/s eta 0:00:01\r\u001b[K     |█████████████████████████████▉  | 122 kB 7.6 MB/s eta 0:00:01\r\u001b[K     |████████████████████████████████| 131 kB 7.6 MB/s \n",
            "\u001b[?25hCollecting jmespath<1.0.0,>=0.7.1\n",
            "  Downloading jmespath-0.10.0-py2.py3-none-any.whl (24 kB)\n",
            "Collecting s3transfer<0.6.0,>=0.5.0\n",
            "  Downloading s3transfer-0.5.0-py3-none-any.whl (79 kB)\n",
            "\u001b[K     |████████████████████████████████| 79 kB 8.9 MB/s \n",
            "\u001b[?25hCollecting botocore<1.24.0,>=1.23.37\n",
            "  Downloading botocore-1.23.37-py3-none-any.whl (8.5 MB)\n",
            "\u001b[K     |████████████████████████████████| 8.5 MB 41.3 MB/s \n",
            "\u001b[?25hRequirement already satisfied: python-dateutil<3.0.0,>=2.1 in /usr/local/lib/python3.7/dist-packages (from botocore<1.24.0,>=1.23.37->boto3) (2.8.2)\n",
            "Collecting urllib3<1.27,>=1.25.4\n",
            "  Downloading urllib3-1.26.8-py2.py3-none-any.whl (138 kB)\n",
            "\u001b[K     |████████████████████████████████| 138 kB 76.3 MB/s \n",
            "\u001b[?25hRequirement already satisfied: six>=1.5 in /usr/local/lib/python3.7/dist-packages (from python-dateutil<3.0.0,>=2.1->botocore<1.24.0,>=1.23.37->boto3) (1.15.0)\n",
            "Installing collected packages: urllib3, jmespath, botocore, s3transfer, boto3\n",
            "  Attempting uninstall: urllib3\n",
            "    Found existing installation: urllib3 1.24.3\n",
            "    Uninstalling urllib3-1.24.3:\n",
            "      Successfully uninstalled urllib3-1.24.3\n",
            "\u001b[31mERROR: pip's dependency resolver does not currently take into account all the packages that are installed. This behaviour is the source of the following dependency conflicts.\n",
            "requests 2.23.0 requires urllib3!=1.25.0,!=1.25.1,<1.26,>=1.21.1, but you have urllib3 1.26.8 which is incompatible.\n",
            "datascience 0.10.6 requires folium==0.2.1, but you have folium 0.8.3 which is incompatible.\u001b[0m\n",
            "Successfully installed boto3-1.20.37 botocore-1.23.37 jmespath-0.10.0 s3transfer-0.5.0 urllib3-1.26.8\n"
          ]
        }
      ],
      "source": [
        "!pip install boto3"
      ]
    },
    {
      "cell_type": "code",
      "source": [
        "import json;\n",
        "import boto3;\n",
        "client = boto3.client('emr', region_name='us-east-2',aws_access_key_id='',aws_secret_access_key='')\n"
      ],
      "metadata": {
        "id": "fQ8mnNuttXwk"
      },
      "execution_count": 6,
      "outputs": []
    },
    {
      "cell_type": "code",
      "source": [
        "event={'file_name':'iris.csv','bucket_name':'sourcedemotesingset'}"
      ],
      "metadata": {
        "id": "rjZyX3VFtaAM"
      },
      "execution_count": 3,
      "outputs": []
    },
    {
      "cell_type": "code",
      "source": [
        "def lambda_handler(event, context):\n",
        "    file_name = event['file_name']\n",
        "    bucketName=event['bucket_name']\n",
        "    print(\"File Name : \",file_name)\n",
        "    print(\"Bucket Name : \",bucketName)\n",
        "    backend_code=\"{}\"\n",
        "    spark_submit = [\n",
        "    'spark-submit',\n",
        "    '--master', 'yarn',\n",
        "    '--deploy-mode', 'cluster',\n",
        "    backend_code,\n",
        "    bucketName,\n",
        "    file_name\n",
        "    ]\n",
        "    print(\"Spark Submit : \",spark_submit)\n",
        "    cluster_id = client.run_job_flow(\n",
        "    Name=\"transient_demo_testing\",\n",
        "    Instances={\n",
        "    'InstanceGroups': [\n",
        "    {\n",
        "    'Name': \"Master\",\n",
        "    'Market': 'ON_DEMAND',\n",
        "    'InstanceRole': 'MASTER',\n",
        "    'InstanceType': 'm5.xlarge',\n",
        "    'InstanceCount': 1,\n",
        "    },\n",
        "    {\n",
        "    'Name': \"Slave\",\n",
        "    'Market': 'ON_DEMAND',\n",
        "    'InstanceRole': 'CORE',\n",
        "    'InstanceType': 'm5.xlarge',\n",
        "    'InstanceCount': 2,\n",
        "    }\n",
        "    ],\n",
        "    'Ec2KeyName': 'helloworld',\n",
        "    'KeepJobFlowAliveWhenNoSteps': False,\n",
        "    'TerminationProtected': False,\n",
        "    'Ec2SubnetId': 'subnet-{}',\n",
        "    },\n",
        "    LogUri=\"s3://aws-logs-194680882756-us-east-2/elasticmapreduce/\",\n",
        "    ReleaseLabel= '{}',\n",
        "    Steps=[{\"Name\": \"testJobGURU\",\n",
        "    'ActionOnFailure': 'CONTINUE',\n",
        "    'HadoopJarStep': {\n",
        "    'Jar': 'command-runner.jar',\n",
        "    'Args': spark_submit\n",
        "    }\n",
        "    }],\n",
        "    BootstrapActions=[],\n",
        "    VisibleToAllUsers=True,\n",
        "    JobFlowRole=\"EMR_EC2_DefaultRole\",\n",
        "    ServiceRole=\"EMR_DefaultRole\",\n",
        "    Applications = [ {'Name': 'Spark'},{'Name':'Hive'}])\n",
        "    print(cluster_id)"
      ],
      "metadata": {
        "id": "IHT1OdxHqk0o"
      },
      "execution_count": 9,
      "outputs": []
    },
    {
      "cell_type": "code",
      "source": [
        "lambda_handler(event, 0)"
      ],
      "metadata": {
        "colab": {
          "base_uri": "https://localhost:8080/"
        },
        "id": "HE3bvYEDuT_u",
        "outputId": "8b17200f-3578-4f68-a3fd-1f823cf8bf14"
      },
      "execution_count": 10,
      "outputs": [
        {
          "output_type": "stream",
          "name": "stdout",
          "text": [
            "File Name :  iris.csv\n",
            "Bucket Name :  sourcedemotesingset\n",
            "Spark Submit :  ['spark-submit', '--master', 'yarn', '--deploy-mode', 'cluster', 's3://codetestingsetdemo/sparkdemo.py', 'sourcedemotesingset', 'iris.csv']\n",
            "{'JobFlowId': 'j-1E0I1EQJ4WZTD', 'ClusterArn': 'arn:aws:elasticmapreduce:us-east-2:194680882756:cluster/j-1E0I1EQJ4WZTD', 'ResponseMetadata': {'RequestId': 'c80b327f-0287-4941-b3f6-dc6ca19aeef2', 'HTTPStatusCode': 200, 'HTTPHeaders': {'x-amzn-requestid': 'c80b327f-0287-4941-b3f6-dc6ca19aeef2', 'content-type': 'application/x-amz-json-1.1', 'content-length': '118', 'date': 'Mon, 17 Jan 2022 15:54:55 GMT'}, 'RetryAttempts': 0}}\n"
          ]
        }
      ]
    },
    {
      "cell_type": "code",
      "source": [
        ""
      ],
      "metadata": {
        "id": "R1JRLbu-udEK"
      },
      "execution_count": null,
      "outputs": []
    }
  ]
}