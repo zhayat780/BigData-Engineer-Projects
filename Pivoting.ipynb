{
  "nbformat": 4,
  "nbformat_minor": 0,
  "metadata": {
    "colab": {
      "name": "Untitled14.ipynb",
      "provenance": []
    },
    "kernelspec": {
      "name": "python3",
      "display_name": "Python 3"
    }
  },
  "cells": [
    {
      "cell_type": "code",
      "metadata": {
        "colab": {
          "base_uri": "https://localhost:8080/"
        },
        "id": "G6xIl8cWzxph",
        "outputId": "6599c59c-431d-48cd-e30e-e63729985187"
      },
      "source": [
        "!pip install pyspark"
      ],
      "execution_count": 1,
      "outputs": [
        {
          "output_type": "stream",
          "text": [
            "Collecting pyspark\n",
            "\u001b[?25l  Downloading https://files.pythonhosted.org/packages/27/67/5158f846202d7f012d1c9ca21c3549a58fd3c6707ae8ee823adcaca6473c/pyspark-3.0.2.tar.gz (204.8MB)\n",
            "\u001b[K     |████████████████████████████████| 204.8MB 79kB/s \n",
            "\u001b[?25hCollecting py4j==0.10.9\n",
            "\u001b[?25l  Downloading https://files.pythonhosted.org/packages/9e/b6/6a4fb90cd235dc8e265a6a2067f2a2c99f0d91787f06aca4bcf7c23f3f80/py4j-0.10.9-py2.py3-none-any.whl (198kB)\n",
            "\u001b[K     |████████████████████████████████| 204kB 19.2MB/s \n",
            "\u001b[?25hBuilding wheels for collected packages: pyspark\n",
            "  Building wheel for pyspark (setup.py) ... \u001b[?25l\u001b[?25hdone\n",
            "  Created wheel for pyspark: filename=pyspark-3.0.2-py2.py3-none-any.whl size=205186687 sha256=adb2dc1ddc5206b5f8b46490533def033ae6292499d1f997b83f77182b7a9a1a\n",
            "  Stored in directory: /root/.cache/pip/wheels/8b/09/da/c1f2859bcc86375dc972c5b6af4881b3603269bcc4c9be5d16\n",
            "Successfully built pyspark\n",
            "Installing collected packages: py4j, pyspark\n",
            "Successfully installed py4j-0.10.9 pyspark-3.0.2\n"
          ],
          "name": "stdout"
        }
      ]
    },
    {
      "cell_type": "code",
      "metadata": {
        "id": "76knLHJmz6Xq"
      },
      "source": [
        "from pyspark.sql import SparkSession"
      ],
      "execution_count": 2,
      "outputs": []
    },
    {
      "cell_type": "code",
      "metadata": {
        "id": "8uZBrnvN0P57"
      },
      "source": [
        "spark=SparkSession.builder.appName(\"Text_Data_Processing\").getOrCreate()"
      ],
      "execution_count": 3,
      "outputs": []
    },
    {
      "cell_type": "code",
      "metadata": {
        "id": "IVcaYDbz0qTv"
      },
      "source": [
        "import pandas as pd"
      ],
      "execution_count": 4,
      "outputs": []
    },
    {
      "cell_type": "code",
      "metadata": {
        "id": "01rYF-640yKR"
      },
      "source": [
        "ms={\"Product\":['Banana','Carrots','Beans','Orange','Orange','Banana','Carrots','Beans','Orange','Banana','Carrots','Beans'],\r\n",
        "    \"Amount\":[1000,1500,1600,2000,2000,400,1200,1500,4000,2000,2000,2000],\r\n",
        "    \"Country\":['USA','USA','USA','USA','USA','China','China','China','China','Canada','Canada','Mexico']};\r\n",
        "gs=pd.DataFrame(ms)"
      ],
      "execution_count": 20,
      "outputs": []
    },
    {
      "cell_type": "code",
      "metadata": {
        "colab": {
          "base_uri": "https://localhost:8080/",
          "height": 198
        },
        "id": "Ty1bwQhJaFzE",
        "outputId": "0fe31592-ef0e-4f17-f41a-e7b77f11ef69"
      },
      "source": [
        "gs.head(5)"
      ],
      "execution_count": 32,
      "outputs": [
        {
          "output_type": "execute_result",
          "data": {
            "text/html": [
              "<div>\n",
              "<style scoped>\n",
              "    .dataframe tbody tr th:only-of-type {\n",
              "        vertical-align: middle;\n",
              "    }\n",
              "\n",
              "    .dataframe tbody tr th {\n",
              "        vertical-align: top;\n",
              "    }\n",
              "\n",
              "    .dataframe thead th {\n",
              "        text-align: right;\n",
              "    }\n",
              "</style>\n",
              "<table border=\"1\" class=\"dataframe\">\n",
              "  <thead>\n",
              "    <tr style=\"text-align: right;\">\n",
              "      <th></th>\n",
              "      <th>Product</th>\n",
              "      <th>Amount</th>\n",
              "      <th>Country</th>\n",
              "    </tr>\n",
              "  </thead>\n",
              "  <tbody>\n",
              "    <tr>\n",
              "      <th>0</th>\n",
              "      <td>Banana</td>\n",
              "      <td>1000</td>\n",
              "      <td>USA</td>\n",
              "    </tr>\n",
              "    <tr>\n",
              "      <th>1</th>\n",
              "      <td>Carrots</td>\n",
              "      <td>1500</td>\n",
              "      <td>USA</td>\n",
              "    </tr>\n",
              "    <tr>\n",
              "      <th>2</th>\n",
              "      <td>Beans</td>\n",
              "      <td>1600</td>\n",
              "      <td>USA</td>\n",
              "    </tr>\n",
              "    <tr>\n",
              "      <th>3</th>\n",
              "      <td>Orange</td>\n",
              "      <td>2000</td>\n",
              "      <td>USA</td>\n",
              "    </tr>\n",
              "    <tr>\n",
              "      <th>4</th>\n",
              "      <td>Orange</td>\n",
              "      <td>2000</td>\n",
              "      <td>USA</td>\n",
              "    </tr>\n",
              "  </tbody>\n",
              "</table>\n",
              "</div>"
            ],
            "text/plain": [
              "   Product  Amount Country\n",
              "0   Banana    1000     USA\n",
              "1  Carrots    1500     USA\n",
              "2    Beans    1600     USA\n",
              "3   Orange    2000     USA\n",
              "4   Orange    2000     USA"
            ]
          },
          "metadata": {
            "tags": []
          },
          "execution_count": 32
        }
      ]
    },
    {
      "cell_type": "code",
      "metadata": {
        "colab": {
          "base_uri": "https://localhost:8080/"
        },
        "id": "COLw4riFaHAm",
        "outputId": "b66c5864-17b7-4dd2-988b-190520472fdd"
      },
      "source": [
        "data=spark.createDataFrame(gs);\r\n",
        "data.show()"
      ],
      "execution_count": 22,
      "outputs": [
        {
          "output_type": "stream",
          "text": [
            "+-------+------+-------+\n",
            "|Product|Amount|Country|\n",
            "+-------+------+-------+\n",
            "| Banana|  1000|    USA|\n",
            "|Carrots|  1500|    USA|\n",
            "|  Beans|  1600|    USA|\n",
            "| Orange|  2000|    USA|\n",
            "| Orange|  2000|    USA|\n",
            "| Banana|   400|  China|\n",
            "|Carrots|  1200|  China|\n",
            "|  Beans|  1500|  China|\n",
            "| Orange|  4000|  China|\n",
            "| Banana|  2000| Canada|\n",
            "|Carrots|  2000| Canada|\n",
            "|  Beans|  2000| Mexico|\n",
            "+-------+------+-------+\n",
            "\n"
          ],
          "name": "stdout"
        }
      ]
    },
    {
      "cell_type": "code",
      "metadata": {
        "colab": {
          "base_uri": "https://localhost:8080/"
        },
        "id": "42kbvfr_bj9a",
        "outputId": "7ab87279-9bb2-469b-e9c5-7b789608236c"
      },
      "source": [
        "data.count()"
      ],
      "execution_count": 30,
      "outputs": [
        {
          "output_type": "execute_result",
          "data": {
            "text/plain": [
              "12"
            ]
          },
          "metadata": {
            "tags": []
          },
          "execution_count": 30
        }
      ]
    },
    {
      "cell_type": "code",
      "metadata": {
        "id": "HDd-8PUKaTe2"
      },
      "source": [
        "from pyspark.sql.functions import *"
      ],
      "execution_count": 23,
      "outputs": []
    },
    {
      "cell_type": "code",
      "metadata": {
        "colab": {
          "base_uri": "https://localhost:8080/"
        },
        "id": "TMv-f1W_aMOv",
        "outputId": "e383694d-f76e-44ff-f3b2-721ff40b81cf"
      },
      "source": [
        "data.groupBy('Product').agg(sum('Amount')).show()"
      ],
      "execution_count": 27,
      "outputs": [
        {
          "output_type": "stream",
          "text": [
            "+-------+-----------+\n",
            "|Product|sum(Amount)|\n",
            "+-------+-----------+\n",
            "| Orange|       8000|\n",
            "|  Beans|       5100|\n",
            "| Banana|       3400|\n",
            "|Carrots|       4700|\n",
            "+-------+-----------+\n",
            "\n"
          ],
          "name": "stdout"
        }
      ]
    },
    {
      "cell_type": "code",
      "metadata": {
        "colab": {
          "base_uri": "https://localhost:8080/"
        },
        "id": "LZzpi3sGa0nL",
        "outputId": "7ea985d0-69c2-454b-c9a9-a07a6f800f0a"
      },
      "source": [
        "data.groupBy('Product','Country').agg(sum('Amount')).show()"
      ],
      "execution_count": 29,
      "outputs": [
        {
          "output_type": "stream",
          "text": [
            "+-------+-------+-----------+\n",
            "|Product|Country|sum(Amount)|\n",
            "+-------+-------+-----------+\n",
            "| Orange|  China|       4000|\n",
            "| Banana|  China|        400|\n",
            "|Carrots|    USA|       1500|\n",
            "|Carrots|  China|       1200|\n",
            "| Banana|    USA|       1000|\n",
            "|Carrots| Canada|       2000|\n",
            "|  Beans|    USA|       1600|\n",
            "|  Beans| Mexico|       2000|\n",
            "| Orange|    USA|       4000|\n",
            "| Banana| Canada|       2000|\n",
            "|  Beans|  China|       1500|\n",
            "+-------+-------+-----------+\n",
            "\n"
          ],
          "name": "stdout"
        }
      ]
    },
    {
      "cell_type": "code",
      "metadata": {
        "colab": {
          "base_uri": "https://localhost:8080/"
        },
        "id": "TlzenbB8bWrE",
        "outputId": "05eb248e-2a45-4406-c809-33c79648407f"
      },
      "source": [
        "data.groupBy('Product','Country').agg(sum('Amount')).count()"
      ],
      "execution_count": 31,
      "outputs": [
        {
          "output_type": "execute_result",
          "data": {
            "text/plain": [
              "11"
            ]
          },
          "metadata": {
            "tags": []
          },
          "execution_count": 31
        }
      ]
    },
    {
      "cell_type": "markdown",
      "metadata": {
        "id": "vCsT3LtNa_nr"
      },
      "source": [
        "Spark SQL provides pivot() function to rotate the data from one column into multiple columns (transpose row to column).\r\n",
        "\r\n",
        "It is an aggregation where one of the grouping columns values transposed into individual columns with distinct data. "
      ]
    },
    {
      "cell_type": "code",
      "metadata": {
        "colab": {
          "base_uri": "https://localhost:8080/"
        },
        "id": "D4Qzg5cGabRs",
        "outputId": "676dea6c-4141-4bce-ce0b-1403c71bff18"
      },
      "source": [
        "data.groupBy('Product').pivot('Country').agg(sum('Amount')).show()"
      ],
      "execution_count": 28,
      "outputs": [
        {
          "output_type": "stream",
          "text": [
            "+-------+------+-----+------+----+\n",
            "|Product|Canada|China|Mexico| USA|\n",
            "+-------+------+-----+------+----+\n",
            "| Orange|  null| 4000|  null|4000|\n",
            "|  Beans|  null| 1500|  2000|1600|\n",
            "| Banana|  2000|  400|  null|1000|\n",
            "|Carrots|  2000| 1200|  null|1500|\n",
            "+-------+------+-----+------+----+\n",
            "\n"
          ],
          "name": "stdout"
        }
      ]
    }
  ]
}
