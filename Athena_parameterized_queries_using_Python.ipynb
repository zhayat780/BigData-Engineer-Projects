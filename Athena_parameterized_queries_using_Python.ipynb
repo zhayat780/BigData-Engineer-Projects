{
  "nbformat": 4,
  "nbformat_minor": 0,
  "metadata": {
    "colab": {
      "provenance": [],
      "authorship_tag": "ABX9TyNdngUk0qyyBEuQPjNIluLP",
      "include_colab_link": true
    },
    "kernelspec": {
      "name": "python3",
      "display_name": "Python 3"
    },
    "language_info": {
      "name": "python"
    }
  },
  "cells": [
    {
      "cell_type": "markdown",
      "metadata": {
        "id": "view-in-github",
        "colab_type": "text"
      },
      "source": [
        "<a href=\"https://colab.research.google.com/github/SatadruMukherjee/Data-Preprocessing-Models/blob/main/Athena_parameterized_queries_using_Python.ipynb\" target=\"_parent\"><img src=\"https://colab.research.google.com/assets/colab-badge.svg\" alt=\"Open In Colab\"/></a>"
      ]
    },
    {
      "cell_type": "markdown",
      "source": [
        "Athena Queries:\n",
        "-----------------\n",
        "\n",
        "drop table if exists irisdemo;\n",
        "\n",
        "create external table irisdemo (sepal_length double,sepal_width double,petal_length double,petal_width double,variety String)\n",
        "ROW FORMAT SERDE 'org.apache.hadoop.hive.serde2.OpenCSVSerde'\n",
        "WITH SERDEPROPERTIES (\n",
        "'separatorChar' = ',',\n",
        "'quoteChar' = '\"',\n",
        "'escapeChar' = '\\\\'\n",
        ")\n",
        "STORED AS TEXTFILE\n",
        "LOCATION 's3://irisseta/'  TBLPROPERTIES (\"skip.header.line.count\"=\"1\");\n",
        "\n",
        "select * from irisdemo;\n",
        "\n",
        "select sum(sepal_length) from irisdemo where variety='Setosa';--250.29999999999998\n",
        "\n",
        "\n",
        "\n",
        "\n",
        "select sum(sepal_length) from irisdemo where variety='Virginica';--329.3999999999999\n",
        "\n",
        "\n",
        "\n",
        "\n",
        "select sum(sepal_length) from irisdemo where variety='Versicolor';--296.8\n",
        "\n",
        "--to create the Prepared Statement\n",
        "\n",
        "PREPARE iris_fulla FROM\n",
        "SELECT sum(sepal_length)\n",
        "FROM irisdemo\n",
        "WHERE variety = ? ;\n",
        "\n",
        "--to execute the Prepared Statement\n",
        "\n",
        "EXECUTE iris_fulla USING 'Versicolor';\n",
        "\n",
        "--to remove the prepared statement\n",
        "\n",
        "DEALLOCATE PREPARE iris_fulla;\n",
        "\n",
        "\n",
        "\n"
      ],
      "metadata": {
        "id": "K_eE6mM25st0"
      }
    },
    {
      "cell_type": "code",
      "source": [
        "!pip install boto3"
      ],
      "metadata": {
        "id": "RMRiWEN4t4d_"
      },
      "execution_count": null,
      "outputs": []
    },
    {
      "cell_type": "code",
      "source": [
        "import boto3"
      ],
      "metadata": {
        "id": "ElrhSyp_y68-"
      },
      "execution_count": null,
      "outputs": []
    },
    {
      "cell_type": "code",
      "source": [
        "access_key=''\n",
        "secret_key=''"
      ],
      "metadata": {
        "id": "riF2ptlWzHEl"
      },
      "execution_count": null,
      "outputs": []
    },
    {
      "cell_type": "code",
      "source": [
        "session = boto3.Session(\n",
        "    aws_access_key_id=access_key,\n",
        "    aws_secret_access_key=secret_key,region_name='us-east-1'\n",
        ")"
      ],
      "metadata": {
        "id": "WPEFuJTaz29S"
      },
      "execution_count": null,
      "outputs": []
    },
    {
      "cell_type": "code",
      "source": [
        "athena_client = session.client('athena')"
      ],
      "metadata": {
        "id": "KdTOiNOxzVt9"
      },
      "execution_count": null,
      "outputs": []
    },
    {
      "cell_type": "code",
      "source": [
        "query_to_be_executed=\"{}\""
      ],
      "metadata": {
        "id": "S9eCyOfIYU9P"
      },
      "execution_count": null,
      "outputs": []
    },
    {
      "cell_type": "code",
      "source": [
        "athena_query_response = athena_client.start_query_execution(\n",
        "                              QueryString = query_to_be_executed,\n",
        "                              QueryExecutionContext = {\n",
        "                                  'Database': \"{}\"\n",
        "                              },\n",
        "                              ResultConfiguration = {\n",
        "                                  'OutputLocation': \"{}\"\n",
        "                              }\n",
        "                            )\n",
        "athena_query_execution_id = athena_query_response['QueryExecutionId']\n",
        "\n",
        "while True:\n",
        "   athena_query_execution_status = athena_client.get_query_execution(QueryExecutionId=athena_query_execution_id)\n",
        "   athena_query_state = athena_query_execution_status['QueryExecution']['Status']['State']\n",
        "   if athena_query_state==\"QUEUED\" or athena_query_state==\"RUNNING\":\n",
        "     continue\n",
        "   else:\n",
        "     break\n",
        "response = athena_client.get_query_results(\n",
        "    QueryExecutionId=athena_query_execution_id\n",
        ")"
      ],
      "metadata": {
        "id": "nOt7VEoIndKu"
      },
      "execution_count": null,
      "outputs": []
    },
    {
      "cell_type": "code",
      "source": [
        "response"
      ],
      "metadata": {
        "id": "HJXWtBxBq3fi"
      },
      "execution_count": null,
      "outputs": []
    },
    {
      "cell_type": "code",
      "source": [
        "athena_query_execution_id"
      ],
      "metadata": {
        "id": "ZJoL8s7cq6N0"
      },
      "execution_count": null,
      "outputs": []
    },
    {
      "cell_type": "code",
      "source": [],
      "metadata": {
        "id": "NlaJLsXJsGjd"
      },
      "execution_count": null,
      "outputs": []
    }
  ]
}