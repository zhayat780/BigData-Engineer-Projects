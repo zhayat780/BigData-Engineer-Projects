{
  "nbformat": 4,
  "nbformat_minor": 0,
  "metadata": {
    "colab": {
      "name": "Untitled34.ipynb",
      "provenance": [],
      "authorship_tag": "ABX9TyNWO4wp9Kr9NXIDVr9ZToB0",
      "include_colab_link": true
    },
    "kernelspec": {
      "name": "python3",
      "display_name": "Python 3"
    },
    "language_info": {
      "name": "python"
    }
  },
  "cells": [
    {
      "cell_type": "markdown",
      "metadata": {
        "id": "view-in-github",
        "colab_type": "text"
      },
      "source": [
        "<a href=\"https://colab.research.google.com/github/SatadruMukherjee/Data-Preprocessing-Models/blob/main/Using%20KMS%20for%20Client%20Side%20Encryption.ipynb\" target=\"_parent\"><img src=\"https://colab.research.google.com/assets/colab-badge.svg\" alt=\"Open In Colab\"/></a>"
      ]
    },
    {
      "cell_type": "code",
      "source": [
        "!pip install boto3"
      ],
      "metadata": {
        "id": "PIkaBDNo6ep3"
      },
      "execution_count": null,
      "outputs": []
    },
    {
      "cell_type": "code",
      "source": [
        "!pip install cryptography"
      ],
      "metadata": {
        "id": "8PYsz9He9Dq-"
      },
      "execution_count": null,
      "outputs": []
    },
    {
      "cell_type": "code",
      "source": [
        "import boto3\n",
        "import base64\n",
        "import logging\n",
        "from cryptography.fernet import Fernet"
      ],
      "metadata": {
        "id": "wuVKn7e77D8J"
      },
      "execution_count": 9,
      "outputs": []
    },
    {
      "cell_type": "markdown",
      "source": [
        "**Fernet guarantees that a message encrypted using it cannot be manipulated or read without the key.**\n",
        "**Fernet is an implementation of symmetric (also known as “secret key”) authenticated cryptography.**\n"
      ],
      "metadata": {
        "id": "HFFahDEcPkjn"
      }
    },
    {
      "cell_type": "code",
      "source": [
        "aws_access_key=\"{}\"\n",
        "aws_secret_key=\"{}\""
      ],
      "metadata": {
        "id": "wo38qR6O7Fmv"
      },
      "execution_count": 3,
      "outputs": []
    },
    {
      "cell_type": "code",
      "source": [
        "import boto3\n",
        "session = boto3.Session(\n",
        "    aws_access_key_id=aws_access_key,\n",
        "    aws_secret_access_key=aws_secret_key,\n",
        "    region_name='{}'\n",
        ")"
      ],
      "metadata": {
        "id": "tlRRFH-p7cVc"
      },
      "execution_count": 4,
      "outputs": []
    },
    {
      "cell_type": "code",
      "source": [
        "kms_client=session.client('kms')"
      ],
      "metadata": {
        "id": "oMmEfCos7vUb"
      },
      "execution_count": 5,
      "outputs": []
    },
    {
      "cell_type": "code",
      "execution_count": 6,
      "metadata": {
        "id": "z3HztgGl5dzE"
      },
      "outputs": [],
      "source": [
        "def create_data_key(cmk_id, key_spec='AES_256'):\n",
        "    \"\"\"Generate a data key to use when encrypting and decrypting data\n",
        "\n",
        "    :param cmk_id: KMS CMK ID or ARN under which to generate and encrypt the\n",
        "    data key.\n",
        "    :param key_spec: Length of the data encryption key. Supported values:\n",
        "        'AES_128': Generate a 128-bit symmetric key\n",
        "        'AES_256': Generate a 256-bit symmetric key\n",
        "    :return Tuple(EncryptedDataKey, PlaintextDataKey) where:\n",
        "        EncryptedDataKey: Encrypted CiphertextBlob data key as binary string\n",
        "        PlaintextDataKey: Plaintext base64-encoded data key as binary string\n",
        "    :return Tuple(None, None) if error\n",
        "    \"\"\"\n",
        "    try:\n",
        "        response = kms_client.generate_data_key(KeyId=cmk_id, KeySpec=key_spec)\n",
        "    except ClientError as e:\n",
        "        logging.error(e)\n",
        "        return None, None\n",
        "\n",
        "    # Return the encrypted and plaintext data key\n",
        "    return response['CiphertextBlob'], base64.b64encode(response['Plaintext']).decode(encoding=\"utf-8\")"
      ]
    },
    {
      "cell_type": "code",
      "source": [
        "ms=create_data_key('{}', key_spec='AES_256')"
      ],
      "metadata": {
        "id": "6ow4UuA5-BKS"
      },
      "execution_count": 10,
      "outputs": []
    },
    {
      "cell_type": "code",
      "source": [
        "data_key=ms[1]\n",
        "print(data_key)"
      ],
      "metadata": {
        "id": "UssdSYjbJjzG"
      },
      "execution_count": null,
      "outputs": []
    },
    {
      "cell_type": "code",
      "source": [
        "absolute_file_path_to_be_encrypted=input('Enter the filepath : ');\n",
        "encrpted_file_name_with_path=input('Enter the output filepath : ');\n",
        "\n",
        "f = Fernet(data_key)\n",
        "\n",
        "with open(absolute_file_path_to_be_encrypted, 'rb') as original_file:\n",
        "    original = original_file.read()\n",
        "\n",
        "encrypted = f.encrypt(original)\n",
        "\n",
        "with open (encrpted_file_name_with_path, 'wb') as encrypted_file:\n",
        "    encrypted_file.write(encrypted)"
      ],
      "metadata": {
        "id": "xWxRlgwe8yiu"
      },
      "execution_count": null,
      "outputs": []
    },
    {
      "cell_type": "code",
      "source": [
        "with open(encrpted_file_name_with_path, 'rb') as encrypted_file:\n",
        "    encrypted = encrypted_file.read()\n",
        "\n",
        "decrypted = f.decrypt(encrypted)\n",
        "\n",
        "with open('testingdecode.txt', 'wb') as decrypted_file:\n",
        "    decrypted_file.write(decrypted)"
      ],
      "metadata": {
        "id": "SLtm5vqaJ12Y"
      },
      "execution_count": 14,
      "outputs": []
    },
    {
      "cell_type": "code",
      "source": [
        ""
      ],
      "metadata": {
        "id": "i-GdMLFMNPVf"
      },
      "execution_count": 48,
      "outputs": []
    }
  ]
}