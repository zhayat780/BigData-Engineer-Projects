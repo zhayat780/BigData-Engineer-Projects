{
  "nbformat": 4,
  "nbformat_minor": 0,
  "metadata": {
    "colab": {
      "name": "Publisher.ipynb",
      "provenance": [],
      "collapsed_sections": [],
      "authorship_tag": "ABX9TyNFy2Yb/5jJHJsScPH7V2Ye",
      "include_colab_link": true
    },
    "kernelspec": {
      "name": "python3",
      "display_name": "Python 3"
    },
    "language_info": {
      "name": "python"
    }
  },
  "cells": [
    {
      "cell_type": "markdown",
      "metadata": {
        "id": "view-in-github",
        "colab_type": "text"
      },
      "source": [
        "<a href=\"https://colab.research.google.com/github/SatadruMukherjee/Data-Preprocessing-Models/blob/main/Publisher%20SQS.ipynb\" target=\"_parent\"><img src=\"https://colab.research.google.com/assets/colab-badge.svg\" alt=\"Open In Colab\"/></a>"
      ]
    },
    {
      "cell_type": "code",
      "execution_count": 1,
      "metadata": {
        "colab": {
          "base_uri": "https://localhost:8080/"
        },
        "id": "A0lgQNu7c2jk",
        "outputId": "d6b3b043-6fda-47ec-82bc-b4ded0eb87a5"
      },
      "outputs": [
        {
          "output_type": "stream",
          "name": "stdout",
          "text": [
            "Collecting boto3\n",
            "  Downloading boto3-1.23.0-py3-none-any.whl (132 kB)\n",
            "\u001b[?25l\r\u001b[K     |██▌                             | 10 kB 19.6 MB/s eta 0:00:01\r\u001b[K     |█████                           | 20 kB 11.4 MB/s eta 0:00:01\r\u001b[K     |███████▍                        | 30 kB 9.2 MB/s eta 0:00:01\r\u001b[K     |██████████                      | 40 kB 8.4 MB/s eta 0:00:01\r\u001b[K     |████████████▍                   | 51 kB 4.5 MB/s eta 0:00:01\r\u001b[K     |██████████████▉                 | 61 kB 5.3 MB/s eta 0:00:01\r\u001b[K     |█████████████████▎              | 71 kB 5.2 MB/s eta 0:00:01\r\u001b[K     |███████████████████▉            | 81 kB 5.3 MB/s eta 0:00:01\r\u001b[K     |██████████████████████▎         | 92 kB 5.9 MB/s eta 0:00:01\r\u001b[K     |████████████████████████▊       | 102 kB 5.0 MB/s eta 0:00:01\r\u001b[K     |███████████████████████████▏    | 112 kB 5.0 MB/s eta 0:00:01\r\u001b[K     |█████████████████████████████▊  | 122 kB 5.0 MB/s eta 0:00:01\r\u001b[K     |████████████████████████████████| 132 kB 5.0 MB/s \n",
            "\u001b[?25hCollecting jmespath<2.0.0,>=0.7.1\n",
            "  Downloading jmespath-1.0.0-py3-none-any.whl (23 kB)\n",
            "Collecting botocore<1.27.0,>=1.26.0\n",
            "  Downloading botocore-1.26.0-py3-none-any.whl (8.7 MB)\n",
            "\u001b[K     |████████████████████████████████| 8.7 MB 46.6 MB/s \n",
            "\u001b[?25hCollecting s3transfer<0.6.0,>=0.5.0\n",
            "  Downloading s3transfer-0.5.2-py3-none-any.whl (79 kB)\n",
            "\u001b[K     |████████████████████████████████| 79 kB 7.6 MB/s \n",
            "\u001b[?25hCollecting urllib3<1.27,>=1.25.4\n",
            "  Downloading urllib3-1.26.9-py2.py3-none-any.whl (138 kB)\n",
            "\u001b[K     |████████████████████████████████| 138 kB 67.5 MB/s \n",
            "\u001b[?25hRequirement already satisfied: python-dateutil<3.0.0,>=2.1 in /usr/local/lib/python3.7/dist-packages (from botocore<1.27.0,>=1.26.0->boto3) (2.8.2)\n",
            "Requirement already satisfied: six>=1.5 in /usr/local/lib/python3.7/dist-packages (from python-dateutil<3.0.0,>=2.1->botocore<1.27.0,>=1.26.0->boto3) (1.15.0)\n",
            "Installing collected packages: urllib3, jmespath, botocore, s3transfer, boto3\n",
            "  Attempting uninstall: urllib3\n",
            "    Found existing installation: urllib3 1.24.3\n",
            "    Uninstalling urllib3-1.24.3:\n",
            "      Successfully uninstalled urllib3-1.24.3\n",
            "\u001b[31mERROR: pip's dependency resolver does not currently take into account all the packages that are installed. This behaviour is the source of the following dependency conflicts.\n",
            "requests 2.23.0 requires urllib3!=1.25.0,!=1.25.1,<1.26,>=1.21.1, but you have urllib3 1.26.9 which is incompatible.\n",
            "datascience 0.10.6 requires folium==0.2.1, but you have folium 0.8.3 which is incompatible.\u001b[0m\n",
            "Successfully installed boto3-1.23.0 botocore-1.26.0 jmespath-1.0.0 s3transfer-0.5.2 urllib3-1.26.9\n"
          ]
        }
      ],
      "source": [
        "!pip install boto3"
      ]
    },
    {
      "cell_type": "code",
      "source": [
        "import json\n",
        "import boto3\n",
        "import datetime\n",
        "from datetime import date"
      ],
      "metadata": {
        "id": "xTyfiSFHdE2_"
      },
      "execution_count": 2,
      "outputs": []
    },
    {
      "cell_type": "code",
      "source": [
        "sqs_send= boto3.client('sqs',  aws_access_key_id='',\n",
        "aws_secret_access_key='', region_name='')"
      ],
      "metadata": {
        "id": "NJjda__Wi2kp"
      },
      "execution_count": 3,
      "outputs": []
    },
    {
      "cell_type": "code",
      "source": [
        "# Defining Custom Function to Send Message to Main Queue and Deleting it from DLQ \n",
        "def sendQueue(sendQueueUrl,messageBody,messageAttributes) :\n",
        "    # Calling Send Message API\n",
        "    ret = sqs_send.send_message( QueueUrl=sendQueueUrl, \n",
        "                            MessageBody=messageBody,\n",
        "                            MessageAttributes=messageAttributes) \n",
        "    return ret"
      ],
      "metadata": {
        "id": "zz4jVjAai49b"
      },
      "execution_count": 4,
      "outputs": []
    },
    {
      "cell_type": "code",
      "source": [
        "sendQueueUrl=\"\""
      ],
      "metadata": {
        "id": "KQmse4bZjjVW"
      },
      "execution_count": 5,
      "outputs": []
    },
    {
      "cell_type": "code",
      "source": [
        "MessageAttributes={\n",
        "    'Name': {\n",
        "        'StringValue': 'Satadru Mukherjee',\n",
        "        'DataType': 'String'\n",
        "    },\n",
        "    'Age': {\n",
        "        'StringValue': '50',\n",
        "        'DataType': 'Number'\n",
        "    }}\n",
        "messageBody='''{\"Name\":\"Satadru\",\"Age\":200'''\n",
        "response = sendQueue(sendQueueUrl,messageBody,MessageAttributes)"
      ],
      "metadata": {
        "id": "hHuq4pMSi7GE"
      },
      "execution_count": 6,
      "outputs": []
    },
    {
      "cell_type": "code",
      "source": [
        ""
      ],
      "metadata": {
        "id": "xFn-lq9yjz1S"
      },
      "execution_count": null,
      "outputs": []
    }
  ]
}