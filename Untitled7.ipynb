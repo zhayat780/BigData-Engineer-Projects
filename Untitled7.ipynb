{
  "nbformat": 4,
  "nbformat_minor": 0,
  "metadata": {
    "colab": {
      "name": "Untitled7.ipynb",
      "provenance": []
    },
    "kernelspec": {
      "name": "python3",
      "display_name": "Python 3"
    }
  },
  "cells": [
    {
      "cell_type": "code",
      "metadata": {
        "colab": {
          "base_uri": "https://localhost:8080/",
          "height": 498
        },
        "id": "tFzKvFxC2vdM",
        "outputId": "115d1a2e-7004-4cd7-f7b9-c5f2820c9730"
      },
      "source": [
        "!apt-get update\r\n",
        "!apt-get install openjdk-8-jdk-headless -qq > /dev/null\r\n",
        "!wget -q htt  https://archive.apache.org/dist/spark/spark-2.3.1/spark-2.3.1-bin-hadoop2.7.tgz\r\n",
        "!tar xf spark-2.3.1-bin-hadoop2.7.tgz\r\n",
        "!pip install -q findspark\r\n",
        "\r\n",
        "import os\r\n",
        "os.environ[\"JAVA_HOME\"] = \"/usr/lib/jvm/java-8-openjdk-amd64\"\r\n",
        "os.environ[\"SPARK_HOME\"] = \"/content/spark-2.3.1-bin-hadoop2.7\"\r\n",
        "\r\n",
        "import findspark\r\n",
        "findspark.init()\r\n",
        "from pyspark.sql import SparkSession\r\n",
        "spark = SparkSession.builder.getOrCreate()\r\n",
        "spark"
      ],
      "execution_count": 1,
      "outputs": [
        {
          "output_type": "stream",
          "text": [
            "\r0% [Working]\r            \rGet:1 https://cloud.r-project.org/bin/linux/ubuntu bionic-cran40/ InRelease [3,626 B]\n",
            "\r0% [Connecting to archive.ubuntu.com] [Waiting for headers] [1 InRelease 0 B/3,\r0% [Connecting to archive.ubuntu.com] [Waiting for headers] [Connecting to ppa.\r0% [1 InRelease gpgv 3,626 B] [Connecting to archive.ubuntu.com] [Waiting for h\r                                                                               \rIgn:2 https://developer.download.nvidia.com/compute/cuda/repos/ubuntu1804/x86_64  InRelease\n",
            "\r0% [1 InRelease gpgv 3,626 B] [Connecting to archive.ubuntu.com] [Waiting for h\r                                                                               \rIgn:3 https://developer.download.nvidia.com/compute/machine-learning/repos/ubuntu1804/x86_64  InRelease\n",
            "\r0% [1 InRelease gpgv 3,626 B] [Connecting to archive.ubuntu.com] [Waiting for h\r                                                                               \rGet:4 http://security.ubuntu.com/ubuntu bionic-security InRelease [88.7 kB]\n",
            "\r0% [1 InRelease gpgv 3,626 B] [Connecting to archive.ubuntu.com] [4 InRelease 1\r                                                                               \rHit:5 https://developer.download.nvidia.com/compute/cuda/repos/ubuntu1804/x86_64  Release\n",
            "Hit:6 https://developer.download.nvidia.com/compute/machine-learning/repos/ubuntu1804/x86_64  Release\n",
            "Get:7 http://ppa.launchpad.net/c2d4u.team/c2d4u4.0+/ubuntu bionic InRelease [15.9 kB]\n",
            "Get:8 https://cloud.r-project.org/bin/linux/ubuntu bionic-cran40/ Packages [41.5 kB]\n",
            "Hit:9 http://archive.ubuntu.com/ubuntu bionic InRelease\n",
            "Get:11 http://archive.ubuntu.com/ubuntu bionic-updates InRelease [88.7 kB]\n",
            "Hit:12 http://ppa.launchpad.net/cran/libgit2/ubuntu bionic InRelease\n",
            "Hit:14 http://ppa.launchpad.net/graphics-drivers/ppa/ubuntu bionic InRelease\n",
            "Get:15 http://archive.ubuntu.com/ubuntu bionic-backports InRelease [74.6 kB]\n",
            "Get:16 http://ppa.launchpad.net/c2d4u.team/c2d4u4.0+/ubuntu bionic/main Sources [1,700 kB]\n",
            "Get:17 http://ppa.launchpad.net/c2d4u.team/c2d4u4.0+/ubuntu bionic/main amd64 Packages [870 kB]\n",
            "Fetched 2,884 kB in 4s (818 kB/s)\n",
            "Reading package lists... Done\n"
          ],
          "name": "stdout"
        },
        {
          "output_type": "execute_result",
          "data": {
            "text/html": [
              "\n",
              "            <div>\n",
              "                <p><b>SparkSession - in-memory</b></p>\n",
              "                \n",
              "        <div>\n",
              "            <p><b>SparkContext</b></p>\n",
              "\n",
              "            <p><a href=\"http://a59661eaa666:4040\">Spark UI</a></p>\n",
              "\n",
              "            <dl>\n",
              "              <dt>Version</dt>\n",
              "                <dd><code>v2.3.1</code></dd>\n",
              "              <dt>Master</dt>\n",
              "                <dd><code>local[*]</code></dd>\n",
              "              <dt>AppName</dt>\n",
              "                <dd><code>pyspark-shell</code></dd>\n",
              "            </dl>\n",
              "        </div>\n",
              "        \n",
              "            </div>\n",
              "        "
            ],
            "text/plain": [
              "<pyspark.sql.session.SparkSession at 0x7fd2f7ed6a20>"
            ]
          },
          "metadata": {
            "tags": []
          },
          "execution_count": 1
        }
      ]
    },
    {
      "cell_type": "code",
      "metadata": {
        "id": "V2A3p9wcDvo5"
      },
      "source": [
        "from pyspark.sql.functions import *"
      ],
      "execution_count": 8,
      "outputs": []
    },
    {
      "cell_type": "code",
      "metadata": {
        "colab": {
          "base_uri": "https://localhost:8080/"
        },
        "id": "Dkm26H7e_ZLd",
        "outputId": "43f8cd37-991e-4cef-c741-349f39b7eb84"
      },
      "source": [
        "df=spark.read.format(\"csv\").option(\"header\",\"true\").option(\"inferschema\",\"true\").load(\"/content/College.csv\");\r\n",
        "df.show()"
      ],
      "execution_count": 9,
      "outputs": [
        {
          "output_type": "stream",
          "text": [
            "+--------------------+-------+----+------+------+---------+---------+-----------+-----------+--------+----------+-----+--------+---+--------+---------+-----------+------+---------+\n",
            "|              School|Private|Apps|Accept|Enroll|Top10perc|Top25perc|F_Undergrad|P_Undergrad|Outstate|Room_Board|Books|Personal|PhD|Terminal|S_F_Ratio|perc_alumni|Expend|Grad_Rate|\n",
            "+--------------------+-------+----+------+------+---------+---------+-----------+-----------+--------+----------+-----+--------+---+--------+---------+-----------+------+---------+\n",
            "|Abilene Christian...|    Yes|1660|  1232|   721|       23|       52|       2885|        537|    7440|      3300|  450|    2200| 70|      78|     18.1|         12|  7041|       60|\n",
            "|  Adelphi University|    Yes|2186|  1924|   512|       16|       29|       2683|       1227|   12280|      6450|  750|    1500| 29|      30|     12.2|         16| 10527|       56|\n",
            "|      Adrian College|    Yes|1428|  1097|   336|       22|       50|       1036|         99|   11250|      3750|  400|    1165| 53|      66|     12.9|         30|  8735|       54|\n",
            "| Agnes Scott College|    Yes| 417|   349|   137|       60|       89|        510|         63|   12960|      5450|  450|     875| 92|      97|      7.7|         37| 19016|       59|\n",
            "|Alaska Pacific Un...|    Yes| 193|   146|    55|       16|       44|        249|        869|    7560|      4120|  800|    1500| 76|      72|     11.9|          2| 10922|       15|\n",
            "|   Albertson College|    Yes| 587|   479|   158|       38|       62|        678|         41|   13500|      3335|  500|     675| 67|      73|      9.4|         11|  9727|       55|\n",
            "|Albertus Magnus C...|    Yes| 353|   340|   103|       17|       45|        416|        230|   13290|      5720|  500|    1500| 90|      93|     11.5|         26|  8861|       63|\n",
            "|      Albion College|    Yes|1899|  1720|   489|       37|       68|       1594|         32|   13868|      4826|  450|     850| 89|     100|     13.7|         37| 11487|       73|\n",
            "|    Albright College|    Yes|1038|   839|   227|       30|       63|        973|        306|   15595|      4400|  300|     500| 79|      84|     11.3|         23| 11644|       80|\n",
            "|Alderson-Broaddus...|    Yes| 582|   498|   172|       21|       44|        799|         78|   10468|      3380|  660|    1800| 40|      41|     11.5|         15|  8991|       52|\n",
            "|   Alfred University|    Yes|1732|  1425|   472|       37|       75|       1830|        110|   16548|      5406|  500|     600| 82|      88|     11.3|         31| 10932|       73|\n",
            "|   Allegheny College|    Yes|2652|  1900|   484|       44|       77|       1707|         44|   17080|      4440|  400|     600| 73|      91|      9.9|         41| 11711|       76|\n",
            "|Allentown Coll. o...|    Yes|1179|   780|   290|       38|       64|       1130|        638|    9690|      4785|  600|    1000| 60|      84|     13.3|         21|  7940|       74|\n",
            "|        Alma College|    Yes|1267|  1080|   385|       44|       73|       1306|         28|   12572|      4552|  400|     400| 79|      87|     15.3|         32|  9305|       68|\n",
            "|     Alverno College|    Yes| 494|   313|   157|       23|       46|       1317|       1235|    8352|      3640|  650|    2449| 36|      69|     11.1|         26|  8127|       55|\n",
            "|American Internat...|    Yes|1420|  1093|   220|        9|       22|       1018|        287|    8700|      4780|  450|    1400| 78|      84|     14.7|         19|  7355|       69|\n",
            "|     Amherst College|    Yes|4302|   992|   418|       83|       96|       1593|          5|   19760|      5300|  660|    1598| 93|      98|      8.4|         63| 21424|      100|\n",
            "| Anderson University|    Yes|1216|   908|   423|       19|       40|       1819|        281|   10100|      3520|  550|    1100| 48|      61|     12.1|         14|  7994|       59|\n",
            "|  Andrews University|    Yes|1130|   704|   322|       14|       23|       1586|        326|    9996|      3090|  900|    1320| 62|      66|     11.5|         18| 10908|       46|\n",
            "|Angelo State Univ...|     No|3540|  2001|  1016|       24|       54|       4190|       1512|    5130|      3592|  500|    2000| 60|      62|     23.1|          5|  4010|       34|\n",
            "+--------------------+-------+----+------+------+---------+---------+-----------+-----------+--------+----------+-----+--------+---+--------+---------+-----------+------+---------+\n",
            "only showing top 20 rows\n",
            "\n"
          ],
          "name": "stdout"
        }
      ]
    },
    {
      "cell_type": "code",
      "metadata": {
        "colab": {
          "base_uri": "https://localhost:8080/"
        },
        "id": "-K-gEQwa2wL3",
        "outputId": "47fa0733-c973-4539-d1e6-de66f330dcab"
      },
      "source": [
        "df.count(),len(df.columns)"
      ],
      "execution_count": 10,
      "outputs": [
        {
          "output_type": "execute_result",
          "data": {
            "text/plain": [
              "(777, 19)"
            ]
          },
          "metadata": {
            "tags": []
          },
          "execution_count": 10
        }
      ]
    },
    {
      "cell_type": "code",
      "metadata": {
        "colab": {
          "base_uri": "https://localhost:8080/"
        },
        "id": "QcJQ1dDt__bu",
        "outputId": "045e0f5e-fc22-4984-f928-04a62696ab04"
      },
      "source": [
        "df.printSchema()"
      ],
      "execution_count": 11,
      "outputs": [
        {
          "output_type": "stream",
          "text": [
            "root\n",
            " |-- School: string (nullable = true)\n",
            " |-- Private: string (nullable = true)\n",
            " |-- Apps: integer (nullable = true)\n",
            " |-- Accept: integer (nullable = true)\n",
            " |-- Enroll: integer (nullable = true)\n",
            " |-- Top10perc: integer (nullable = true)\n",
            " |-- Top25perc: integer (nullable = true)\n",
            " |-- F_Undergrad: integer (nullable = true)\n",
            " |-- P_Undergrad: integer (nullable = true)\n",
            " |-- Outstate: integer (nullable = true)\n",
            " |-- Room_Board: integer (nullable = true)\n",
            " |-- Books: integer (nullable = true)\n",
            " |-- Personal: integer (nullable = true)\n",
            " |-- PhD: integer (nullable = true)\n",
            " |-- Terminal: integer (nullable = true)\n",
            " |-- S_F_Ratio: double (nullable = true)\n",
            " |-- perc_alumni: integer (nullable = true)\n",
            " |-- Expend: integer (nullable = true)\n",
            " |-- Grad_Rate: integer (nullable = true)\n",
            "\n"
          ],
          "name": "stdout"
        }
      ]
    },
    {
      "cell_type": "code",
      "metadata": {
        "id": "ZQceSObBA1tO"
      },
      "source": [
        "df1=df.withColumn(\"Private_Index\",when(df['Private'] =='Yes',1).otherwise(0)).drop('School','Private');"
      ],
      "execution_count": 12,
      "outputs": []
    },
    {
      "cell_type": "code",
      "metadata": {
        "colab": {
          "base_uri": "https://localhost:8080/"
        },
        "id": "TSa3tk8BBJsn",
        "outputId": "27cce61a-151a-4a06-9639-fb674ac68d0b"
      },
      "source": [
        "df1.show()"
      ],
      "execution_count": 13,
      "outputs": [
        {
          "output_type": "stream",
          "text": [
            "+----+------+------+---------+---------+-----------+-----------+--------+----------+-----+--------+---+--------+---------+-----------+------+---------+-------------+\n",
            "|Apps|Accept|Enroll|Top10perc|Top25perc|F_Undergrad|P_Undergrad|Outstate|Room_Board|Books|Personal|PhD|Terminal|S_F_Ratio|perc_alumni|Expend|Grad_Rate|Private_Index|\n",
            "+----+------+------+---------+---------+-----------+-----------+--------+----------+-----+--------+---+--------+---------+-----------+------+---------+-------------+\n",
            "|1660|  1232|   721|       23|       52|       2885|        537|    7440|      3300|  450|    2200| 70|      78|     18.1|         12|  7041|       60|            1|\n",
            "|2186|  1924|   512|       16|       29|       2683|       1227|   12280|      6450|  750|    1500| 29|      30|     12.2|         16| 10527|       56|            1|\n",
            "|1428|  1097|   336|       22|       50|       1036|         99|   11250|      3750|  400|    1165| 53|      66|     12.9|         30|  8735|       54|            1|\n",
            "| 417|   349|   137|       60|       89|        510|         63|   12960|      5450|  450|     875| 92|      97|      7.7|         37| 19016|       59|            1|\n",
            "| 193|   146|    55|       16|       44|        249|        869|    7560|      4120|  800|    1500| 76|      72|     11.9|          2| 10922|       15|            1|\n",
            "| 587|   479|   158|       38|       62|        678|         41|   13500|      3335|  500|     675| 67|      73|      9.4|         11|  9727|       55|            1|\n",
            "| 353|   340|   103|       17|       45|        416|        230|   13290|      5720|  500|    1500| 90|      93|     11.5|         26|  8861|       63|            1|\n",
            "|1899|  1720|   489|       37|       68|       1594|         32|   13868|      4826|  450|     850| 89|     100|     13.7|         37| 11487|       73|            1|\n",
            "|1038|   839|   227|       30|       63|        973|        306|   15595|      4400|  300|     500| 79|      84|     11.3|         23| 11644|       80|            1|\n",
            "| 582|   498|   172|       21|       44|        799|         78|   10468|      3380|  660|    1800| 40|      41|     11.5|         15|  8991|       52|            1|\n",
            "|1732|  1425|   472|       37|       75|       1830|        110|   16548|      5406|  500|     600| 82|      88|     11.3|         31| 10932|       73|            1|\n",
            "|2652|  1900|   484|       44|       77|       1707|         44|   17080|      4440|  400|     600| 73|      91|      9.9|         41| 11711|       76|            1|\n",
            "|1179|   780|   290|       38|       64|       1130|        638|    9690|      4785|  600|    1000| 60|      84|     13.3|         21|  7940|       74|            1|\n",
            "|1267|  1080|   385|       44|       73|       1306|         28|   12572|      4552|  400|     400| 79|      87|     15.3|         32|  9305|       68|            1|\n",
            "| 494|   313|   157|       23|       46|       1317|       1235|    8352|      3640|  650|    2449| 36|      69|     11.1|         26|  8127|       55|            1|\n",
            "|1420|  1093|   220|        9|       22|       1018|        287|    8700|      4780|  450|    1400| 78|      84|     14.7|         19|  7355|       69|            1|\n",
            "|4302|   992|   418|       83|       96|       1593|          5|   19760|      5300|  660|    1598| 93|      98|      8.4|         63| 21424|      100|            1|\n",
            "|1216|   908|   423|       19|       40|       1819|        281|   10100|      3520|  550|    1100| 48|      61|     12.1|         14|  7994|       59|            1|\n",
            "|1130|   704|   322|       14|       23|       1586|        326|    9996|      3090|  900|    1320| 62|      66|     11.5|         18| 10908|       46|            1|\n",
            "|3540|  2001|  1016|       24|       54|       4190|       1512|    5130|      3592|  500|    2000| 60|      62|     23.1|          5|  4010|       34|            0|\n",
            "+----+------+------+---------+---------+-----------+-----------+--------+----------+-----+--------+---+--------+---------+-----------+------+---------+-------------+\n",
            "only showing top 20 rows\n",
            "\n"
          ],
          "name": "stdout"
        }
      ]
    },
    {
      "cell_type": "code",
      "metadata": {
        "id": "DsPwrh835n3c"
      },
      "source": [
        "from pyspark.sql.functions import *\r\n",
        "from pyspark.ml.classification import DecisionTreeClassifier;\r\n",
        "from pyspark.ml.linalg import Vectors;\r\n",
        "from pyspark.ml.feature import VectorAssembler;"
      ],
      "execution_count": 14,
      "outputs": []
    },
    {
      "cell_type": "code",
      "metadata": {
        "colab": {
          "base_uri": "https://localhost:8080/"
        },
        "id": "b1s-T3BYDgj_",
        "outputId": "20511e34-f860-4958-ac6c-bfbf9bc76a82"
      },
      "source": [
        "df1.columns"
      ],
      "execution_count": 15,
      "outputs": [
        {
          "output_type": "execute_result",
          "data": {
            "text/plain": [
              "['Apps',\n",
              " 'Accept',\n",
              " 'Enroll',\n",
              " 'Top10perc',\n",
              " 'Top25perc',\n",
              " 'F_Undergrad',\n",
              " 'P_Undergrad',\n",
              " 'Outstate',\n",
              " 'Room_Board',\n",
              " 'Books',\n",
              " 'Personal',\n",
              " 'PhD',\n",
              " 'Terminal',\n",
              " 'S_F_Ratio',\n",
              " 'perc_alumni',\n",
              " 'Expend',\n",
              " 'Grad_Rate',\n",
              " 'Private_Index']"
            ]
          },
          "metadata": {
            "tags": []
          },
          "execution_count": 15
        }
      ]
    },
    {
      "cell_type": "code",
      "metadata": {
        "id": "KnLpDiMMAItn"
      },
      "source": [
        "featurecolumns=['Apps',\r\n",
        " 'Accept',\r\n",
        " 'Enroll',\r\n",
        " 'Top10perc',\r\n",
        " 'Top25perc',\r\n",
        " 'F_Undergrad',\r\n",
        " 'P_Undergrad',\r\n",
        " 'Outstate',\r\n",
        " 'Room_Board',\r\n",
        " 'Books',\r\n",
        " 'Personal',\r\n",
        " 'PhD',\r\n",
        " 'Terminal',\r\n",
        " 'S_F_Ratio',\r\n",
        " 'perc_alumni',\r\n",
        " 'Expend',\r\n",
        " 'Grad_Rate'];"
      ],
      "execution_count": 16,
      "outputs": []
    },
    {
      "cell_type": "markdown",
      "metadata": {
        "id": "mGBUU8KsKLvk"
      },
      "source": [
        "# **Aggregate features: Let's aggregate the features we will use to make predictions into a single column**"
      ]
    },
    {
      "cell_type": "code",
      "metadata": {
        "colab": {
          "base_uri": "https://localhost:8080/"
        },
        "id": "qNO1bo3i5j92",
        "outputId": "652e40b0-cf08-45ca-8f95-c4a580c550bb"
      },
      "source": [
        "assembler=VectorAssembler(inputCols=featurecolumns,outputCol=\"features\");\r\n",
        "feature_vector=assembler.transform(df1);\r\n",
        "feature_vector.show()"
      ],
      "execution_count": 17,
      "outputs": [
        {
          "output_type": "stream",
          "text": [
            "+----+------+------+---------+---------+-----------+-----------+--------+----------+-----+--------+---+--------+---------+-----------+------+---------+-------------+--------------------+\n",
            "|Apps|Accept|Enroll|Top10perc|Top25perc|F_Undergrad|P_Undergrad|Outstate|Room_Board|Books|Personal|PhD|Terminal|S_F_Ratio|perc_alumni|Expend|Grad_Rate|Private_Index|            features|\n",
            "+----+------+------+---------+---------+-----------+-----------+--------+----------+-----+--------+---+--------+---------+-----------+------+---------+-------------+--------------------+\n",
            "|1660|  1232|   721|       23|       52|       2885|        537|    7440|      3300|  450|    2200| 70|      78|     18.1|         12|  7041|       60|            1|[1660.0,1232.0,72...|\n",
            "|2186|  1924|   512|       16|       29|       2683|       1227|   12280|      6450|  750|    1500| 29|      30|     12.2|         16| 10527|       56|            1|[2186.0,1924.0,51...|\n",
            "|1428|  1097|   336|       22|       50|       1036|         99|   11250|      3750|  400|    1165| 53|      66|     12.9|         30|  8735|       54|            1|[1428.0,1097.0,33...|\n",
            "| 417|   349|   137|       60|       89|        510|         63|   12960|      5450|  450|     875| 92|      97|      7.7|         37| 19016|       59|            1|[417.0,349.0,137....|\n",
            "| 193|   146|    55|       16|       44|        249|        869|    7560|      4120|  800|    1500| 76|      72|     11.9|          2| 10922|       15|            1|[193.0,146.0,55.0...|\n",
            "| 587|   479|   158|       38|       62|        678|         41|   13500|      3335|  500|     675| 67|      73|      9.4|         11|  9727|       55|            1|[587.0,479.0,158....|\n",
            "| 353|   340|   103|       17|       45|        416|        230|   13290|      5720|  500|    1500| 90|      93|     11.5|         26|  8861|       63|            1|[353.0,340.0,103....|\n",
            "|1899|  1720|   489|       37|       68|       1594|         32|   13868|      4826|  450|     850| 89|     100|     13.7|         37| 11487|       73|            1|[1899.0,1720.0,48...|\n",
            "|1038|   839|   227|       30|       63|        973|        306|   15595|      4400|  300|     500| 79|      84|     11.3|         23| 11644|       80|            1|[1038.0,839.0,227...|\n",
            "| 582|   498|   172|       21|       44|        799|         78|   10468|      3380|  660|    1800| 40|      41|     11.5|         15|  8991|       52|            1|[582.0,498.0,172....|\n",
            "|1732|  1425|   472|       37|       75|       1830|        110|   16548|      5406|  500|     600| 82|      88|     11.3|         31| 10932|       73|            1|[1732.0,1425.0,47...|\n",
            "|2652|  1900|   484|       44|       77|       1707|         44|   17080|      4440|  400|     600| 73|      91|      9.9|         41| 11711|       76|            1|[2652.0,1900.0,48...|\n",
            "|1179|   780|   290|       38|       64|       1130|        638|    9690|      4785|  600|    1000| 60|      84|     13.3|         21|  7940|       74|            1|[1179.0,780.0,290...|\n",
            "|1267|  1080|   385|       44|       73|       1306|         28|   12572|      4552|  400|     400| 79|      87|     15.3|         32|  9305|       68|            1|[1267.0,1080.0,38...|\n",
            "| 494|   313|   157|       23|       46|       1317|       1235|    8352|      3640|  650|    2449| 36|      69|     11.1|         26|  8127|       55|            1|[494.0,313.0,157....|\n",
            "|1420|  1093|   220|        9|       22|       1018|        287|    8700|      4780|  450|    1400| 78|      84|     14.7|         19|  7355|       69|            1|[1420.0,1093.0,22...|\n",
            "|4302|   992|   418|       83|       96|       1593|          5|   19760|      5300|  660|    1598| 93|      98|      8.4|         63| 21424|      100|            1|[4302.0,992.0,418...|\n",
            "|1216|   908|   423|       19|       40|       1819|        281|   10100|      3520|  550|    1100| 48|      61|     12.1|         14|  7994|       59|            1|[1216.0,908.0,423...|\n",
            "|1130|   704|   322|       14|       23|       1586|        326|    9996|      3090|  900|    1320| 62|      66|     11.5|         18| 10908|       46|            1|[1130.0,704.0,322...|\n",
            "|3540|  2001|  1016|       24|       54|       4190|       1512|    5130|      3592|  500|    2000| 60|      62|     23.1|          5|  4010|       34|            0|[3540.0,2001.0,10...|\n",
            "+----+------+------+---------+---------+-----------+-----------+--------+----------+-----+--------+---+--------+---------+-----------+------+---------+-------------+--------------------+\n",
            "only showing top 20 rows\n",
            "\n"
          ],
          "name": "stdout"
        }
      ]
    },
    {
      "cell_type": "markdown",
      "metadata": {
        "id": "WK6PieRlKk2B"
      },
      "source": [
        "**The inputCols argument specifies our list of column names we defined earlier, and outputCol is the\r\n",
        "name of the new column. The second line creates a new DataFrame with the aggregated features in\r\n",
        "a column**"
      ]
    },
    {
      "cell_type": "markdown",
      "metadata": {
        "id": "ELfAxxauKwSZ"
      },
      "source": [
        "# **We can split the data by calling randomSplit()**\r\n"
      ]
    },
    {
      "cell_type": "code",
      "metadata": {
        "id": "s_lRO9pTGHRp"
      },
      "source": [
        "(trainingData, testData)=feature_vector.randomSplit([0.7,0.3])"
      ],
      "execution_count": 18,
      "outputs": []
    },
    {
      "cell_type": "markdown",
      "metadata": {
        "id": "t25SxATiLe1t"
      },
      "source": [
        "#**We can print the number of rows in each DataFrame to check the sizes **"
      ]
    },
    {
      "cell_type": "code",
      "metadata": {
        "colab": {
          "base_uri": "https://localhost:8080/"
        },
        "id": "UGrl63Va6ySL",
        "outputId": "94b4ff03-82fe-4047-d72a-656a7b5291f4"
      },
      "source": [
        "trainingData.count(),testData.count()"
      ],
      "execution_count": 19,
      "outputs": [
        {
          "output_type": "execute_result",
          "data": {
            "text/plain": [
              "(545, 232)"
            ]
          },
          "metadata": {
            "tags": []
          },
          "execution_count": 19
        }
      ]
    },
    {
      "cell_type": "markdown",
      "metadata": {
        "id": "z59Lp7J7LqeM"
      },
      "source": [
        "777*70/100=543.9"
      ]
    },
    {
      "cell_type": "code",
      "metadata": {
        "id": "vUT5TIYt63q_"
      },
      "source": [
        "dtc=DecisionTreeClassifier(labelCol='Private_Index',featuresCol='features');"
      ],
      "execution_count": 20,
      "outputs": []
    },
    {
      "cell_type": "markdown",
      "metadata": {
        "id": "_ROZOJxXK_Gt"
      },
      "source": [
        "The **labelCol** argument is the column we are trying to predict, **featuresCol** specifies the aggregated\r\n",
        "features column which we have created using **assembler**"
      ]
    },
    {
      "cell_type": "markdown",
      "metadata": {
        "id": "KIdgNfPjMHoi"
      },
      "source": [
        "# **Now we will pass the trainig data to the dtc , which can identify based on which column the model has to be trained as we mentioned previously**\r\n",
        "\r\n",
        "\r\n"
      ]
    },
    {
      "cell_type": "code",
      "metadata": {
        "id": "gSPZ0Rv0Gzg_"
      },
      "source": [
        "dtc_model=dtc.fit(trainingData);"
      ],
      "execution_count": 21,
      "outputs": []
    },
    {
      "cell_type": "markdown",
      "metadata": {
        "id": "Z3oPM9XoLIRh"
      },
      "source": [
        "#**Let's make predictions using our test data set** (just we have use transform method on testData , rest it will do by it's own)\r\n"
      ]
    },
    {
      "cell_type": "code",
      "metadata": {
        "id": "L9dKU4w4G70S"
      },
      "source": [
        "dtc_predict=dtc_model.transform(testData);"
      ],
      "execution_count": 22,
      "outputs": []
    },
    {
      "cell_type": "code",
      "metadata": {
        "colab": {
          "base_uri": "https://localhost:8080/"
        },
        "id": "Wig13k5BOYW9",
        "outputId": "075ead33-3d1a-49be-e90a-ceee6ed32699"
      },
      "source": [
        "dtc_predict.show()"
      ],
      "execution_count": 23,
      "outputs": [
        {
          "output_type": "stream",
          "text": [
            "+----+------+------+---------+---------+-----------+-----------+--------+----------+-----+--------+---+--------+---------+-----------+------+---------+-------------+--------------------+-------------+--------------------+----------+\n",
            "|Apps|Accept|Enroll|Top10perc|Top25perc|F_Undergrad|P_Undergrad|Outstate|Room_Board|Books|Personal|PhD|Terminal|S_F_Ratio|perc_alumni|Expend|Grad_Rate|Private_Index|            features|rawPrediction|         probability|prediction|\n",
            "+----+------+------+---------+---------+-----------+-----------+--------+----------+-----+--------+---+--------+---------+-----------+------+---------+-------------+--------------------+-------------+--------------------+----------+\n",
            "|  81|    72|    51|       33|       71|        139|          3|    8730|      3600|  400|     800| 92|      92|      9.3|         17| 10922|       58|            1|[81.0,72.0,51.0,3...|   [0.0,15.0]|           [0.0,1.0]|       1.0|\n",
            "| 150|   130|    88|       23|       50|        341|        768|   10300|      4130|  500|    1700| 44|      58|     10.2|         37|  9678|       75|            1|[150.0,130.0,88.0...|  [0.0,281.0]|           [0.0,1.0]|       1.0|\n",
            "| 232|   216|   106|       16|       34|        534|        172|    6900|      3800|  450|    1825| 67|      76|     12.1|          9|  6875|       42|            1|[232.0,216.0,106....|   [5.0,16.0]|[0.23809523809523...|       1.0|\n",
            "| 244|   198|    82|       12|       33|       1134|        336|   11700|      5300|  550|     805| 71|      88|     27.8|         18|  8694|       58|            1|[244.0,198.0,82.0...|  [0.0,281.0]|           [0.0,1.0]|       1.0|\n",
            "| 247|   189|   100|       19|       49|        309|        639|   11412|      6430|  500|     900| 89|      93|      8.3|         37| 11806|       96|            1|[247.0,189.0,100....|  [0.0,281.0]|           [0.0,1.0]|       1.0|\n",
            "| 263|   223|   103|       10|       24|        316|         20|    8438|      3372|  500|    2958| 42|      50|     11.1|          4| 11989|       15|            1|[263.0,223.0,103....|  [0.0,281.0]|           [0.0,1.0]|       1.0|\n",
            "| 285|   280|   208|       21|       43|       1140|        473|    3687|      1920|  600|    1800| 67|      77|     23.6|          3|  3864|       43|            0|[285.0,280.0,208....|    [3.0,0.0]|           [1.0,0.0]|       0.0|\n",
            "| 291|   245|   126|       16|       49|        981|        337|    8390|      4100|  350|    1500| 45|      55|     21.5|         24|  4607|       62|            1|[291.0,245.0,126....|  [0.0,281.0]|           [0.0,1.0]|       1.0|\n",
            "| 292|   241|    96|       20|       52|        543|        712|   12200|      4600|  650|     950| 87|      90|     11.2|         32|  8680|       76|            1|[292.0,241.0,96.0...|  [0.0,281.0]|           [0.0,1.0]|       1.0|\n",
            "| 318|   240|   130|       40|       85|        416|         19|   14900|      5550|  600|     500| 93|      98|      8.3|         42| 13935|       69|            1|[318.0,240.0,130....|  [0.0,281.0]|           [0.0,1.0]|       1.0|\n",
            "| 325|   260|    86|       21|       47|        699|        717|    9600|      4202|  450|     750| 39|      69|     10.5|         15|  7164|       68|            1|[325.0,260.0,86.0...|  [0.0,281.0]|           [0.0,1.0]|       1.0|\n",
            "| 331|   331|   225|       15|       36|       1100|        166|    6840|      3720| 1100|    4913| 33|      33|     15.4|         20|  5524|       49|            1|[331.0,331.0,225....|   [5.0,16.0]|[0.23809523809523...|       1.0|\n",
            "| 335|   284|   132|       28|       69|        534|        216|   10475|      6300|  500|    2000| 68|      68|     11.2|         46|  9599|       60|            1|[335.0,284.0,132....|  [0.0,281.0]|           [0.0,1.0]|       1.0|\n",
            "| 344|   264|    97|       11|       42|        500|        331|   12600|      5520|  630|    2250| 77|      80|     10.4|          7|  9773|       43|            1|[344.0,264.0,97.0...|  [0.0,281.0]|           [0.0,1.0]|       1.0|\n",
            "| 346|   274|   146|       51|       87|        704|         63|    9900|      3670|  630|    1818| 59|      59|     10.5|         14|  8095|       54|            1|[346.0,274.0,146....|  [0.0,281.0]|           [0.0,1.0]|       1.0|\n",
            "| 348|   281|   127|       12|       52|       1095|        785|    9150|      3950|  500|     800| 56|      59|     12.2|         27|  7348|       76|            1|[348.0,281.0,127....|  [0.0,281.0]|           [0.0,1.0]|       1.0|\n",
            "| 369|   312|    90|       12|       46|        396|        526|   11400|      5400|  500|     760| 41|      85|      9.5|         20|  9583|       24|            1|[369.0,312.0,90.0...|  [0.0,281.0]|           [0.0,1.0]|       1.0|\n",
            "| 372|   362|   181|       15|       32|       1501|        353|    8600|      3550|  385|     665| 48|      48|     15.4|          9| 10938|       49|            1|[372.0,362.0,181....|  [0.0,281.0]|           [0.0,1.0]|       1.0|\n",
            "| 377|   358|   181|       15|       30|        653|        129|    7150|      4350|  450|    1500| 61|      67|     17.8|          3|  6259|       53|            1|[377.0,358.0,181....|   [5.0,16.0]|[0.23809523809523...|       1.0|\n",
            "| 379|   324|   107|       15|       37|        500|        311|    9990|      4900|  400|     600| 44|      47|     12.1|         26|  4948|       33|            1|[379.0,324.0,107....|  [0.0,281.0]|           [0.0,1.0]|       1.0|\n",
            "+----+------+------+---------+---------+-----------+-----------+--------+----------+-----+--------+---+--------+---------+-----------+------+---------+-------------+--------------------+-------------+--------------------+----------+\n",
            "only showing top 20 rows\n",
            "\n"
          ],
          "name": "stdout"
        }
      ]
    },
    {
      "cell_type": "markdown",
      "metadata": {
        "id": "R3Tdg2MLMyFL"
      },
      "source": [
        "# **You can check the input features based on that original value and predicted value**\r\n",
        "\r\n"
      ]
    },
    {
      "cell_type": "code",
      "metadata": {
        "colab": {
          "base_uri": "https://localhost:8080/"
        },
        "id": "PgSErnywHZJz",
        "outputId": "0be32a71-34e8-4fc9-c463-32556004bd81"
      },
      "source": [
        "dtc_predict.select('features','Private_Index','prediction').show()"
      ],
      "execution_count": 24,
      "outputs": [
        {
          "output_type": "stream",
          "text": [
            "+--------------------+-------------+----------+\n",
            "|            features|Private_Index|prediction|\n",
            "+--------------------+-------------+----------+\n",
            "|[81.0,72.0,51.0,3...|            1|       1.0|\n",
            "|[150.0,130.0,88.0...|            1|       1.0|\n",
            "|[232.0,216.0,106....|            1|       1.0|\n",
            "|[244.0,198.0,82.0...|            1|       1.0|\n",
            "|[247.0,189.0,100....|            1|       1.0|\n",
            "|[263.0,223.0,103....|            1|       1.0|\n",
            "|[285.0,280.0,208....|            0|       0.0|\n",
            "|[291.0,245.0,126....|            1|       1.0|\n",
            "|[292.0,241.0,96.0...|            1|       1.0|\n",
            "|[318.0,240.0,130....|            1|       1.0|\n",
            "|[325.0,260.0,86.0...|            1|       1.0|\n",
            "|[331.0,331.0,225....|            1|       1.0|\n",
            "|[335.0,284.0,132....|            1|       1.0|\n",
            "|[344.0,264.0,97.0...|            1|       1.0|\n",
            "|[346.0,274.0,146....|            1|       1.0|\n",
            "|[348.0,281.0,127....|            1|       1.0|\n",
            "|[369.0,312.0,90.0...|            1|       1.0|\n",
            "|[372.0,362.0,181....|            1|       1.0|\n",
            "|[377.0,358.0,181....|            1|       1.0|\n",
            "|[379.0,324.0,107....|            1|       1.0|\n",
            "+--------------------+-------------+----------+\n",
            "only showing top 20 rows\n",
            "\n"
          ],
          "name": "stdout"
        }
      ]
    },
    {
      "cell_type": "markdown",
      "metadata": {
        "id": "rDHBxvkNMwfh"
      },
      "source": [
        "RawPrediction is typically the direct probability/confidence calculation."
      ]
    },
    {
      "cell_type": "code",
      "metadata": {
        "id": "j92wVsrvHrIy"
      },
      "source": [
        "from pyspark.ml.evaluation import BinaryClassificationEvaluator"
      ],
      "execution_count": 25,
      "outputs": []
    },
    {
      "cell_type": "code",
      "metadata": {
        "id": "mkuPccnJIr-D"
      },
      "source": [
        "evaluator = BinaryClassificationEvaluator().setMetricName('areaUnderROC').setLabelCol(\"Private_Index\").setRawPredictionCol(\"rawPrediction\");"
      ],
      "execution_count": 36,
      "outputs": []
    },
    {
      "cell_type": "code",
      "metadata": {
        "colab": {
          "base_uri": "https://localhost:8080/"
        },
        "id": "MfcN3VI1JOOX",
        "outputId": "4fc27960-8b95-422f-fe46-123d2bd5b299"
      },
      "source": [
        "evaluator.evaluate(dtc_predict)#just pass the complete dataframe which we achieved after passing test data via model"
      ],
      "execution_count": 35,
      "outputs": [
        {
          "output_type": "execute_result",
          "data": {
            "text/plain": [
              "0.9229651162790696"
            ]
          },
          "metadata": {
            "tags": []
          },
          "execution_count": 35
        }
      ]
    }
  ]
}