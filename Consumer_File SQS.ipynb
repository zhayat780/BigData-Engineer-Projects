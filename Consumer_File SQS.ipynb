{
  "nbformat": 4,
  "nbformat_minor": 0,
  "metadata": {
    "colab": {
      "name": "Consumer File.ipynb",
      "provenance": [],
      "authorship_tag": "ABX9TyOGM68KcykQQ5eqS8e/g6ob",
      "include_colab_link": true
    },
    "kernelspec": {
      "name": "python3",
      "display_name": "Python 3"
    },
    "language_info": {
      "name": "python"
    }
  },
  "cells": [
    {
      "cell_type": "markdown",
      "metadata": {
        "id": "view-in-github",
        "colab_type": "text"
      },
      "source": [
        "<a href=\"https://colab.research.google.com/github/SatadruMukherjee/Data-Preprocessing-Models/blob/main/Consumer_File%20SQS.ipynb\" target=\"_parent\"><img src=\"https://colab.research.google.com/assets/colab-badge.svg\" alt=\"Open In Colab\"/></a>"
      ]
    },
    {
      "cell_type": "code",
      "execution_count": 1,
      "metadata": {
        "colab": {
          "base_uri": "https://localhost:8080/"
        },
        "id": "57WoIj98j__W",
        "outputId": "334d2b81-5252-44c7-f473-c4b0f2309c94"
      },
      "outputs": [
        {
          "output_type": "stream",
          "name": "stdout",
          "text": [
            "Collecting boto3\n",
            "  Downloading boto3-1.23.0-py3-none-any.whl (132 kB)\n",
            "\u001b[K     |████████████████████████████████| 132 kB 11.5 MB/s \n",
            "\u001b[?25hCollecting botocore<1.27.0,>=1.26.0\n",
            "  Downloading botocore-1.26.0-py3-none-any.whl (8.7 MB)\n",
            "\u001b[K     |████████████████████████████████| 8.7 MB 47.3 MB/s \n",
            "\u001b[?25hCollecting jmespath<2.0.0,>=0.7.1\n",
            "  Downloading jmespath-1.0.0-py3-none-any.whl (23 kB)\n",
            "Collecting s3transfer<0.6.0,>=0.5.0\n",
            "  Downloading s3transfer-0.5.2-py3-none-any.whl (79 kB)\n",
            "\u001b[K     |████████████████████████████████| 79 kB 11.4 MB/s \n",
            "\u001b[?25hRequirement already satisfied: python-dateutil<3.0.0,>=2.1 in /usr/local/lib/python3.7/dist-packages (from botocore<1.27.0,>=1.26.0->boto3) (2.8.2)\n",
            "Collecting urllib3<1.27,>=1.25.4\n",
            "  Downloading urllib3-1.26.9-py2.py3-none-any.whl (138 kB)\n",
            "\u001b[K     |████████████████████████████████| 138 kB 62.3 MB/s \n",
            "\u001b[?25hRequirement already satisfied: six>=1.5 in /usr/local/lib/python3.7/dist-packages (from python-dateutil<3.0.0,>=2.1->botocore<1.27.0,>=1.26.0->boto3) (1.15.0)\n",
            "Installing collected packages: urllib3, jmespath, botocore, s3transfer, boto3\n",
            "  Attempting uninstall: urllib3\n",
            "    Found existing installation: urllib3 1.24.3\n",
            "    Uninstalling urllib3-1.24.3:\n",
            "      Successfully uninstalled urllib3-1.24.3\n",
            "\u001b[31mERROR: pip's dependency resolver does not currently take into account all the packages that are installed. This behaviour is the source of the following dependency conflicts.\n",
            "requests 2.23.0 requires urllib3!=1.25.0,!=1.25.1,<1.26,>=1.21.1, but you have urllib3 1.26.9 which is incompatible.\n",
            "datascience 0.10.6 requires folium==0.2.1, but you have folium 0.8.3 which is incompatible.\u001b[0m\n",
            "Successfully installed boto3-1.23.0 botocore-1.26.0 jmespath-1.0.0 s3transfer-0.5.2 urllib3-1.26.9\n"
          ]
        }
      ],
      "source": [
        "!pip install boto3"
      ]
    },
    {
      "cell_type": "code",
      "source": [
        "import json\n",
        "import boto3\n",
        "import datetime\n",
        "from datetime import date"
      ],
      "metadata": {
        "id": "WuUtDruvkbok"
      },
      "execution_count": 3,
      "outputs": []
    },
    {
      "cell_type": "code",
      "source": [
        "sqs_send= boto3.client('sqs',  aws_access_key_id='',\n",
        "aws_secret_access_key='', region_name='')"
      ],
      "metadata": {
        "id": "8WtZDunWkd9d"
      },
      "execution_count": 4,
      "outputs": []
    },
    {
      "cell_type": "code",
      "source": [
        "# Defining Custom Function to Send Message to Main Queue and Deleting it from DLQ \n",
        "def sendQueue(sendQueueUrl,messageBody,messageAttributes) :\n",
        "    # Calling Send Message API\n",
        "    ret = sqs_send.send_message( QueueUrl=sendQueueUrl, \n",
        "                            MessageBody=messageBody,\n",
        "                            MessageAttributes=messageAttributes) \n",
        "    return ret"
      ],
      "metadata": {
        "id": "STwd1f0_lRA-"
      },
      "execution_count": 6,
      "outputs": []
    },
    {
      "cell_type": "code",
      "source": [
        "sourceQueueUrl=\"\"\n",
        "dlqQueueUrl=\"\""
      ],
      "metadata": {
        "id": "dDfDVlB2kwY_"
      },
      "execution_count": 8,
      "outputs": []
    },
    {
      "cell_type": "code",
      "source": [
        "def consume_message():\n",
        "  messages = sqs_send.receive_message(QueueUrl=sourceQueueUrl, MaxNumberOfMessages=10\n",
        "                                    ,WaitTimeSeconds=20,MessageAttributeNames=['All'])\n",
        "  if 'Messages' in messages:\n",
        "    for m in messages['Messages']:\n",
        "      print(m)\n",
        "      MessageAttributes=m['MessageAttributes']\n",
        "      messageBody=m['Body']\n",
        "      try:\n",
        "        msg_body=json.loads(messageBody)\n",
        "      except Exception as e:\n",
        "        print(e)\n",
        "        response = sendQueue(dlqQueueUrl,messageBody,MessageAttributes)\n",
        "        sqs_send.delete_message(QueueUrl=sourceQueueUrl, ReceiptHandle=m['ReceiptHandle']) "
      ],
      "metadata": {
        "id": "FA_HaYB2koEm"
      },
      "execution_count": 9,
      "outputs": []
    },
    {
      "cell_type": "code",
      "source": [
        "consume_message()"
      ],
      "metadata": {
        "id": "aeINZYphlueX"
      },
      "execution_count": null,
      "outputs": []
    },
    {
      "cell_type": "code",
      "source": [
        ""
      ],
      "metadata": {
        "id": "-FXVkL43ly4l"
      },
      "execution_count": null,
      "outputs": []
    }
  ]
}