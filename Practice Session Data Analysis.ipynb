{
  "nbformat": 4,
  "nbformat_minor": 0,
  "metadata": {
    "colab": {
      "name": "Untitled11.ipynb",
      "provenance": []
    },
    "kernelspec": {
      "name": "python3",
      "display_name": "Python 3"
    }
  },
  "cells": [
    {
      "cell_type": "code",
      "metadata": {
        "id": "R4uUp2k6f3lw",
        "colab": {
          "base_uri": "https://localhost:8080/",
          "height": 498
        },
        "outputId": "48d2eeb2-7861-4318-910e-411aac5148bf"
      },
      "source": [
        "!apt-get update\r\n",
        "!apt-get install openjdk-8-jdk-headless -qq > /dev/null\r\n",
        "!wget -q htt  https://archive.apache.org/dist/spark/spark-2.3.1/spark-2.3.1-bin-hadoop2.7.tgz\r\n",
        "!tar xf spark-2.3.1-bin-hadoop2.7.tgz\r\n",
        "!pip install -q findspark\r\n",
        "\r\n",
        "import os\r\n",
        "os.environ[\"JAVA_HOME\"] = \"/usr/lib/jvm/java-8-openjdk-amd64\"\r\n",
        "os.environ[\"SPARK_HOME\"] = \"/content/spark-2.3.1-bin-hadoop2.7\"\r\n",
        "\r\n",
        "import findspark\r\n",
        "findspark.init()\r\n",
        "from pyspark.sql import SparkSession\r\n",
        "spark = SparkSession.builder.getOrCreate()\r\n",
        "spark"
      ],
      "execution_count": 2,
      "outputs": [
        {
          "output_type": "stream",
          "text": [
            "\r0% [Working]\r            \rIgn:1 https://developer.download.nvidia.com/compute/cuda/repos/ubuntu1804/x86_64  InRelease\n",
            "\r0% [Connecting to archive.ubuntu.com (91.189.88.152)] [Waiting for headers] [Wa\r                                                                               \rGet:2 http://security.ubuntu.com/ubuntu bionic-security InRelease [88.7 kB]\n",
            "Get:3 https://cloud.r-project.org/bin/linux/ubuntu bionic-cran40/ InRelease [3,626 B]\n",
            "Get:4 http://ppa.launchpad.net/c2d4u.team/c2d4u4.0+/ubuntu bionic InRelease [15.9 kB]\n",
            "Ign:5 https://developer.download.nvidia.com/compute/machine-learning/repos/ubuntu1804/x86_64  InRelease\n",
            "Hit:6 https://developer.download.nvidia.com/compute/cuda/repos/ubuntu1804/x86_64  Release\n",
            "Hit:7 https://developer.download.nvidia.com/compute/machine-learning/repos/ubuntu1804/x86_64  Release\n",
            "Hit:8 http://archive.ubuntu.com/ubuntu bionic InRelease\n",
            "Get:9 http://archive.ubuntu.com/ubuntu bionic-updates InRelease [88.7 kB]\n",
            "Hit:10 http://ppa.launchpad.net/cran/libgit2/ubuntu bionic InRelease\n",
            "Get:11 https://cloud.r-project.org/bin/linux/ubuntu bionic-cran40/ Packages [41.5 kB]\n",
            "Hit:12 http://ppa.launchpad.net/graphics-drivers/ppa/ubuntu bionic InRelease\n",
            "Get:14 http://archive.ubuntu.com/ubuntu bionic-backports InRelease [74.6 kB]\n",
            "Get:16 http://ppa.launchpad.net/c2d4u.team/c2d4u4.0+/ubuntu bionic/main Sources [1,703 kB]\n",
            "Get:17 http://ppa.launchpad.net/c2d4u.team/c2d4u4.0+/ubuntu bionic/main amd64 Packages [872 kB]\n",
            "Fetched 2,889 kB in 3s (960 kB/s)\n",
            "Reading package lists... Done\n"
          ],
          "name": "stdout"
        },
        {
          "output_type": "execute_result",
          "data": {
            "text/html": [
              "\n",
              "            <div>\n",
              "                <p><b>SparkSession - in-memory</b></p>\n",
              "                \n",
              "        <div>\n",
              "            <p><b>SparkContext</b></p>\n",
              "\n",
              "            <p><a href=\"http://d8a6baf7c0be:4040\">Spark UI</a></p>\n",
              "\n",
              "            <dl>\n",
              "              <dt>Version</dt>\n",
              "                <dd><code>v2.3.1</code></dd>\n",
              "              <dt>Master</dt>\n",
              "                <dd><code>local[*]</code></dd>\n",
              "              <dt>AppName</dt>\n",
              "                <dd><code>pyspark-shell</code></dd>\n",
              "            </dl>\n",
              "        </div>\n",
              "        \n",
              "            </div>\n",
              "        "
            ],
            "text/plain": [
              "<pyspark.sql.session.SparkSession at 0x7f883ead53c8>"
            ]
          },
          "metadata": {
            "tags": []
          },
          "execution_count": 2
        }
      ]
    },
    {
      "cell_type": "code",
      "metadata": {
        "colab": {
          "base_uri": "https://localhost:8080/"
        },
        "id": "ZNBqSfyLKqk1",
        "outputId": "ff7d87f7-906e-45a8-d210-d7192f15e8c0"
      },
      "source": [
        "df=spark.read.format(\"csv\").option(\"header\",\"true\").option(\"inferschema\",\"true\").load(\"/content/nyc_air_bnb.csv\");\r\n",
        "df.show(5)"
      ],
      "execution_count": 38,
      "outputs": [
        {
          "output_type": "stream",
          "text": [
            "+----+--------------------+-------+-----------+-------------------+-------------+--------+---------+---------------+-----+--------------+-----------------+-----------+-----------------+------------------------------+----------------+\n",
            "|  id|                name|host_id|  host_name|neighbourhood_group|neighbourhood|latitude|longitude|      room_type|price|minimum_nights|number_of_reviews|last_review|reviews_per_month|calculated_host_listings_count|availability_365|\n",
            "+----+--------------------+-------+-----------+-------------------+-------------+--------+---------+---------------+-----+--------------+-----------------+-----------+-----------------+------------------------------+----------------+\n",
            "|2539|Clean & quiet apt...|   2787|       John|           Brooklyn|   Kensington|40.64749|-73.97237|   Private room|  149|             1|                9| 2018-10-19|             0.21|                             6|             365|\n",
            "|2595|Skylit Midtown Ca...|   2845|   Jennifer|          Manhattan|      Midtown|40.75362|-73.98377|Entire home/apt|  225|             1|               45| 2019-05-21|             0.38|                             2|             355|\n",
            "|3647|THE VILLAGE OF HA...|   4632|  Elisabeth|          Manhattan|       Harlem|40.80902| -73.9419|   Private room|  150|             3|                0|       null|             null|                             1|             365|\n",
            "|3831|Cozy Entire Floor...|   4869|LisaRoxanne|           Brooklyn| Clinton Hill|40.68514|-73.95976|Entire home/apt|   89|             1|              270| 2019-07-05|             4.64|                             1|             194|\n",
            "|5022|Entire Apt: Spaci...|   7192|      Laura|          Manhattan|  East Harlem|40.79851|-73.94399|Entire home/apt|   80|            10|                9| 2018-11-19|             0.10|                             1|               0|\n",
            "+----+--------------------+-------+-----------+-------------------+-------------+--------+---------+---------------+-----+--------------+-----------------+-----------+-----------------+------------------------------+----------------+\n",
            "only showing top 5 rows\n",
            "\n"
          ],
          "name": "stdout"
        }
      ]
    },
    {
      "cell_type": "code",
      "metadata": {
        "colab": {
          "base_uri": "https://localhost:8080/"
        },
        "id": "V5eou_DxKu6I",
        "outputId": "b9b8aaee-0bf6-4ccc-b128-fe91ee8c23c5"
      },
      "source": [
        "df.printSchema()"
      ],
      "execution_count": 39,
      "outputs": [
        {
          "output_type": "stream",
          "text": [
            "root\n",
            " |-- id: string (nullable = true)\n",
            " |-- name: string (nullable = true)\n",
            " |-- host_id: string (nullable = true)\n",
            " |-- host_name: string (nullable = true)\n",
            " |-- neighbourhood_group: string (nullable = true)\n",
            " |-- neighbourhood: string (nullable = true)\n",
            " |-- latitude: string (nullable = true)\n",
            " |-- longitude: string (nullable = true)\n",
            " |-- room_type: string (nullable = true)\n",
            " |-- price: string (nullable = true)\n",
            " |-- minimum_nights: string (nullable = true)\n",
            " |-- number_of_reviews: string (nullable = true)\n",
            " |-- last_review: string (nullable = true)\n",
            " |-- reviews_per_month: string (nullable = true)\n",
            " |-- calculated_host_listings_count: string (nullable = true)\n",
            " |-- availability_365: integer (nullable = true)\n",
            "\n"
          ],
          "name": "stdout"
        }
      ]
    },
    {
      "cell_type": "code",
      "metadata": {
        "id": "DA8GXLPELKIU"
      },
      "source": [
        "from pyspark.sql.functions import *\r\n",
        "from pyspark.sql.types import *"
      ],
      "execution_count": 5,
      "outputs": []
    },
    {
      "cell_type": "code",
      "metadata": {
        "id": "Eo8-8w6GLoAD"
      },
      "source": [
        "df=df.withColumn(\"price\",df['price'].cast('int')).\\\r\n",
        "withColumn(\"minimum_nights\",df['minimum_nights'].cast('int')).\\\r\n",
        "withColumn(\"number_of_reviews\",df['number_of_reviews'].cast('int')).\\\r\n",
        "withColumn(\"reviews_per_month\",df['reviews_per_month'].cast('int')).\\\r\n",
        "withColumn(\"calculated_host_listings_count\",df['calculated_host_listings_count'].cast('int'));"
      ],
      "execution_count": 37,
      "outputs": []
    },
    {
      "cell_type": "code",
      "metadata": {
        "colab": {
          "base_uri": "https://localhost:8080/"
        },
        "id": "DzW3SZekMSVj",
        "outputId": "a18a8349-47fe-4866-f99b-0979794280e1"
      },
      "source": [
        "df.count()"
      ],
      "execution_count": 9,
      "outputs": [
        {
          "output_type": "execute_result",
          "data": {
            "text/plain": [
              "49079"
            ]
          },
          "metadata": {
            "tags": []
          },
          "execution_count": 9
        }
      ]
    },
    {
      "cell_type": "markdown",
      "metadata": {
        "id": "16DfikWaM0aj"
      },
      "source": [
        "# **How many total reviews does each host have?**"
      ]
    },
    {
      "cell_type": "code",
      "metadata": {
        "colab": {
          "base_uri": "https://localhost:8080/"
        },
        "id": "esL77IWVMuPZ",
        "outputId": "8b0ec3e1-6eb4-4901-8831-161d81313d2b"
      },
      "source": [
        "df.groupBy('host_id').agg(sum('number_of_reviews')).show(10)"
      ],
      "execution_count": 11,
      "outputs": [
        {
          "output_type": "stream",
          "text": [
            "+-------+----------------------+\n",
            "|host_id|sum(number_of_reviews)|\n",
            "+-------+----------------------+\n",
            "| 716306|                   197|\n",
            "|1203500|                    35|\n",
            "| 368528|                     1|\n",
            "|1577493|                    16|\n",
            "|1390555|                    50|\n",
            "|1317588|                     3|\n",
            "|2472680|                   219|\n",
            "|2155832|                   266|\n",
            "|2426404|                     6|\n",
            "|2740824|                    22|\n",
            "+-------+----------------------+\n",
            "only showing top 10 rows\n",
            "\n"
          ],
          "name": "stdout"
        }
      ]
    },
    {
      "cell_type": "markdown",
      "metadata": {
        "id": "Egygzo17NTdO"
      },
      "source": [
        "# **Show the min & max values of all the numerical variables of the dataset**"
      ]
    },
    {
      "cell_type": "code",
      "metadata": {
        "id": "oP-_evwlNC6G"
      },
      "source": [
        "ms=df.columns;\r\n",
        "input_columns=[];\r\n",
        "for i in ms:\r\n",
        "  if str(df.schema[i].dataType) == 'IntegerType':\r\n",
        "    input_columns.append(i);"
      ],
      "execution_count": 12,
      "outputs": []
    },
    {
      "cell_type": "code",
      "metadata": {
        "colab": {
          "base_uri": "https://localhost:8080/"
        },
        "id": "eYNR1cGIOH9B",
        "outputId": "21a81e8f-68b6-4a3e-978a-ad31386a7272"
      },
      "source": [
        "input_columns"
      ],
      "execution_count": 15,
      "outputs": [
        {
          "output_type": "execute_result",
          "data": {
            "text/plain": [
              "['price',\n",
              " 'minimum_nights',\n",
              " 'number_of_reviews',\n",
              " 'reviews_per_month',\n",
              " 'calculated_host_listings_count',\n",
              " 'availability_365']"
            ]
          },
          "metadata": {
            "tags": []
          },
          "execution_count": 15
        }
      ]
    },
    {
      "cell_type": "code",
      "metadata": {
        "colab": {
          "base_uri": "https://localhost:8080/"
        },
        "id": "Km2gM5bQNrzu",
        "outputId": "79fa8c73-422b-415c-cd01-6ec84c3ee50e"
      },
      "source": [
        "df.select(input_columns).summary(\"min\",\"max\").show()"
      ],
      "execution_count": 14,
      "outputs": [
        {
          "output_type": "stream",
          "text": [
            "+-------+-----+--------------+-----------------+-----------------+------------------------------+----------------+\n",
            "|summary|price|minimum_nights|number_of_reviews|reviews_per_month|calculated_host_listings_count|availability_365|\n",
            "+-------+-----+--------------+-----------------+-----------------+------------------------------+----------------+\n",
            "|    min|  -74|             0|                0|                0|                             0|               0|\n",
            "|    max|10000|          1250|              629|               58|                           365|             365|\n",
            "+-------+-----+--------------+-----------------+-----------------+------------------------------+----------------+\n",
            "\n"
          ],
          "name": "stdout"
        }
      ]
    },
    {
      "cell_type": "markdown",
      "metadata": {
        "id": "byB1q6dqOZUy"
      },
      "source": [
        "# **Which host has heighest number of reviews**"
      ]
    },
    {
      "cell_type": "code",
      "metadata": {
        "colab": {
          "base_uri": "https://localhost:8080/"
        },
        "id": "L5gNnMVRN1NG",
        "outputId": "b17cc426-814d-409c-e602-b8c9fcd16de2"
      },
      "source": [
        "df.groupBy('host_id').agg(sum('number_of_reviews').alias('Total_number_of_Reviews')).orderBy('Total_number_of_Reviews',ascending=False).show()"
      ],
      "execution_count": 29,
      "outputs": [
        {
          "output_type": "stream",
          "text": [
            "+---------+-----------------------+\n",
            "|  host_id|Total_number_of_Reviews|\n",
            "+---------+-----------------------+\n",
            "| 37312959|                   2273|\n",
            "|   344035|                   2205|\n",
            "| 26432133|                   2017|\n",
            "| 35524316|                   1971|\n",
            "| 40176101|                   1818|\n",
            "|  4734398|                   1798|\n",
            "| 16677326|                   1355|\n",
            "|  6885157|                   1346|\n",
            "|219517861|                   1281|\n",
            "| 23591164|                   1269|\n",
            "| 59529529|                   1229|\n",
            "| 47621202|                   1205|\n",
            "| 22959695|                   1157|\n",
            "| 58391491|                   1154|\n",
            "| 21641206|                   1062|\n",
            "|   137814|                   1059|\n",
            "|156948703|                   1052|\n",
            "|156684502|                   1046|\n",
            "|  3441272|                   1013|\n",
            "|  7831209|                    970|\n",
            "+---------+-----------------------+\n",
            "only showing top 20 rows\n",
            "\n"
          ],
          "name": "stdout"
        }
      ]
    },
    {
      "cell_type": "markdown",
      "metadata": {
        "id": "jrd1D57XR8Ba"
      },
      "source": [
        "# **How many nights did most hosts specify for a minimum?**"
      ]
    },
    {
      "cell_type": "code",
      "metadata": {
        "colab": {
          "base_uri": "https://localhost:8080/"
        },
        "id": "WGCT26GbRbwR",
        "outputId": "3d9d697d-7582-423e-fc2e-f382faee4296"
      },
      "source": [
        "df.select(avg('minimum_nights')).show()"
      ],
      "execution_count": 33,
      "outputs": [
        {
          "output_type": "stream",
          "text": [
            "+-------------------+\n",
            "|avg(minimum_nights)|\n",
            "+-------------------+\n",
            "| 7.1286126280910596|\n",
            "+-------------------+\n",
            "\n"
          ],
          "name": "stdout"
        }
      ]
    },
    {
      "cell_type": "markdown",
      "metadata": {
        "id": "RJgGxchcSgtE"
      },
      "source": [
        "# **What is the most expensive neighborhood to stay on average?**"
      ]
    },
    {
      "cell_type": "code",
      "metadata": {
        "colab": {
          "base_uri": "https://localhost:8080/"
        },
        "id": "OyK3f4n-SMJU",
        "outputId": "bfa391b7-8695-4202-d4a1-bb8078d1c8c2"
      },
      "source": [
        "df.groupBy('neighbourhood').agg(avg('price').alias('Average Price')).orderBy('Average Price',ascending=False).show(5)"
      ],
      "execution_count": 35,
      "outputs": [
        {
          "output_type": "stream",
          "text": [
            "+--------------+------------------+\n",
            "| neighbourhood|     Average Price|\n",
            "+--------------+------------------+\n",
            "|Fort Wadsworth|             800.0|\n",
            "|       Woodrow|             700.0|\n",
            "|      Sea Gate| 548.3333333333334|\n",
            "|       Tribeca|  490.638418079096|\n",
            "|     Riverdale|442.09090909090907|\n",
            "+--------------+------------------+\n",
            "only showing top 5 rows\n",
            "\n"
          ],
          "name": "stdout"
        }
      ]
    }
  ]
}