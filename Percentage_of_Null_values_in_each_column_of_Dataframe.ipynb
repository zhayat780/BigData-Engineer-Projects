{
  "nbformat": 4,
  "nbformat_minor": 0,
  "metadata": {
    "colab": {
      "name": "Percentage of Null values in each column of Dataframe.ipynb",
      "provenance": []
    },
    "kernelspec": {
      "name": "python3",
      "display_name": "Python 3"
    }
  },
  "cells": [
    {
      "cell_type": "code",
      "metadata": {
        "id": "MC2q4G2wP9Jp",
        "colab": {
          "base_uri": "https://localhost:8080/",
          "height": 500
        },
        "outputId": "79cf3b4d-b547-40d9-ac3f-f6bfe54d0cdf"
      },
      "source": [
        "!apt-get update\r\n",
        "!apt-get install openjdk-8-jdk-headless -qq > /dev/null\r\n",
        "!wget -q htt  https://archive.apache.org/dist/spark/spark-2.3.1/spark-2.3.1-bin-hadoop2.7.tgz\r\n",
        "!tar xf spark-2.3.1-bin-hadoop2.7.tgz\r\n",
        "!pip install -q findspark\r\n",
        "\r\n",
        "import os\r\n",
        "os.environ[\"JAVA_HOME\"] = \"/usr/lib/jvm/java-8-openjdk-amd64\"\r\n",
        "os.environ[\"SPARK_HOME\"] = \"/content/spark-2.3.1-bin-hadoop2.7\"\r\n",
        "\r\n",
        "import findspark\r\n",
        "findspark.init()\r\n",
        "from pyspark.sql import SparkSession\r\n",
        "spark = SparkSession.builder.getOrCreate()\r\n",
        "spark"
      ],
      "execution_count": 1,
      "outputs": [
        {
          "output_type": "stream",
          "text": [
            "\r0% [Working]\r            \rGet:1 https://cloud.r-project.org/bin/linux/ubuntu bionic-cran40/ InRelease [3,626 B]\n",
            "\r0% [Connecting to archive.ubuntu.com (91.189.88.152)] [Connecting to security.u\r0% [Connecting to archive.ubuntu.com (91.189.88.152)] [Connecting to security.u\r                                                                               \rIgn:2 https://developer.download.nvidia.com/compute/cuda/repos/ubuntu1804/x86_64  InRelease\n",
            "\r0% [Connecting to archive.ubuntu.com (91.189.88.152)] [Waiting for headers] [Co\r0% [1 InRelease gpgv 3,626 B] [Connecting to archive.ubuntu.com (91.189.88.152)\r                                                                               \rIgn:3 https://developer.download.nvidia.com/compute/machine-learning/repos/ubuntu1804/x86_64  InRelease\n",
            "\r0% [1 InRelease gpgv 3,626 B] [Connecting to archive.ubuntu.com (91.189.88.152)\r                                                                               \rHit:4 https://developer.download.nvidia.com/compute/cuda/repos/ubuntu1804/x86_64  Release\n",
            "\r0% [1 InRelease gpgv 3,626 B] [Connecting to archive.ubuntu.com (91.189.88.152)\r                                                                               \rGet:5 http://security.ubuntu.com/ubuntu bionic-security InRelease [88.7 kB]\n",
            "\r0% [1 InRelease gpgv 3,626 B] [Connecting to archive.ubuntu.com (91.189.88.152)\r                                                                               \rHit:6 https://developer.download.nvidia.com/compute/machine-learning/repos/ubuntu1804/x86_64  Release\n",
            "Get:7 http://ppa.launchpad.net/c2d4u.team/c2d4u4.0+/ubuntu bionic InRelease [15.9 kB]\n",
            "Hit:8 http://archive.ubuntu.com/ubuntu bionic InRelease\n",
            "Get:9 https://cloud.r-project.org/bin/linux/ubuntu bionic-cran40/ Packages [41.5 kB]\n",
            "Get:10 http://archive.ubuntu.com/ubuntu bionic-updates InRelease [88.7 kB]\n",
            "Hit:12 http://ppa.launchpad.net/cran/libgit2/ubuntu bionic InRelease\n",
            "Get:14 http://archive.ubuntu.com/ubuntu bionic-backports InRelease [74.6 kB]\n",
            "Hit:15 http://ppa.launchpad.net/graphics-drivers/ppa/ubuntu bionic InRelease\n",
            "Get:16 http://ppa.launchpad.net/c2d4u.team/c2d4u4.0+/ubuntu bionic/main Sources [1,704 kB]\n",
            "Get:17 http://ppa.launchpad.net/c2d4u.team/c2d4u4.0+/ubuntu bionic/main amd64 Packages [873 kB]\n",
            "Fetched 2,890 kB in 3s (847 kB/s)\n",
            "Reading package lists... Done\n"
          ],
          "name": "stdout"
        },
        {
          "output_type": "execute_result",
          "data": {
            "text/html": [
              "\n",
              "            <div>\n",
              "                <p><b>SparkSession - in-memory</b></p>\n",
              "                \n",
              "        <div>\n",
              "            <p><b>SparkContext</b></p>\n",
              "\n",
              "            <p><a href=\"http://db10b9be1bc4:4040\">Spark UI</a></p>\n",
              "\n",
              "            <dl>\n",
              "              <dt>Version</dt>\n",
              "                <dd><code>v2.3.1</code></dd>\n",
              "              <dt>Master</dt>\n",
              "                <dd><code>local[*]</code></dd>\n",
              "              <dt>AppName</dt>\n",
              "                <dd><code>pyspark-shell</code></dd>\n",
              "            </dl>\n",
              "        </div>\n",
              "        \n",
              "            </div>\n",
              "        "
            ],
            "text/plain": [
              "<pyspark.sql.session.SparkSession at 0x7f7972ca3a90>"
            ]
          },
          "metadata": {
            "tags": []
          },
          "execution_count": 1
        }
      ]
    },
    {
      "cell_type": "code",
      "metadata": {
        "colab": {
          "base_uri": "https://localhost:8080/"
        },
        "id": "na3dsBE35N_r",
        "outputId": "5168855b-b68b-4db0-8593-046e062832f6"
      },
      "source": [
        "df=spark.read.format(\"csv\").option(\"header\",\"true\").option(\"inferschema\",\"true\").load(\"/content/Weather.csv\");\r\n",
        "df.show()"
      ],
      "execution_count": 2,
      "outputs": [
        {
          "output_type": "stream",
          "text": [
            "+-------------------+-----+-----+------+------+----+-----+-----+------+------+-----+--------+----+----+---------+---------+----------+----------+----------+----------+-------+-------+----------------+------------+---+----+----+----+-------+-------+\n",
            "|    pickup_datetime|tempm|tempi|dewptm|dewpti| hum|wspdm|wspdi|wgustm|wgusti|wdird|   wdire|vism|visi|pressurem|pressurei|windchillm|windchilli|heatindexm|heatindexi|precipm|precipi|           conds|        icon|fog|rain|snow|hail|thunder|tornado|\n",
            "+-------------------+-----+-----+------+------+----+-----+-----+------+------+-----+--------+----+----+---------+---------+----------+----------+----------+----------+-------+-------+----------------+------------+---+----+----+----+-------+-------+\n",
            "|2015-12-31 00:15:00|  7.8| 46.0|   6.1|  43.0|89.0|  7.4|  4.6|  null|  null|   40|      NE| 4.0| 2.5|   1018.2|    30.07|       6.6|      43.9|      null|      null|    0.5|   0.02|      Light Rain|        rain|  0|   1|   0|   0|      0|      0|\n",
            "|2015-12-31 00:42:00|  7.8| 46.0|   6.1|  43.0|89.0|  7.4|  4.6|  null|  null|    0|Variable| 6.4| 4.0|   1017.8|    30.06|       6.6|      43.9|      null|      null|    0.8|   0.03|        Overcast|      cloudy|  0|   0|   0|   0|      0|      0|\n",
            "|2015-12-31 00:51:00|  7.8| 46.0|   6.1|  43.0|89.0|  5.6|  3.5|  null|  null|   20|     NNE| 8.0| 5.0|   1017.0|    30.04|       7.1|      44.8|      null|      null|    0.8|   0.03|        Overcast|      cloudy|  0|   0|   0|   0|      0|      0|\n",
            "|2015-12-31 01:51:00|  7.2| 45.0|   5.6|  42.1|90.0|  7.4|  4.6|  null|  null|    0|Variable|12.9| 8.0|   1016.5|    30.02|       5.9|      42.6|      null|      null|    0.3|   0.01|        Overcast|      cloudy|  0|   0|   0|   0|      0|      0|\n",
            "|2015-12-31 02:51:00|  7.2| 45.0|   5.6|  42.1|90.0|  0.0|  0.0|  null|  null|    0|   North|12.9| 8.0|   1016.7|    30.03|      null|      null|      null|      null|   null|   null|        Overcast|      cloudy|  0|   0|   0|   0|      0|      0|\n",
            "|2015-12-31 03:28:00|  6.7| 44.1|   5.0|  41.0|89.0|  7.4|  4.6|  null|  null|  300|     WNW|12.9| 8.0|   1017.2|    30.04|       5.3|      41.5|      null|      null|   null|   null|        Overcast|      cloudy|  0|   0|   0|   0|      0|      0|\n",
            "|2015-12-31 03:40:00|  7.2| 45.0|   5.0|  41.0|86.0|  0.0|  0.0|  null|  null|    0|   North|12.9| 8.0|   1016.8|    30.03|      null|      null|      null|      null|   null|   null|        Overcast|      cloudy|  0|   0|   0|   0|      0|      0|\n",
            "|2015-12-31 03:51:00|  7.2| 45.0|   5.0|  41.0|86.0|  7.4|  4.6|  null|  null|  310|      NW|14.5| 9.0|   1015.9|     30.0|       5.9|      42.6|      null|      null|   null|   null|        Overcast|      cloudy|  0|   0|   0|   0|      0|      0|\n",
            "|2015-12-31 04:22:00|  7.2| 45.0|   5.0|  41.0|86.0|  5.6|  3.5|  null|  null|  280|    West|14.5| 9.0|   1016.8|    30.03|       6.4|      43.5|      null|      null|   null|   null|        Overcast|      cloudy|  0|   0|   0|   0|      0|      0|\n",
            "|2015-12-31 04:51:00|  7.2| 45.0|   5.6|  42.1|90.0|  5.6|  3.5|  null|  null|  270|    West|11.3| 7.0|   1016.2|    30.01|       6.4|      43.5|      null|      null|   null|   null|        Overcast|      cloudy|  0|   0|   0|   0|      0|      0|\n",
            "|2015-12-31 05:14:00|  7.2| 45.0|   5.0|  41.0|86.0|  0.0|  0.0|  null|  null|    0|   North|12.9| 8.0|   1017.2|    30.04|      null|      null|      null|      null|   null|   null|Scattered Clouds|partlycloudy|  0|   0|   0|   0|      0|      0|\n",
            "|2015-12-31 05:51:00|  7.8| 46.0|   5.6|  42.1|86.0|  5.6|  3.5|  null|  null|    0|Variable|16.1|10.0|   1016.6|    30.02|       7.1|      44.8|      null|      null|   null|   null|           Clear|       clear|  0|   0|   0|   0|      0|      0|\n",
            "|2015-12-31 06:51:00|  7.8| 46.0|   5.6|  42.1|86.0|  7.4|  4.6|  null|  null|    0|Variable|16.1|10.0|   1016.9|    30.03|       6.6|      43.9|      null|      null|   null|   null|           Clear|       clear|  0|   0|   0|   0|      0|      0|\n",
            "|2015-12-31 07:14:00|  7.8| 46.0|   5.6|  42.1|86.0|  7.4|  4.6|  null|  null|  270|    West|14.5| 9.0|   1018.2|    30.07|       6.6|      43.9|      null|      null|   null|   null|   Mostly Cloudy|mostlycloudy|  0|   0|   0|   0|      0|      0|\n",
            "|2015-12-31 07:28:00|  8.3| 46.9|   5.6|  42.1|83.0|  7.4|  4.6|  null|  null|  290|     WNW|16.1|10.0|   1018.2|    30.07|      null|      null|      null|      null|   null|   null|        Overcast|      cloudy|  0|   0|   0|   0|      0|      0|\n",
            "|2015-12-31 07:51:00|  8.3| 46.9|   5.6|  42.1|83.0|  5.6|  3.5|  null|  null|  290|     WNW|14.5| 9.0|   1017.7|    30.06|      null|      null|      null|      null|   null|   null|        Overcast|      cloudy|  0|   0|   0|   0|      0|      0|\n",
            "|2015-12-31 08:51:00|  8.3| 46.9|   5.0|  41.0|80.0|  7.4|  4.6|  null|  null|    0|Variable|16.1|10.0|   1018.5|    30.08|      null|      null|      null|      null|   null|   null|           Clear|       clear|  0|   0|   0|   0|      0|      0|\n",
            "|2015-12-31 09:51:00|  8.3| 46.9|   2.8|  37.0|68.0|  9.3|  5.8|  null|  null|  300|     WNW|16.1|10.0|   1019.0|    30.09|      null|      null|      null|      null|   null|   null|        Overcast|      cloudy|  0|   0|   0|   0|      0|      0|\n",
            "|2015-12-31 10:51:00|  8.3| 46.9|   2.2|  36.0|66.0| 16.7| 10.4|  null|  null|  310|      NW|16.1|10.0|   1018.9|    30.09|      null|      null|      null|      null|   null|   null|        Overcast|      cloudy|  0|   0|   0|   0|      0|      0|\n",
            "|2015-12-31 11:51:00|  8.3| 46.9|   1.1|  34.0|61.0| 14.8|  9.2|  29.6|  18.4|  310|      NW|16.1|10.0|   1017.7|    30.06|      null|      null|      null|      null|   null|   null|        Overcast|      cloudy|  0|   0|   0|   0|      0|      0|\n",
            "+-------------------+-----+-----+------+------+----+-----+-----+------+------+-----+--------+----+----+---------+---------+----------+----------+----------+----------+-------+-------+----------------+------------+---+----+----+----+-------+-------+\n",
            "only showing top 20 rows\n",
            "\n"
          ],
          "name": "stdout"
        }
      ]
    },
    {
      "cell_type": "code",
      "metadata": {
        "id": "IvsEIiL4Hnp7",
        "colab": {
          "base_uri": "https://localhost:8080/"
        },
        "outputId": "6c9c4d03-7dd6-4979-f2ad-f9bc9b2028c1"
      },
      "source": [
        "df.printSchema()"
      ],
      "execution_count": 3,
      "outputs": [
        {
          "output_type": "stream",
          "text": [
            "root\n",
            " |-- pickup_datetime: timestamp (nullable = true)\n",
            " |-- tempm: double (nullable = true)\n",
            " |-- tempi: double (nullable = true)\n",
            " |-- dewptm: double (nullable = true)\n",
            " |-- dewpti: double (nullable = true)\n",
            " |-- hum: double (nullable = true)\n",
            " |-- wspdm: double (nullable = true)\n",
            " |-- wspdi: double (nullable = true)\n",
            " |-- wgustm: double (nullable = true)\n",
            " |-- wgusti: double (nullable = true)\n",
            " |-- wdird: integer (nullable = true)\n",
            " |-- wdire: string (nullable = true)\n",
            " |-- vism: double (nullable = true)\n",
            " |-- visi: double (nullable = true)\n",
            " |-- pressurem: double (nullable = true)\n",
            " |-- pressurei: double (nullable = true)\n",
            " |-- windchillm: double (nullable = true)\n",
            " |-- windchilli: double (nullable = true)\n",
            " |-- heatindexm: double (nullable = true)\n",
            " |-- heatindexi: double (nullable = true)\n",
            " |-- precipm: double (nullable = true)\n",
            " |-- precipi: double (nullable = true)\n",
            " |-- conds: string (nullable = true)\n",
            " |-- icon: string (nullable = true)\n",
            " |-- fog: integer (nullable = true)\n",
            " |-- rain: integer (nullable = true)\n",
            " |-- snow: integer (nullable = true)\n",
            " |-- hail: integer (nullable = true)\n",
            " |-- thunder: integer (nullable = true)\n",
            " |-- tornado: integer (nullable = true)\n",
            "\n"
          ],
          "name": "stdout"
        }
      ]
    },
    {
      "cell_type": "markdown",
      "metadata": {
        "id": "g5Po55uuP9oW"
      },
      "source": [
        "# **Get a count & percetage of null values of each variable of the Dataset**"
      ]
    },
    {
      "cell_type": "code",
      "metadata": {
        "id": "qPnb5UMsP3Mr"
      },
      "source": [
        "ms=df.columns;\r\n",
        "gs=[];\r\n",
        "column_with_null_values=[];\r\n",
        "for i in ms:\r\n",
        "  count_of_null_values=df.filter(df[i].isNull()).count();\r\n",
        "  if (count_of_null_values>0):\r\n",
        "    column_with_null_values.append(i);\r\n",
        "    gs.append(count_of_null_values);"
      ],
      "execution_count": 4,
      "outputs": []
    },
    {
      "cell_type": "code",
      "metadata": {
        "colab": {
          "base_uri": "https://localhost:8080/"
        },
        "id": "0oEM2wQvQg1E",
        "outputId": "a13ade2d-2b50-4f7e-9e50-58b222b3829b"
      },
      "source": [
        "for i in range(len(gs)):\r\n",
        "  print(column_with_null_values[i],\"     \",gs[i], \"    \",(gs[i]/(df.count()))*100)"
      ],
      "execution_count": 5,
      "outputs": [
        {
          "output_type": "stream",
          "text": [
            "tempm       5      0.04770537162484496\n",
            "tempi       5      0.04770537162484496\n",
            "dewptm       5      0.04770537162484496\n",
            "dewpti       5      0.04770537162484496\n",
            "hum       5      0.04770537162484496\n",
            "wspdm       737      7.031771777502146\n",
            "wspdi       737      7.031771777502146\n",
            "wgustm       8605      82.10094456635817\n",
            "wgusti       8605      82.10094456635817\n",
            "vism       245      2.3375632096174033\n",
            "visi       245      2.3375632096174033\n",
            "pressurem       239      2.2803167636675887\n",
            "pressurei       239      2.2803167636675887\n",
            "windchillm       7775      74.18185287663391\n",
            "windchilli       7775      74.18185287663391\n",
            "heatindexm       9644      92.01412079000096\n",
            "heatindexi       9644      92.01412079000096\n",
            "precipm       8775      83.7229272016029\n",
            "precipi       8775      83.7229272016029\n"
          ],
          "name": "stdout"
        }
      ]
    }
  ]
}