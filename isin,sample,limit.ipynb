{
  "nbformat": 4,
  "nbformat_minor": 0,
  "metadata": {
    "colab": {
      "name": "Untitled4.ipynb",
      "provenance": []
    },
    "kernelspec": {
      "name": "python3",
      "display_name": "Python 3"
    }
  },
  "cells": [
    {
      "cell_type": "code",
      "metadata": {
        "id": "4qEjtBjtfY8I",
        "colab": {
          "base_uri": "https://localhost:8080/",
          "height": 498
        },
        "outputId": "323fc738-4f50-4550-ca76-d4038b0198a6"
      },
      "source": [
        "!apt-get update\r\n",
        "!apt-get install openjdk-8-jdk-headless -qq > /dev/null\r\n",
        "!wget -q htt  https://archive.apache.org/dist/spark/spark-2.3.1/spark-2.3.1-bin-hadoop2.7.tgz\r\n",
        "!tar xf spark-2.3.1-bin-hadoop2.7.tgz\r\n",
        "!pip install -q findspark\r\n",
        "\r\n",
        "import os\r\n",
        "os.environ[\"JAVA_HOME\"] = \"/usr/lib/jvm/java-8-openjdk-amd64\"\r\n",
        "os.environ[\"SPARK_HOME\"] = \"/content/spark-2.3.1-bin-hadoop2.7\"\r\n",
        "\r\n",
        "import findspark\r\n",
        "findspark.init()\r\n",
        "from pyspark.sql import SparkSession\r\n",
        "spark = SparkSession.builder.getOrCreate()\r\n",
        "spark"
      ],
      "execution_count": 1,
      "outputs": [
        {
          "output_type": "stream",
          "text": [
            "Get:1 https://cloud.r-project.org/bin/linux/ubuntu bionic-cran40/ InRelease [3,626 B]\n",
            "Ign:2 https://developer.download.nvidia.com/compute/cuda/repos/ubuntu1804/x86_64  InRelease\n",
            "Get:3 http://security.ubuntu.com/ubuntu bionic-security InRelease [88.7 kB]\n",
            "Ign:4 https://developer.download.nvidia.com/compute/machine-learning/repos/ubuntu1804/x86_64  InRelease\n",
            "Hit:5 https://developer.download.nvidia.com/compute/cuda/repos/ubuntu1804/x86_64  Release\n",
            "Hit:6 https://developer.download.nvidia.com/compute/machine-learning/repos/ubuntu1804/x86_64  Release\n",
            "Get:7 http://ppa.launchpad.net/c2d4u.team/c2d4u4.0+/ubuntu bionic InRelease [15.9 kB]\n",
            "Hit:8 http://archive.ubuntu.com/ubuntu bionic InRelease\n",
            "Get:9 https://cloud.r-project.org/bin/linux/ubuntu bionic-cran40/ Packages [41.5 kB]\n",
            "Get:10 http://archive.ubuntu.com/ubuntu bionic-updates InRelease [88.7 kB]\n",
            "Hit:12 http://ppa.launchpad.net/cran/libgit2/ubuntu bionic InRelease\n",
            "Hit:14 http://ppa.launchpad.net/graphics-drivers/ppa/ubuntu bionic InRelease\n",
            "Get:15 http://archive.ubuntu.com/ubuntu bionic-backports InRelease [74.6 kB]\n",
            "Get:16 http://ppa.launchpad.net/c2d4u.team/c2d4u4.0+/ubuntu bionic/main Sources [1,703 kB]\n",
            "Get:17 http://ppa.launchpad.net/c2d4u.team/c2d4u4.0+/ubuntu bionic/main amd64 Packages [872 kB]\n",
            "Fetched 2,889 kB in 4s (713 kB/s)\n",
            "Reading package lists... Done\n"
          ],
          "name": "stdout"
        },
        {
          "output_type": "execute_result",
          "data": {
            "text/html": [
              "\n",
              "            <div>\n",
              "                <p><b>SparkSession - in-memory</b></p>\n",
              "                \n",
              "        <div>\n",
              "            <p><b>SparkContext</b></p>\n",
              "\n",
              "            <p><a href=\"http://147ab11d725c:4040\">Spark UI</a></p>\n",
              "\n",
              "            <dl>\n",
              "              <dt>Version</dt>\n",
              "                <dd><code>v2.3.1</code></dd>\n",
              "              <dt>Master</dt>\n",
              "                <dd><code>local[*]</code></dd>\n",
              "              <dt>AppName</dt>\n",
              "                <dd><code>pyspark-shell</code></dd>\n",
              "            </dl>\n",
              "        </div>\n",
              "        \n",
              "            </div>\n",
              "        "
            ],
            "text/plain": [
              "<pyspark.sql.session.SparkSession at 0x7f5766399a20>"
            ]
          },
          "metadata": {
            "tags": []
          },
          "execution_count": 1
        }
      ]
    },
    {
      "cell_type": "code",
      "metadata": {
        "id": "z90WuU9-fbiY",
        "colab": {
          "base_uri": "https://localhost:8080/"
        },
        "outputId": "69599149-37ed-4715-c8e2-ee1da09bd818"
      },
      "source": [
        "df=spark.read.format(\"csv\").option(\"header\",\"true\").option(\"inferschema\",\"true\").load(\"/content/sales_info.csv\");\r\n",
        "df.show()"
      ],
      "execution_count": 27,
      "outputs": [
        {
          "output_type": "stream",
          "text": [
            "+-------+-------+-----+\n",
            "|Company| Person|Sales|\n",
            "+-------+-------+-----+\n",
            "|   GOOG|    Sam|  200|\n",
            "|   GOOG|Charlie|  120|\n",
            "|   GOOG|  Frank|  340|\n",
            "|   MSFT|   Tina|  600|\n",
            "|   MSFT|    Amy|  124|\n",
            "|   MSFT|Vanessa|  243|\n",
            "|     FB|   Carl|  870|\n",
            "|     FB|  Sarah|  350|\n",
            "|   APPL|   John|  250|\n",
            "|   APPL|  Linda|  130|\n",
            "|   APPL|   Mike|  750|\n",
            "|   APPL|  Chris|  350|\n",
            "+-------+-------+-----+\n",
            "\n"
          ],
          "name": "stdout"
        }
      ]
    },
    {
      "cell_type": "code",
      "metadata": {
        "colab": {
          "base_uri": "https://localhost:8080/"
        },
        "id": "7soUR8Sq8PC4",
        "outputId": "357e6159-8054-4e66-caf2-285ae17d6235"
      },
      "source": [
        "df.count(),len(df.columns)"
      ],
      "execution_count": 42,
      "outputs": [
        {
          "output_type": "execute_result",
          "data": {
            "text/plain": [
              "(12, 3)"
            ]
          },
          "metadata": {
            "tags": []
          },
          "execution_count": 42
        }
      ]
    },
    {
      "cell_type": "code",
      "metadata": {
        "id": "dCjrWm_27bgj"
      },
      "source": [
        "ms=df.limit(5)"
      ],
      "execution_count": 30,
      "outputs": []
    },
    {
      "cell_type": "code",
      "metadata": {
        "colab": {
          "base_uri": "https://localhost:8080/"
        },
        "id": "Uyt5tbFz7qFO",
        "outputId": "271e1637-064e-4e3c-cf46-ee9156d8d4f0"
      },
      "source": [
        "ms.show()"
      ],
      "execution_count": 31,
      "outputs": [
        {
          "output_type": "stream",
          "text": [
            "+-------+-------+-----+\n",
            "|Company| Person|Sales|\n",
            "+-------+-------+-----+\n",
            "|   GOOG|    Sam|  200|\n",
            "|   GOOG|Charlie|  120|\n",
            "|   GOOG|  Frank|  340|\n",
            "|   MSFT|   Tina|  600|\n",
            "|   MSFT|    Amy|  124|\n",
            "+-------+-------+-----+\n",
            "\n"
          ],
          "name": "stdout"
        }
      ]
    },
    {
      "cell_type": "code",
      "metadata": {
        "colab": {
          "base_uri": "https://localhost:8080/"
        },
        "id": "pn5qDVlw7vYS",
        "outputId": "236b2e1b-7cb8-469c-8857-91838df34c0d"
      },
      "source": [
        "df.filter(df['Company'].isin('GOOG','FB','MSFT')).show()"
      ],
      "execution_count": 40,
      "outputs": [
        {
          "output_type": "stream",
          "text": [
            "+-------+-------+-----+\n",
            "|Company| Person|Sales|\n",
            "+-------+-------+-----+\n",
            "|   GOOG|    Sam|  200|\n",
            "|   GOOG|Charlie|  120|\n",
            "|   GOOG|  Frank|  340|\n",
            "|   MSFT|   Tina|  600|\n",
            "|   MSFT|    Amy|  124|\n",
            "|   MSFT|Vanessa|  243|\n",
            "|     FB|   Carl|  870|\n",
            "|     FB|  Sarah|  350|\n",
            "+-------+-------+-----+\n",
            "\n"
          ],
          "name": "stdout"
        }
      ]
    },
    {
      "cell_type": "markdown",
      "metadata": {
        "id": "LpGMrw85AcOw"
      },
      "source": [
        "# **Sample() function to get a random sampling**\r\n",
        "\r\n"
      ]
    },
    {
      "cell_type": "code",
      "metadata": {
        "colab": {
          "base_uri": "https://localhost:8080/"
        },
        "id": "lnNg9Yeg7_UK",
        "outputId": "e7fca61c-9d1a-4e4c-ca40-a352ed3b3cb5"
      },
      "source": [
        "df.sample(fraction=0.5).show()"
      ],
      "execution_count": 44,
      "outputs": [
        {
          "output_type": "stream",
          "text": [
            "+-------+-------+-----+\n",
            "|Company| Person|Sales|\n",
            "+-------+-------+-----+\n",
            "|   MSFT|    Amy|  124|\n",
            "|   MSFT|Vanessa|  243|\n",
            "|     FB|   Carl|  870|\n",
            "|   APPL|   John|  250|\n",
            "|   APPL|  Linda|  130|\n",
            "|   APPL|   Mike|  750|\n",
            "|   APPL|  Chris|  350|\n",
            "+-------+-------+-----+\n",
            "\n"
          ],
          "name": "stdout"
        }
      ]
    }
  ]
}
