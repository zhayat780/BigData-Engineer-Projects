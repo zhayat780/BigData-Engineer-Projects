{
  "nbformat": 4,
  "nbformat_minor": 0,
  "metadata": {
    "colab": {
      "name": "Receive message from SQS Queue.ipynb",
      "provenance": [],
      "collapsed_sections": [],
      "authorship_tag": "ABX9TyNR1sW0Aj+F3Lv3pzuSn6Ko",
      "include_colab_link": true
    },
    "kernelspec": {
      "name": "python3",
      "display_name": "Python 3"
    },
    "language_info": {
      "name": "python"
    }
  },
  "cells": [
    {
      "cell_type": "markdown",
      "metadata": {
        "id": "view-in-github",
        "colab_type": "text"
      },
      "source": [
        "<a href=\"https://colab.research.google.com/github/SatadruMukherjee/Data-Preprocessing-Models/blob/main/Receive_message_from_SQS_Queue.ipynb\" target=\"_parent\"><img src=\"https://colab.research.google.com/assets/colab-badge.svg\" alt=\"Open In Colab\"/></a>"
      ]
    },
    {
      "cell_type": "code",
      "execution_count": null,
      "metadata": {
        "id": "9yfeRovQ3_Z-"
      },
      "outputs": [],
      "source": [
        "!pip install boto3"
      ]
    },
    {
      "cell_type": "code",
      "source": [
        "import json\n",
        "import boto3\n",
        "import datetime\n",
        "from datetime import date"
      ],
      "metadata": {
        "id": "DVx1x--T4Ab-"
      },
      "execution_count": 2,
      "outputs": []
    },
    {
      "cell_type": "code",
      "source": [
        "sqs_send= boto3.client('sqs',  aws_access_key_id='',\n",
        "aws_secret_access_key='', region_name='us-east-2')"
      ],
      "metadata": {
        "id": "kRjqBi314CHT"
      },
      "execution_count": 3,
      "outputs": []
    },
    {
      "cell_type": "markdown",
      "source": [
        "# **Send one message & try to read the same , ovserver the events in SQS Console**"
      ],
      "metadata": {
        "id": "pnwfAI72-h6N"
      }
    },
    {
      "cell_type": "code",
      "source": [
        "# Defining Custom Function to Send Message to Main Queue and Deleting it from DLQ \n",
        "def sendQueue(sendQueueUrl,messageBody,messageAttributes) :\n",
        "    # Calling Send Message API\n",
        "    ret = sqs_send.send_message( QueueUrl=sendQueueUrl, \n",
        "                            MessageBody=messageBody,\n",
        "                            MessageAttributes=messageAttributes) \n",
        "    return ret"
      ],
      "metadata": {
        "id": "BcuyNHY54Jsf"
      },
      "execution_count": 4,
      "outputs": []
    },
    {
      "cell_type": "code",
      "source": [
        "sendQueueUrl=''"
      ],
      "metadata": {
        "id": "0t-P4QqM4D6x"
      },
      "execution_count": 5,
      "outputs": []
    },
    {
      "cell_type": "code",
      "source": [
        "MessageAttributes={\n",
        "    'Name': {\n",
        "        'StringValue': 'Satadru Mukherjee',\n",
        "        'DataType': 'String'\n",
        "    },\n",
        "    'Age': {\n",
        "        'StringValue': '5',\n",
        "        'DataType': 'Number'\n",
        "    }}\n",
        "messageBody='Hello World 10'\n",
        "response = sendQueue(sendQueueUrl,messageBody,MessageAttributes)"
      ],
      "metadata": {
        "id": "ZVM63yg54NE5"
      },
      "execution_count": 6,
      "outputs": []
    },
    {
      "cell_type": "code",
      "source": [
        "messages = sqs_send.receive_message(QueueUrl=sendQueueUrl, MaxNumberOfMessages=10\n",
        "                                    ,WaitTimeSeconds=20,MessageAttributeNames=['All'])"
      ],
      "metadata": {
        "id": "M3VdMOIu4RUE"
      },
      "execution_count": 7,
      "outputs": []
    },
    {
      "cell_type": "code",
      "source": [
        "messages"
      ],
      "metadata": {
        "id": "thAN10264TI7"
      },
      "execution_count": null,
      "outputs": []
    },
    {
      "cell_type": "code",
      "source": [
        "receipthandle=messages['Messages'][0]['ReceiptHandle']\n",
        "print(receipthandle)"
      ],
      "metadata": {
        "id": "ZJOqbSV85Yd7"
      },
      "execution_count": null,
      "outputs": []
    },
    {
      "cell_type": "markdown",
      "source": [
        "# **Delete the messagea**"
      ],
      "metadata": {
        "id": "DHrwl_Qn-zgc"
      }
    },
    {
      "cell_type": "code",
      "source": [
        "sqs_send.delete_message(QueueUrl=sendQueueUrl, ReceiptHandle=receipthandle)  "
      ],
      "metadata": {
        "id": "djDR5S4e49Ek"
      },
      "execution_count": null,
      "outputs": []
    },
    {
      "cell_type": "markdown",
      "source": [
        "# **Try to receive the message when the queue is empty**"
      ],
      "metadata": {
        "id": "mmP53eJo-rSq"
      }
    },
    {
      "cell_type": "code",
      "source": [
        "messages = sqs_send.receive_message(QueueUrl=sendQueueUrl, MaxNumberOfMessages=10\n",
        "                                    ,WaitTimeSeconds=20,MessageAttributeNames=['All'])"
      ],
      "metadata": {
        "id": "b2a-9Xwm57NH"
      },
      "execution_count": 11,
      "outputs": []
    },
    {
      "cell_type": "code",
      "source": [
        "messages"
      ],
      "metadata": {
        "id": "QzAmR63V6D4k"
      },
      "execution_count": null,
      "outputs": []
    },
    {
      "cell_type": "markdown",
      "source": [
        "# **Note : the \"Messages\" key is not there when queue is empty**"
      ],
      "metadata": {
        "id": "UmsR5U8V-6ZX"
      }
    },
    {
      "cell_type": "code",
      "source": [
        "def process_sqs_message():\n",
        "  while True:\n",
        "    messages = sqs_send.receive_message(QueueUrl=sendQueueUrl, MaxNumberOfMessages=10\n",
        "                                      ,WaitTimeSeconds=20,MessageAttributeNames=['All'])\n",
        "    if 'Messages' in messages:\n",
        "      for m in messages['Messages']:\n",
        "        print(m['Body'],m['ReceiptHandle'],m['MessageAttributes'])\n",
        "        sqs_send.delete_message(QueueUrl=sendQueueUrl, ReceiptHandle=m['ReceiptHandle'])  \n",
        "    else:\n",
        "      print('Queue is currently Empty or Messages are Invisible')\n",
        "      break"
      ],
      "metadata": {
        "id": "SBadr7rn6YSC"
      },
      "execution_count": 13,
      "outputs": []
    },
    {
      "cell_type": "markdown",
      "source": [
        "# **Test the above code**"
      ],
      "metadata": {
        "id": "DhN3ttaQ_HjA"
      }
    },
    {
      "cell_type": "code",
      "source": [
        "MessageAttributes={\n",
        "    'Name': {\n",
        "        'StringValue': 'Satadru Mukherjee',\n",
        "        'DataType': 'String'\n",
        "    },\n",
        "    'Age': {\n",
        "        'StringValue': '5',\n",
        "        'DataType': 'Number'\n",
        "    }}\n",
        "messageBody='Hello World 1'\n",
        "response = sendQueue(sendQueueUrl,messageBody,MessageAttributes)\n",
        "MessageAttributes={\n",
        "    'Age': {\n",
        "        'StringValue': '5',\n",
        "        'DataType': 'Number'\n",
        "    }}\n",
        "messageBody='Hello World 2'\n",
        "response = sendQueue(sendQueueUrl,messageBody,MessageAttributes)\n",
        "MessageAttributes={\n",
        "    'Name': {\n",
        "        'StringValue': 'Satadru',\n",
        "        'DataType': 'String'\n",
        "    }}\n",
        "messageBody='Hello World 3'\n",
        "response = sendQueue(sendQueueUrl,messageBody,MessageAttributes)"
      ],
      "metadata": {
        "id": "sR833AIv9MIT"
      },
      "execution_count": 14,
      "outputs": []
    },
    {
      "cell_type": "code",
      "source": [
        "process_sqs_message()"
      ],
      "metadata": {
        "id": "CVXnHiDY-I2b"
      },
      "execution_count": null,
      "outputs": []
    },
    {
      "cell_type": "code",
      "source": [
        ""
      ],
      "metadata": {
        "id": "9n01OU2g-Oow"
      },
      "execution_count": null,
      "outputs": []
    }
  ]
}