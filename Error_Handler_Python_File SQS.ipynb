{
  "nbformat": 4,
  "nbformat_minor": 0,
  "metadata": {
    "colab": {
      "name": "Error Handler Python File.ipynb",
      "provenance": [],
      "authorship_tag": "ABX9TyMSwehZjsV53h3kLEisxXsb",
      "include_colab_link": true
    },
    "kernelspec": {
      "name": "python3",
      "display_name": "Python 3"
    },
    "language_info": {
      "name": "python"
    }
  },
  "cells": [
    {
      "cell_type": "markdown",
      "metadata": {
        "id": "view-in-github",
        "colab_type": "text"
      },
      "source": [
        "<a href=\"https://colab.research.google.com/github/SatadruMukherjee/Data-Preprocessing-Models/blob/main/Error_Handler_Python_File%20SQS.ipynb\" target=\"_parent\"><img src=\"https://colab.research.google.com/assets/colab-badge.svg\" alt=\"Open In Colab\"/></a>"
      ]
    },
    {
      "cell_type": "code",
      "source": [
        "!pip install boto3"
      ],
      "metadata": {
        "colab": {
          "base_uri": "https://localhost:8080/"
        },
        "id": "J1UQpq5kNvZW",
        "outputId": "6e889a39-e9d0-4339-a53a-e382e6ea5c9d"
      },
      "execution_count": 1,
      "outputs": [
        {
          "output_type": "stream",
          "name": "stdout",
          "text": [
            "Collecting boto3\n",
            "  Downloading boto3-1.23.0-py3-none-any.whl (132 kB)\n",
            "\u001b[K     |████████████████████████████████| 132 kB 10.3 MB/s \n",
            "\u001b[?25hCollecting botocore<1.27.0,>=1.26.0\n",
            "  Downloading botocore-1.26.0-py3-none-any.whl (8.7 MB)\n",
            "\u001b[K     |████████████████████████████████| 8.7 MB 64.4 MB/s \n",
            "\u001b[?25hCollecting s3transfer<0.6.0,>=0.5.0\n",
            "  Downloading s3transfer-0.5.2-py3-none-any.whl (79 kB)\n",
            "\u001b[K     |████████████████████████████████| 79 kB 9.3 MB/s \n",
            "\u001b[?25hCollecting jmespath<2.0.0,>=0.7.1\n",
            "  Downloading jmespath-1.0.0-py3-none-any.whl (23 kB)\n",
            "Collecting urllib3<1.27,>=1.25.4\n",
            "  Downloading urllib3-1.26.9-py2.py3-none-any.whl (138 kB)\n",
            "\u001b[K     |████████████████████████████████| 138 kB 65.5 MB/s \n",
            "\u001b[?25hRequirement already satisfied: python-dateutil<3.0.0,>=2.1 in /usr/local/lib/python3.7/dist-packages (from botocore<1.27.0,>=1.26.0->boto3) (2.8.2)\n",
            "Requirement already satisfied: six>=1.5 in /usr/local/lib/python3.7/dist-packages (from python-dateutil<3.0.0,>=2.1->botocore<1.27.0,>=1.26.0->boto3) (1.15.0)\n",
            "Installing collected packages: urllib3, jmespath, botocore, s3transfer, boto3\n",
            "  Attempting uninstall: urllib3\n",
            "    Found existing installation: urllib3 1.24.3\n",
            "    Uninstalling urllib3-1.24.3:\n",
            "      Successfully uninstalled urllib3-1.24.3\n",
            "\u001b[31mERROR: pip's dependency resolver does not currently take into account all the packages that are installed. This behaviour is the source of the following dependency conflicts.\n",
            "requests 2.23.0 requires urllib3!=1.25.0,!=1.25.1,<1.26,>=1.21.1, but you have urllib3 1.26.9 which is incompatible.\n",
            "datascience 0.10.6 requires folium==0.2.1, but you have folium 0.8.3 which is incompatible.\u001b[0m\n",
            "Successfully installed boto3-1.23.0 botocore-1.26.0 jmespath-1.0.0 s3transfer-0.5.2 urllib3-1.26.9\n"
          ]
        }
      ]
    },
    {
      "cell_type": "code",
      "execution_count": 2,
      "metadata": {
        "id": "as7dXAB7Z_fX"
      },
      "outputs": [],
      "source": [
        "import json\n",
        "import boto3\n",
        "import traceback\n",
        "import datetime\n",
        "from datetime import date"
      ]
    },
    {
      "cell_type": "code",
      "source": [
        "# Month abbreviation, day and year\n",
        "today = date.today()\t\n",
        "d4 = today.strftime(\"%b-%d-%Y\")"
      ],
      "metadata": {
        "id": "O4ftgeVIB16X"
      },
      "execution_count": 3,
      "outputs": []
    },
    {
      "cell_type": "code",
      "source": [
        "print(d4)"
      ],
      "metadata": {
        "id": "6-oY5VTyN8zA",
        "outputId": "dafa93a3-9587-4189-d0b1-da604341e504",
        "colab": {
          "base_uri": "https://localhost:8080/"
        }
      },
      "execution_count": 4,
      "outputs": [
        {
          "output_type": "stream",
          "name": "stdout",
          "text": [
            "May-15-2022\n"
          ]
        }
      ]
    },
    {
      "cell_type": "code",
      "source": [
        "sqs_client=boto3.client('sqs',  aws_access_key_id='',\n",
        "aws_secret_access_key='', region_name='us-east-2')\n",
        "\n",
        "s3= boto3.client('s3',aws_access_key_id='',\n",
        "aws_secret_access_key='', region_name='us-east-2')"
      ],
      "metadata": {
        "id": "5HVQTThYoJ2l"
      },
      "execution_count": 6,
      "outputs": []
    },
    {
      "cell_type": "code",
      "source": [
        "sqs_dlq= \"\"\n",
        "sqs_source_queue=\"\"\n",
        "s3_prefix_stage=''\n",
        "s3_bucket=\"\"\n",
        "max_retries="
      ],
      "metadata": {
        "id": "JS0ReIHbaGmj"
      },
      "execution_count": 7,
      "outputs": []
    },
    {
      "cell_type": "code",
      "source": [
        "# Defining Custom Function to Send Message to Main Queue and Deleting it from DLQ \n",
        "def sendAndDeleteQueue(sendQueueUrl,messageBody,messageAttributes,recieveQueueUrl,receiptHandle) :\n",
        "    # Calling Send Message API\n",
        "    ret = sqs_client.send_message( QueueUrl=sendQueueUrl, \n",
        "                            MessageBody=messageBody,\n",
        "                            MessageAttributes=messageAttributes) \n",
        "                            \n",
        "    # Calling Delete Message API \n",
        "    sqs_client.delete_message(QueueUrl=recieveQueueUrl, ReceiptHandle=receiptHandle)"
      ],
      "metadata": {
        "id": "viK5dYzJaAf6"
      },
      "execution_count": 8,
      "outputs": []
    },
    {
      "cell_type": "code",
      "source": [
        "def process_sqs_message(sqs_source_queue,sqs_dlq):\n",
        "  while True:\n",
        "    messages = sqs_client.receive_message(QueueUrl=sqs_dlq, MaxNumberOfMessages=10\n",
        "                                      ,WaitTimeSeconds=20,MessageAttributeNames=['All'])\n",
        "    if 'Messages' in messages:\n",
        "      for m in messages['Messages']:\n",
        "        new_MessageAttributes = {}                      # Declaring empty Dictonary \n",
        "        retryCount = 1                                  # Setting retry Counter as 1 since it is a New message.\n",
        "        current_retry_count=0\n",
        "        if 'MessageAttributes' in m :                   # Checking whether Message Attributes exists in Original Message \n",
        "          new_MessageAttributes = m['MessageAttributes']\n",
        "          if 'retryCount' in m['MessageAttributes'] :\n",
        "            retryCount = int(m['MessageAttributes']['retryCount']['StringValue']) + 1\n",
        "            current_retry_count=int(m['MessageAttributes']['retryCount']['StringValue'])\n",
        "\n",
        "        new_MessageAttributes['retryCount'] = {'StringValue': str(retryCount),'DataType': 'Number'} \n",
        "\n",
        "        if current_retry_count <= max_retries :\n",
        "          sendAndDeleteQueue(sqs_source_queue,m['Body'],new_MessageAttributes,sqs_dlq,m['ReceiptHandle'])\n",
        "\n",
        "        else:\n",
        "          # Need to Store Message in S3 Bucket before finally deleting the message from recieve Queue\n",
        "          ct = datetime.datetime.now().timestamp()              # Calculating Current Timestamp \n",
        "          s3_key = s3_prefix_stage+\"/\"+d4+\"/\"+str(ct)+\"_\"+m['MessageId']+\".json\"\n",
        "          message_data=json.dumps({\"Body\":m['Body'],\"Attribute\":new_MessageAttributes})\n",
        "          s3.put_object(Body=message_data,Bucket=s3_bucket,Key=s3_key)\n",
        "          sqs_client.delete_message(QueueUrl=sqs_dlq, ReceiptHandle=m['ReceiptHandle'])  \n",
        "    else:\n",
        "      print('Queue is currently Empty or Messages are Invisible')\n",
        "      break"
      ],
      "metadata": {
        "id": "I1z2oEaIaaBW"
      },
      "execution_count": 9,
      "outputs": []
    },
    {
      "cell_type": "code",
      "source": [
        "process_sqs_message(sqs_source_queue,sqs_dlq)"
      ],
      "metadata": {
        "colab": {
          "base_uri": "https://localhost:8080/"
        },
        "id": "peRHyhl0p-Nd",
        "outputId": "9de78645-909b-42b0-e68e-76d909432858"
      },
      "execution_count": 13,
      "outputs": [
        {
          "output_type": "stream",
          "name": "stdout",
          "text": [
            "Queue is currently Empty or Messages are Invisible\n"
          ]
        }
      ]
    },
    {
      "cell_type": "code",
      "source": [
        ""
      ],
      "metadata": {
        "id": "t_LHirSKqHcL"
      },
      "execution_count": null,
      "outputs": []
    }
  ]
}