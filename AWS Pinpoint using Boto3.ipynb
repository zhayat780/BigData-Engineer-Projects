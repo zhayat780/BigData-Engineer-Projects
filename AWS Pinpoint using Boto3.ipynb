{
  "nbformat": 4,
  "nbformat_minor": 0,
  "metadata": {
    "colab": {
      "name": "Untitled37.ipynb",
      "provenance": [],
      "authorship_tag": "ABX9TyMGkcxbNwJA7rbLznVcr91y",
      "include_colab_link": true
    },
    "kernelspec": {
      "name": "python3",
      "display_name": "Python 3"
    },
    "language_info": {
      "name": "python"
    }
  },
  "cells": [
    {
      "cell_type": "markdown",
      "metadata": {
        "id": "view-in-github",
        "colab_type": "text"
      },
      "source": [
        "<a href=\"https://colab.research.google.com/github/SatadruMukherjee/Data-Preprocessing-Models/blob/main/AWS%20Pinpoint%20using%20Boto3.ipynb\" target=\"_parent\"><img src=\"https://colab.research.google.com/assets/colab-badge.svg\" alt=\"Open In Colab\"/></a>"
      ]
    },
    {
      "cell_type": "code",
      "execution_count": null,
      "metadata": {
        "id": "AUAvFPY4iu9K"
      },
      "outputs": [],
      "source": [
        "!pip install boto3"
      ]
    },
    {
      "cell_type": "code",
      "source": [
        "import json\n",
        "import base64\n",
        "import boto3\n",
        "import time\n",
        "import os"
      ],
      "metadata": {
        "id": "ZHAGs2alix8l"
      },
      "execution_count": 19,
      "outputs": []
    },
    {
      "cell_type": "code",
      "source": [
        "pinpoint_client= boto3.client('pinpoint',  aws_access_key_id='',\n",
        "aws_secret_access_key='', region_name='us-east-1')\n",
        "application_id=''"
      ],
      "metadata": {
        "id": "-pW2FoZJiz98"
      },
      "execution_count": 20,
      "outputs": []
    },
    {
      "cell_type": "code",
      "source": [
        "def segment_creator(application_id,s3url,pinpint_role_arn):\n",
        "    response = pinpoint_client.create_import_job(\n",
        "              ApplicationId=application_id,\n",
        "              ImportJobRequest={\n",
        "                  'DefineSegment': True,\n",
        "                  'Format':'CSV',\n",
        "                  'RoleArn': pinpint_role_arn,\n",
        "                  'S3Url': s3url,\n",
        "                  'SegmentName': 'primary_segment'\n",
        "              }\n",
        "            )\n",
        "    return response"
      ],
      "metadata": {
        "id": "CGvwj3Uni1y4"
      },
      "execution_count": 21,
      "outputs": []
    },
    {
      "cell_type": "code",
      "source": [
        "def campaign_creator(application_id,Body,FromAddress,HtmlBody,Title,campaign_name,segment_id):\n",
        "    response=pinpoint_client.create_campaign(\n",
        "                ApplicationId=application_id,\n",
        "                WriteCampaignRequest={\n",
        "                    \"MessageConfiguration\": {\n",
        "                        \"EmailMessage\": {\n",
        "                          \"Body\":Body,\n",
        "                          \"FromAddress\": FromAddress,\n",
        "                          \"HtmlBody\": HtmlBody,\n",
        "                        \"Title\": Title\n",
        "                        }},\n",
        "                    \"Name\": campaign_name,\n",
        "                    \"Schedule\": {\n",
        "                        \"Frequency\": \"ONCE\",\n",
        "                        \"StartTime\": \"IMMEDIATE\",\n",
        "                        \"Timezone\": \"UTC\"\n",
        "                    },\n",
        "                    \"SegmentId\": segment_id\n",
        "                    })\n",
        "    return response"
      ],
      "metadata": {
        "id": "XvCoafgLi4MV"
      },
      "execution_count": 22,
      "outputs": []
    },
    {
      "cell_type": "code",
      "source": [
        "def main(Subject,HtmlBody,s3url,pinpint_role_arn):\n",
        "    \n",
        "    response_import_job=segment_creator(application_id,s3url,pinpint_role_arn)\n",
        "    \n",
        "    segment_id=response_import_job['ImportJobResponse']['Definition']['SegmentId']\n",
        "    print(\"Segment ID for this Campaign : {}\".format(segment_id))\n",
        "    \n",
        "    job_id=response_import_job['ImportJobResponse']['Id']\n",
        "    print(\"Job ID for this Campaign : {}\".format(job_id))\n",
        "    \n",
        "    temp=0\n",
        "    job_status=''\n",
        "    while True:\n",
        "        response_info_about_job = pinpoint_client.get_import_job(\n",
        "        ApplicationId=application_id,\n",
        "        JobId=job_id)\n",
        "        job_status=response_info_about_job['ImportJobResponse']['JobStatus']\n",
        "        print(\"Job status in Poll  {} is {}\".format(temp,job_status))\n",
        "        if(job_status=='COMPLETED'):\n",
        "            break\n",
        "        elif(job_status=='FAILING' or job_status=='FAILED'):\n",
        "            break\n",
        "        time.sleep(10)\n",
        "        temp=temp+1;\n",
        "        \n",
        "    if(job_status=='COMPLETED'):\n",
        "        campaign_name=\"Campaign for Testing from Google Colab\"\n",
        "        Title=Subject\n",
        "        FromAddress=\"\"\n",
        "        Body=\"Just for demo testing\"\n",
        "        response_of_campaign=campaign_creator(application_id,Body,FromAddress,HtmlBody,Title,campaign_name,segment_id)\n",
        "        print(response_of_campaign)\n",
        "        capaign_id=response_of_campaign['CampaignResponse']['Id']\n",
        "        return \"Campaign ID : {}\".format(capaign_id)\n",
        "    elif(job_status=='FAILING' or job_status=='FAILED'):\n",
        "        return \"Import Job Failed for Segment Creation\""
      ],
      "metadata": {
        "id": "humKoZkXi6pv"
      },
      "execution_count": 23,
      "outputs": []
    },
    {
      "cell_type": "code",
      "source": [
        "HtmlBody=\"\"\n",
        "with open('/content/Axis Bank.html','r') as f:\n",
        "  HtmlBody=f.read()"
      ],
      "metadata": {
        "id": "15_y2SEimaSB"
      },
      "execution_count": 24,
      "outputs": []
    },
    {
      "cell_type": "code",
      "source": [
        "pinpint_role_arn=\"\"\n",
        "Subject=\"Hello {{User.UserAttributes.Username}} , don't worry about this Promotional mail\"\n",
        "s3url=\"\"\n",
        "op=main(Subject,HtmlBody,s3url,pinpint_role_arn)"
      ],
      "metadata": {
        "id": "VqbkcCuMmJRy"
      },
      "execution_count": null,
      "outputs": []
    },
    {
      "cell_type": "code",
      "source": [
        ""
      ],
      "metadata": {
        "id": "0X50WmkUnUW2"
      },
      "execution_count": null,
      "outputs": []
    }
  ]
}