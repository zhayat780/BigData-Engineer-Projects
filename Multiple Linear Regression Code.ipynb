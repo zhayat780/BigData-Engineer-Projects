{
  "nbformat": 4,
  "nbformat_minor": 0,
  "metadata": {
    "colab": {
      "name": "Untitled0.ipynb",
      "provenance": []
    },
    "kernelspec": {
      "name": "python3",
      "display_name": "Python 3"
    }
  },
  "cells": [
    {
      "cell_type": "markdown",
      "metadata": {
        "id": "F1ezTm82O5HF"
      },
      "source": [
        "If you have the code of Simple Linear regression then we can easily modify that for Multiple Linear Regression, see how-->"
      ]
    },
    {
      "cell_type": "code",
      "metadata": {
        "id": "yIVQRyUwF6sp"
      },
      "source": [
        "import sklearn"
      ],
      "execution_count": 40,
      "outputs": []
    },
    {
      "cell_type": "code",
      "metadata": {
        "id": "LgPZKqBgGBua"
      },
      "source": [
        "import numpy as np;\n",
        "import pandas as pd;\n",
        "import seaborn as sns;"
      ],
      "execution_count": 41,
      "outputs": []
    },
    {
      "cell_type": "code",
      "metadata": {
        "id": "P8QimNtVIFpC"
      },
      "source": [
        "df=pd.read_csv('/content/House_Price.csv')"
      ],
      "execution_count": 42,
      "outputs": []
    },
    {
      "cell_type": "code",
      "metadata": {
        "colab": {
          "base_uri": "https://localhost:8080/",
          "height": 195
        },
        "id": "d_pe3py9IIrS",
        "outputId": "f8c583a4-8cf0-49e7-b4ae-81aa98eccf0f"
      },
      "source": [
        "df.head()"
      ],
      "execution_count": 43,
      "outputs": [
        {
          "output_type": "execute_result",
          "data": {
            "text/html": [
              "<div>\n",
              "<style scoped>\n",
              "    .dataframe tbody tr th:only-of-type {\n",
              "        vertical-align: middle;\n",
              "    }\n",
              "\n",
              "    .dataframe tbody tr th {\n",
              "        vertical-align: top;\n",
              "    }\n",
              "\n",
              "    .dataframe thead th {\n",
              "        text-align: right;\n",
              "    }\n",
              "</style>\n",
              "<table border=\"1\" class=\"dataframe\">\n",
              "  <thead>\n",
              "    <tr style=\"text-align: right;\">\n",
              "      <th></th>\n",
              "      <th>price</th>\n",
              "      <th>crime_rate</th>\n",
              "      <th>resid_area</th>\n",
              "      <th>air_qual</th>\n",
              "      <th>room_num</th>\n",
              "      <th>age</th>\n",
              "      <th>dist1</th>\n",
              "      <th>dist2</th>\n",
              "      <th>dist3</th>\n",
              "      <th>dist4</th>\n",
              "      <th>teachers</th>\n",
              "      <th>poor_prop</th>\n",
              "      <th>airport</th>\n",
              "      <th>n_hos_beds</th>\n",
              "      <th>n_hot_rooms</th>\n",
              "      <th>waterbody</th>\n",
              "      <th>rainfall</th>\n",
              "      <th>bus_ter</th>\n",
              "      <th>parks</th>\n",
              "    </tr>\n",
              "  </thead>\n",
              "  <tbody>\n",
              "    <tr>\n",
              "      <th>0</th>\n",
              "      <td>24.0</td>\n",
              "      <td>0.00632</td>\n",
              "      <td>32.31</td>\n",
              "      <td>0.538</td>\n",
              "      <td>6.575</td>\n",
              "      <td>65.2</td>\n",
              "      <td>4.35</td>\n",
              "      <td>3.81</td>\n",
              "      <td>4.18</td>\n",
              "      <td>4.01</td>\n",
              "      <td>24.7</td>\n",
              "      <td>4.98</td>\n",
              "      <td>YES</td>\n",
              "      <td>5.480</td>\n",
              "      <td>11.1920</td>\n",
              "      <td>River</td>\n",
              "      <td>23</td>\n",
              "      <td>YES</td>\n",
              "      <td>0.049347</td>\n",
              "    </tr>\n",
              "    <tr>\n",
              "      <th>1</th>\n",
              "      <td>21.6</td>\n",
              "      <td>0.02731</td>\n",
              "      <td>37.07</td>\n",
              "      <td>0.469</td>\n",
              "      <td>6.421</td>\n",
              "      <td>78.9</td>\n",
              "      <td>4.99</td>\n",
              "      <td>4.70</td>\n",
              "      <td>5.12</td>\n",
              "      <td>5.06</td>\n",
              "      <td>22.2</td>\n",
              "      <td>9.14</td>\n",
              "      <td>NO</td>\n",
              "      <td>7.332</td>\n",
              "      <td>12.1728</td>\n",
              "      <td>Lake</td>\n",
              "      <td>42</td>\n",
              "      <td>YES</td>\n",
              "      <td>0.046146</td>\n",
              "    </tr>\n",
              "    <tr>\n",
              "      <th>2</th>\n",
              "      <td>34.7</td>\n",
              "      <td>0.02729</td>\n",
              "      <td>37.07</td>\n",
              "      <td>0.469</td>\n",
              "      <td>7.185</td>\n",
              "      <td>61.1</td>\n",
              "      <td>5.03</td>\n",
              "      <td>4.86</td>\n",
              "      <td>5.01</td>\n",
              "      <td>4.97</td>\n",
              "      <td>22.2</td>\n",
              "      <td>4.03</td>\n",
              "      <td>NO</td>\n",
              "      <td>7.394</td>\n",
              "      <td>101.1200</td>\n",
              "      <td>None</td>\n",
              "      <td>38</td>\n",
              "      <td>YES</td>\n",
              "      <td>0.045764</td>\n",
              "    </tr>\n",
              "    <tr>\n",
              "      <th>3</th>\n",
              "      <td>33.4</td>\n",
              "      <td>0.03237</td>\n",
              "      <td>32.18</td>\n",
              "      <td>0.458</td>\n",
              "      <td>6.998</td>\n",
              "      <td>45.8</td>\n",
              "      <td>6.21</td>\n",
              "      <td>5.93</td>\n",
              "      <td>6.16</td>\n",
              "      <td>5.96</td>\n",
              "      <td>21.3</td>\n",
              "      <td>2.94</td>\n",
              "      <td>YES</td>\n",
              "      <td>9.268</td>\n",
              "      <td>11.2672</td>\n",
              "      <td>Lake</td>\n",
              "      <td>45</td>\n",
              "      <td>YES</td>\n",
              "      <td>0.047151</td>\n",
              "    </tr>\n",
              "    <tr>\n",
              "      <th>4</th>\n",
              "      <td>36.2</td>\n",
              "      <td>0.06905</td>\n",
              "      <td>32.18</td>\n",
              "      <td>0.458</td>\n",
              "      <td>7.147</td>\n",
              "      <td>54.2</td>\n",
              "      <td>6.16</td>\n",
              "      <td>5.86</td>\n",
              "      <td>6.37</td>\n",
              "      <td>5.86</td>\n",
              "      <td>21.3</td>\n",
              "      <td>5.33</td>\n",
              "      <td>NO</td>\n",
              "      <td>8.824</td>\n",
              "      <td>11.2896</td>\n",
              "      <td>Lake</td>\n",
              "      <td>55</td>\n",
              "      <td>YES</td>\n",
              "      <td>0.039474</td>\n",
              "    </tr>\n",
              "  </tbody>\n",
              "</table>\n",
              "</div>"
            ],
            "text/plain": [
              "   price  crime_rate  resid_area  ...  rainfall  bus_ter     parks\n",
              "0   24.0     0.00632       32.31  ...        23      YES  0.049347\n",
              "1   21.6     0.02731       37.07  ...        42      YES  0.046146\n",
              "2   34.7     0.02729       37.07  ...        38      YES  0.045764\n",
              "3   33.4     0.03237       32.18  ...        45      YES  0.047151\n",
              "4   36.2     0.06905       32.18  ...        55      YES  0.039474\n",
              "\n",
              "[5 rows x 19 columns]"
            ]
          },
          "metadata": {
            "tags": []
          },
          "execution_count": 43
        }
      ]
    },
    {
      "cell_type": "code",
      "metadata": {
        "id": "FIaf2AFfIli4"
      },
      "source": [
        "from sklearn.linear_model import LinearRegression;"
      ],
      "execution_count": 44,
      "outputs": []
    },
    {
      "cell_type": "code",
      "metadata": {
        "id": "Sanry8V3Iu6r"
      },
      "source": [
        "#Defien dependent variable\n",
        "y=df.price;"
      ],
      "execution_count": 45,
      "outputs": []
    },
    {
      "cell_type": "code",
      "metadata": {
        "colab": {
          "base_uri": "https://localhost:8080/",
          "height": 402
        },
        "id": "dtZ1OmFOI8ue",
        "outputId": "54346b5e-6a68-4fab-9751-54bd61e4b9ca"
      },
      "source": [
        "x=df[[\"room_num\"]];#Note : keep the single variable inside double square bracket--[[]]\n",
        "x"
      ],
      "execution_count": 46,
      "outputs": [
        {
          "output_type": "execute_result",
          "data": {
            "text/html": [
              "<div>\n",
              "<style scoped>\n",
              "    .dataframe tbody tr th:only-of-type {\n",
              "        vertical-align: middle;\n",
              "    }\n",
              "\n",
              "    .dataframe tbody tr th {\n",
              "        vertical-align: top;\n",
              "    }\n",
              "\n",
              "    .dataframe thead th {\n",
              "        text-align: right;\n",
              "    }\n",
              "</style>\n",
              "<table border=\"1\" class=\"dataframe\">\n",
              "  <thead>\n",
              "    <tr style=\"text-align: right;\">\n",
              "      <th></th>\n",
              "      <th>room_num</th>\n",
              "    </tr>\n",
              "  </thead>\n",
              "  <tbody>\n",
              "    <tr>\n",
              "      <th>0</th>\n",
              "      <td>6.575</td>\n",
              "    </tr>\n",
              "    <tr>\n",
              "      <th>1</th>\n",
              "      <td>6.421</td>\n",
              "    </tr>\n",
              "    <tr>\n",
              "      <th>2</th>\n",
              "      <td>7.185</td>\n",
              "    </tr>\n",
              "    <tr>\n",
              "      <th>3</th>\n",
              "      <td>6.998</td>\n",
              "    </tr>\n",
              "    <tr>\n",
              "      <th>4</th>\n",
              "      <td>7.147</td>\n",
              "    </tr>\n",
              "    <tr>\n",
              "      <th>...</th>\n",
              "      <td>...</td>\n",
              "    </tr>\n",
              "    <tr>\n",
              "      <th>501</th>\n",
              "      <td>6.593</td>\n",
              "    </tr>\n",
              "    <tr>\n",
              "      <th>502</th>\n",
              "      <td>6.120</td>\n",
              "    </tr>\n",
              "    <tr>\n",
              "      <th>503</th>\n",
              "      <td>6.976</td>\n",
              "    </tr>\n",
              "    <tr>\n",
              "      <th>504</th>\n",
              "      <td>6.794</td>\n",
              "    </tr>\n",
              "    <tr>\n",
              "      <th>505</th>\n",
              "      <td>6.030</td>\n",
              "    </tr>\n",
              "  </tbody>\n",
              "</table>\n",
              "<p>506 rows × 1 columns</p>\n",
              "</div>"
            ],
            "text/plain": [
              "     room_num\n",
              "0       6.575\n",
              "1       6.421\n",
              "2       7.185\n",
              "3       6.998\n",
              "4       7.147\n",
              "..        ...\n",
              "501     6.593\n",
              "502     6.120\n",
              "503     6.976\n",
              "504     6.794\n",
              "505     6.030\n",
              "\n",
              "[506 rows x 1 columns]"
            ]
          },
          "metadata": {
            "tags": []
          },
          "execution_count": 46
        }
      ]
    },
    {
      "cell_type": "code",
      "metadata": {
        "id": "CskyLxXoJKkg"
      },
      "source": [
        "lm2=LinearRegression()"
      ],
      "execution_count": 47,
      "outputs": []
    },
    {
      "cell_type": "code",
      "metadata": {
        "colab": {
          "base_uri": "https://localhost:8080/"
        },
        "id": "FxoL-p2kKWca",
        "outputId": "04c0df75-ce4e-4e93-ab05-a1d570758b93"
      },
      "source": [
        "lm2.fit(x,y)"
      ],
      "execution_count": 48,
      "outputs": [
        {
          "output_type": "execute_result",
          "data": {
            "text/plain": [
              "LinearRegression(copy_X=True, fit_intercept=True, n_jobs=None, normalize=False)"
            ]
          },
          "metadata": {
            "tags": []
          },
          "execution_count": 48
        }
      ]
    },
    {
      "cell_type": "code",
      "metadata": {
        "colab": {
          "base_uri": "https://localhost:8080/"
        },
        "id": "AhVAhjNPKa_G",
        "outputId": "a0752b3d-0395-4ecc-fb82-8d8e36dbc78f"
      },
      "source": [
        "print(lm2.intercept_,lm2.coef_)"
      ],
      "execution_count": 49,
      "outputs": [
        {
          "output_type": "stream",
          "text": [
            "-34.65924312309717 [9.09966966]\n"
          ],
          "name": "stdout"
        }
      ]
    },
    {
      "cell_type": "code",
      "metadata": {
        "colab": {
          "base_uri": "https://localhost:8080/"
        },
        "id": "mT2kuUeaLQi4",
        "outputId": "252c39a9-36e2-415d-8117-4b70d16592c3"
      },
      "source": [
        "lm2.predict(x)"
      ],
      "execution_count": 50,
      "outputs": [
        {
          "output_type": "execute_result",
          "data": {
            "text/plain": [
              "array([25.17108491, 23.76973578, 30.72188341, 29.02024518, 30.37609596,\n",
              "       23.85163281, 20.04797089, 21.50391804, 16.58099675, 19.97517353,\n",
              "       23.36935032, 20.02067188, 18.92871152, 19.4746917 , 20.81234314,\n",
              "       18.42822969, 19.34729633, 19.84777816, 14.98855456, 17.45456504,\n",
              "       16.0259169 , 19.62028642, 21.23092795, 18.23713663, 19.24719996,\n",
              "       16.28980732, 18.23713663, 20.36645933, 24.44311134, 26.07195221,\n",
              "       17.32716966, 20.59395107, 19.48379137, 17.21797363, 20.81234314,\n",
              "       19.32909699, 18.49192738, 18.57382441, 19.62938609, 25.3530783 ,\n",
              "       29.25683659, 26.9455205 , 21.47661903, 21.85880515, 20.56665206,\n",
              "       17.0450799 , 17.99144555, 20.21176495, 14.46987339, 16.31710633,\n",
              "       19.60208708, 20.98523687, 24.58870605, 19.92057552, 18.91961185,\n",
              "       31.30426226, 23.42394834, 27.3641053 , 21.25822696, 19.27449897,\n",
              "       17.58196041, 19.62938609, 24.08822422, 26.87272314, 29.98481016,\n",
              "       22.57767906, 18.00054522, 18.82861516, 16.24430897, 18.89231284,\n",
              "       23.7333371 , 19.58388774, 20.53025338, 22.16819392, 22.42298467,\n",
              "       22.54128038, 22.47758269, 21.21272861, 22.04989822, 18.79221648,\n",
              "       26.5542347 , 25.57147038, 22.68687509, 21.45841969, 23.47854635,\n",
              "       25.67156674, 20.0752699 , 21.03983488, 29.10214221, 29.75731842,\n",
              "       23.7333371 , 23.62414107, 23.96082885, 21.85880515, 22.2045926 ,\n",
              "       25.62606839, 21.42202101, 38.76599139, 36.50017364, 32.8239071 ,\n",
              "       26.5542347 , 27.04561686, 23.62414107, 21.1854296 , 21.45841969,\n",
              "       18.58292408, 18.44642903, 21.0944329 , 24.25201828, 22.02259921,\n",
              "       21.71321044, 26.44503866, 19.14710359, 20.77594446, 22.25009095,\n",
              "       19.28359864, 21.54031672, 20.12986792, 18.77401714, 17.49096372,\n",
              "       18.7558178 , 19.97517353, 19.58388774, 18.62842242, 18.83771483,\n",
              "       19.81137948, 16.4172027 , 17.14517627, 23.86073248, 16.63559477,\n",
              "       24.10642356, 22.90526717, 23.32385197, 18.31903366, 17.72755513,\n",
              "       22.98716419, 19.41099401, 24.07002488, 18.63752209, 21.31282497,\n",
              "       21.52211738, 11.01199892, 14.50627207, 15.09775059,  9.95643723,\n",
              "       21.12173191, 16.55369774, 10.16572964, 12.53164375, 16.27160798,\n",
              "       21.04893455, 14.51537174, 10.94830123, 17.29077098, 21.11263224,\n",
              "       21.32192464, 13.31421534, 28.51976335, 20.53935305, 24.57960638,\n",
              "       22.21369227, 33.48818298, 36.33637959, 41.55049031, 18.61022308,\n",
              "       20.85784149, 37.49203764, 18.81951549, 22.84156948, 23.59684206,\n",
              "       18.80131615, 18.8468145 , 16.04411624, 23.72423744, 18.65572143,\n",
              "       24.90719449, 20.12076825, 22.8051708 , 27.76449077, 28.85645113,\n",
              "       35.99969181, 21.24912729, 30.44889332, 25.06188888, 16.33530567,\n",
              "       21.33102431, 36.60027001, 27.05471653, 24.99819119, 30.72188341,\n",
              "       28.5925607 , 26.66343074, 30.65818572, 27.21851059, 25.43497533,\n",
              "       37.00065547, 31.65004971, 30.01210917, 31.53175401, 28.81095278,\n",
              "       30.26689992, 21.41292134, 34.58924301, 36.80046274, 38.44750295,\n",
              "       18.94691086, 22.90526717, 17.96414654, 20.52115371, 13.96939156,\n",
              "       19.57478807, 14.51537174, 18.18253861, 23.35115098, 14.58816909,\n",
              "       21.59491473, 18.91961185, 25.78076278, 19.49289104, 23.33295164,\n",
              "       28.5925607 , 21.43112068, 27.93738449, 25.56237071, 40.55862631,\n",
              "       44.73537469, 38.50210097, 30.52169067, 35.28081791, 24.96179251,\n",
              "       19.76588113, 32.78750842, 41.20470286, 40.38573259, 26.54513503,\n",
              "       20.72134645, 25.68066641, 32.29612626, 24.31571596, 25.45317467,\n",
              "       28.10117854, 20.80324347, 23.19645659, 23.51494503, 16.2352093 ,\n",
              "       16.34440534, 20.92153918, 21.9953002 , 23.87893182, 26.47233767,\n",
              "       24.37031398, 23.92443017, 28.64715872, 40.49492862, 20.92153918,\n",
              "       18.81041582, 33.16969455, 44.54428162, 32.06863452, 27.60069671,\n",
              "       30.88567746, 33.77027274, 41.75978271, 32.0140365 , 30.91297647,\n",
              "       15.9349202 , 29.16583989, 40.84071607, 33.31528926, 19.21080128,\n",
              "       18.62842242, 22.12269557, 24.83439713, 35.32631626, 26.83632446,\n",
              "       27.70989275, 31.46805632, 27.455102  , 24.32481563, 27.32770662,\n",
              "       36.50017364, 28.74725509, 34.90773145, 37.43743962, 29.83921545,\n",
              "       24.06092521, 22.03169888, 21.84060581, 22.8051708 , 25.08008821,\n",
              "       27.77359044, 30.38519563, 25.67156674, 21.0944329 , 20.02067188,\n",
              "       26.10835089, 24.9344935 , 18.02784423, 23.07816089, 29.41153097,\n",
              "       27.86458713, 25.30757996, 24.44311134, 28.87465046, 31.18596656,\n",
              "       25.54417137, 32.86030578, 27.6643944 , 25.71706509, 19.6839841 ,\n",
              "       10.59341411, 21.04893455, 20.14806726, 22.35928699, 25.09828755,\n",
              "       17.2543723 , 19.15620326, 17.95504687, 23.41484867, 20.96703753,\n",
              "       23.81523413, 23.36025065, 20.31186131, 17.28167131, 23.71513777,\n",
              "       23.86073248, 22.77787179, 20.69404744, 18.73761846, 22.96896485,\n",
              "       21.24912729, 17.26347197, 20.22086461, 22.81427047, 22.75967245,\n",
              "       20.27546263, 18.74671813, 18.98330954, 20.47565537, 19.80227981,\n",
              "       19.64758543, 31.23146491, 24.85259647, 26.27214494, 27.89188614,\n",
              "       20.06617023, 19.01060855, 24.6342044 , 25.71706509, 28.48336467,\n",
              "       24.39761299, 25.20748359, 18.88321317, 26.56333437, 16.87218618,\n",
              "       19.356396  , 21.86790482, 23.53314437, 21.0944329 , 20.95793786,\n",
              "       23.56044338, 22.22279194, 14.13318561, 18.14613993, 45.23585652,\n",
              "       -2.25531945, 10.50241741,  0.49278079, 10.5661151 , 26.15384924,\n",
              "       29.18403923, 21.9043035 , 18.80131615,  9.98373624,  2.99518994,\n",
              "       31.88664112, 25.84446047, 27.16391257, 23.39664933, 21.96800119,\n",
              "       28.74725509, 24.89809482, 15.71652813, 15.57093342,  5.08811397,\n",
              "       13.35971369,  7.67242015, 10.83910519,  9.74714483, 14.38797636,\n",
              "       17.32716966, 20.40285801, 11.1666933 , 21.6950111 , 18.91051218,\n",
              "       24.22471927, 23.62414107, 17.63655843, 14.96125555, 18.59202375,\n",
              "       19.82047915, 23.05996155, 23.6150414 , 14.0148899 , 15.67102978,\n",
              "       17.05417957,  2.99518994, 16.37170435, 16.45360137, 27.69169341,\n",
              "       17.72755513, 25.91725782,  7.45402808, 12.24955399,  6.46216408,\n",
              "       23.88803149, 27.05471653, 13.60540477, 19.54748906, 27.43690266,\n",
              "       23.67873909, 19.99337287, 16.73569113, 20.87604083, 15.98041855,\n",
              "       18.99240921, 18.4555287 , 21.77690813, 21.6950111 , 23.39664933,\n",
              "       23.1054599 , 27.51879968, 23.80613446, 23.90623083, 21.83150615,\n",
              "       25.66246707, 24.13372257, 21.32192464, 19.34729633, 16.54459807,\n",
              "       18.28263498, 23.63324074, 21.93160251, 24.35211464, 18.61022308,\n",
              "       24.11552323, 23.04176221, 22.22279194, 21.62221374, 23.7333371 ,\n",
              "       26.75442743, 25.89905848, 22.64137675, 32.6146147 , 26.56333437,\n",
              "       24.71610143, 19.72038278, 19.356396  , 22.67777542, 20.6758481 ,\n",
              "       26.31764329, 23.36025065, 22.82337014, 24.60690539, 21.84060581,\n",
              "       17.74575447, 19.50199071, 19.96607386, 19.2653993 , 17.32716966,\n",
              "       21.45841969, 22.02259921, 23.9153305 , 28.85645113, 14.72466414,\n",
              "       21.41292134, 24.34301497, 13.60540477, 21.62221374, 22.02259921,\n",
              "       22.14089491, 26.7635271 , 29.59352437, 17.77305348, 18.76491747,\n",
              "       22.77787179, 20.9761372 , 19.07430624, 14.97035522, 14.60636843,\n",
              "       11.68537447, 19.78408047, 19.78408047, 17.27257164, 19.2653993 ,\n",
              "       16.93588387, 14.38797636, 18.0642429 , 20.11166858, 16.01681723,\n",
              "       20.18446594, 25.33487897, 21.03073521, 28.82005245, 27.16391257,\n",
              "       20.21176495])"
            ]
          },
          "metadata": {
            "tags": []
          },
          "execution_count": 50
        }
      ]
    },
    {
      "cell_type": "code",
      "metadata": {
        "colab": {
          "base_uri": "https://localhost:8080/",
          "height": 458
        },
        "id": "W9vj7wSlLdqW",
        "outputId": "49de42b2-7e49-4a29-b6cd-c6691d667c58"
      },
      "source": [
        "#Visaulization\n",
        "sns.jointplot(x=df.room_num,y=df.price,data=df,kind='reg')"
      ],
      "execution_count": 51,
      "outputs": [
        {
          "output_type": "execute_result",
          "data": {
            "text/plain": [
              "<seaborn.axisgrid.JointGrid at 0x7ff59a661470>"
            ]
          },
          "metadata": {
            "tags": []
          },
          "execution_count": 51
        },
        {
          "output_type": "display_data",
          "data": {
            "image/png": "[encoded data removed]",
            "text/plain": [
              "<Figure size 432x432 with 3 Axes>"
            ]
          },
          "metadata": {
            "tags": [],
            "needs_background": "light"
          }
        }
      ]
    },
    {
      "cell_type": "code",
      "metadata": {
        "id": "VdYZj5Q8POg-"
      },
      "source": [
        "#Now coming to multiple linear regression code"
      ],
      "execution_count": 52,
      "outputs": []
    },
    {
      "cell_type": "code",
      "metadata": {
        "id": "H0d_n37xQHpL"
      },
      "source": [
        "df=pd.read_csv('/content/House_Price_Cleaned.csv')"
      ],
      "execution_count": 61,
      "outputs": []
    },
    {
      "cell_type": "code",
      "metadata": {
        "colab": {
          "base_uri": "https://localhost:8080/",
          "height": 232
        },
        "id": "c3QbGOzDQPQg",
        "outputId": "044f2d89-4121-4dae-9004-dd18f7123ecd"
      },
      "source": [
        "df.head()"
      ],
      "execution_count": 62,
      "outputs": [
        {
          "output_type": "execute_result",
          "data": {
            "text/html": [
              "<div>\n",
              "<style scoped>\n",
              "    .dataframe tbody tr th:only-of-type {\n",
              "        vertical-align: middle;\n",
              "    }\n",
              "\n",
              "    .dataframe tbody tr th {\n",
              "        vertical-align: top;\n",
              "    }\n",
              "\n",
              "    .dataframe thead th {\n",
              "        text-align: right;\n",
              "    }\n",
              "</style>\n",
              "<table border=\"1\" class=\"dataframe\">\n",
              "  <thead>\n",
              "    <tr style=\"text-align: right;\">\n",
              "      <th></th>\n",
              "      <th>price</th>\n",
              "      <th>crime_rate</th>\n",
              "      <th>resid_area</th>\n",
              "      <th>air_qual</th>\n",
              "      <th>room_num</th>\n",
              "      <th>age</th>\n",
              "      <th>teachers</th>\n",
              "      <th>poor_prop</th>\n",
              "      <th>n_hos_beds</th>\n",
              "      <th>n_hot_rooms</th>\n",
              "      <th>rainfall</th>\n",
              "      <th>airport_NO</th>\n",
              "      <th>waterbody_Lake</th>\n",
              "      <th>waterbody_Lake and River</th>\n",
              "      <th>waterbody_River</th>\n",
              "      <th>avg_distance</th>\n",
              "    </tr>\n",
              "  </thead>\n",
              "  <tbody>\n",
              "    <tr>\n",
              "      <th>0</th>\n",
              "      <td>24.0</td>\n",
              "      <td>0.006300</td>\n",
              "      <td>32.31</td>\n",
              "      <td>0.538</td>\n",
              "      <td>6.575</td>\n",
              "      <td>65.2</td>\n",
              "      <td>24.7</td>\n",
              "      <td>4.98</td>\n",
              "      <td>5.480</td>\n",
              "      <td>11.19200</td>\n",
              "      <td>23.0</td>\n",
              "      <td>0</td>\n",
              "      <td>0</td>\n",
              "      <td>0</td>\n",
              "      <td>1</td>\n",
              "      <td>4.0875</td>\n",
              "    </tr>\n",
              "    <tr>\n",
              "      <th>1</th>\n",
              "      <td>21.6</td>\n",
              "      <td>0.026944</td>\n",
              "      <td>37.07</td>\n",
              "      <td>0.469</td>\n",
              "      <td>6.421</td>\n",
              "      <td>78.9</td>\n",
              "      <td>22.2</td>\n",
              "      <td>9.14</td>\n",
              "      <td>7.332</td>\n",
              "      <td>12.17280</td>\n",
              "      <td>42.0</td>\n",
              "      <td>1</td>\n",
              "      <td>1</td>\n",
              "      <td>0</td>\n",
              "      <td>0</td>\n",
              "      <td>4.9675</td>\n",
              "    </tr>\n",
              "    <tr>\n",
              "      <th>2</th>\n",
              "      <td>34.7</td>\n",
              "      <td>0.026924</td>\n",
              "      <td>37.07</td>\n",
              "      <td>0.469</td>\n",
              "      <td>7.185</td>\n",
              "      <td>61.1</td>\n",
              "      <td>22.2</td>\n",
              "      <td>4.03</td>\n",
              "      <td>7.394</td>\n",
              "      <td>46.19856</td>\n",
              "      <td>38.0</td>\n",
              "      <td>1</td>\n",
              "      <td>0</td>\n",
              "      <td>0</td>\n",
              "      <td>0</td>\n",
              "      <td>4.9675</td>\n",
              "    </tr>\n",
              "    <tr>\n",
              "      <th>3</th>\n",
              "      <td>33.4</td>\n",
              "      <td>0.031857</td>\n",
              "      <td>32.18</td>\n",
              "      <td>0.458</td>\n",
              "      <td>6.998</td>\n",
              "      <td>45.8</td>\n",
              "      <td>21.3</td>\n",
              "      <td>2.94</td>\n",
              "      <td>9.268</td>\n",
              "      <td>11.26720</td>\n",
              "      <td>45.0</td>\n",
              "      <td>0</td>\n",
              "      <td>1</td>\n",
              "      <td>0</td>\n",
              "      <td>0</td>\n",
              "      <td>6.0650</td>\n",
              "    </tr>\n",
              "    <tr>\n",
              "      <th>4</th>\n",
              "      <td>36.2</td>\n",
              "      <td>0.066770</td>\n",
              "      <td>32.18</td>\n",
              "      <td>0.458</td>\n",
              "      <td>7.147</td>\n",
              "      <td>54.2</td>\n",
              "      <td>21.3</td>\n",
              "      <td>5.33</td>\n",
              "      <td>8.824</td>\n",
              "      <td>11.28960</td>\n",
              "      <td>55.0</td>\n",
              "      <td>1</td>\n",
              "      <td>1</td>\n",
              "      <td>0</td>\n",
              "      <td>0</td>\n",
              "      <td>6.0625</td>\n",
              "    </tr>\n",
              "  </tbody>\n",
              "</table>\n",
              "</div>"
            ],
            "text/plain": [
              "   price  crime_rate  ...  waterbody_River  avg_distance\n",
              "0   24.0    0.006300  ...                1        4.0875\n",
              "1   21.6    0.026944  ...                0        4.9675\n",
              "2   34.7    0.026924  ...                0        4.9675\n",
              "3   33.4    0.031857  ...                0        6.0650\n",
              "4   36.2    0.066770  ...                0        6.0625\n",
              "\n",
              "[5 rows x 16 columns]"
            ]
          },
          "metadata": {
            "tags": []
          },
          "execution_count": 62
        }
      ]
    },
    {
      "cell_type": "markdown",
      "metadata": {
        "id": "pdIhNU6kQg5F"
      },
      "source": [
        "What will be my x?---Everything apart from price(as that is dependent variable)"
      ]
    },
    {
      "cell_type": "markdown",
      "metadata": {
        "id": "NhzcOr6-RVZ-"
      },
      "source": [
        "What will be my y?---Price(dependent column)"
      ]
    },
    {
      "cell_type": "code",
      "metadata": {
        "colab": {
          "base_uri": "https://localhost:8080/",
          "height": 212
        },
        "id": "zduiWNyyQQh7",
        "outputId": "5eca1201-f9f6-4177-f073-119f225a9035"
      },
      "source": [
        "y=df.price;\n",
        "x=df;\n",
        "del x['price'];\n",
        "x.head()"
      ],
      "execution_count": 63,
      "outputs": [
        {
          "output_type": "execute_result",
          "data": {
            "text/html": [
              "<div>\n",
              "<style scoped>\n",
              "    .dataframe tbody tr th:only-of-type {\n",
              "        vertical-align: middle;\n",
              "    }\n",
              "\n",
              "    .dataframe tbody tr th {\n",
              "        vertical-align: top;\n",
              "    }\n",
              "\n",
              "    .dataframe thead th {\n",
              "        text-align: right;\n",
              "    }\n",
              "</style>\n",
              "<table border=\"1\" class=\"dataframe\">\n",
              "  <thead>\n",
              "    <tr style=\"text-align: right;\">\n",
              "      <th></th>\n",
              "      <th>crime_rate</th>\n",
              "      <th>resid_area</th>\n",
              "      <th>air_qual</th>\n",
              "      <th>room_num</th>\n",
              "      <th>age</th>\n",
              "      <th>teachers</th>\n",
              "      <th>poor_prop</th>\n",
              "      <th>n_hos_beds</th>\n",
              "      <th>n_hot_rooms</th>\n",
              "      <th>rainfall</th>\n",
              "      <th>airport_NO</th>\n",
              "      <th>waterbody_Lake</th>\n",
              "      <th>waterbody_Lake and River</th>\n",
              "      <th>waterbody_River</th>\n",
              "      <th>avg_distance</th>\n",
              "    </tr>\n",
              "  </thead>\n",
              "  <tbody>\n",
              "    <tr>\n",
              "      <th>0</th>\n",
              "      <td>0.006300</td>\n",
              "      <td>32.31</td>\n",
              "      <td>0.538</td>\n",
              "      <td>6.575</td>\n",
              "      <td>65.2</td>\n",
              "      <td>24.7</td>\n",
              "      <td>4.98</td>\n",
              "      <td>5.480</td>\n",
              "      <td>11.19200</td>\n",
              "      <td>23.0</td>\n",
              "      <td>0</td>\n",
              "      <td>0</td>\n",
              "      <td>0</td>\n",
              "      <td>1</td>\n",
              "      <td>4.0875</td>\n",
              "    </tr>\n",
              "    <tr>\n",
              "      <th>1</th>\n",
              "      <td>0.026944</td>\n",
              "      <td>37.07</td>\n",
              "      <td>0.469</td>\n",
              "      <td>6.421</td>\n",
              "      <td>78.9</td>\n",
              "      <td>22.2</td>\n",
              "      <td>9.14</td>\n",
              "      <td>7.332</td>\n",
              "      <td>12.17280</td>\n",
              "      <td>42.0</td>\n",
              "      <td>1</td>\n",
              "      <td>1</td>\n",
              "      <td>0</td>\n",
              "      <td>0</td>\n",
              "      <td>4.9675</td>\n",
              "    </tr>\n",
              "    <tr>\n",
              "      <th>2</th>\n",
              "      <td>0.026924</td>\n",
              "      <td>37.07</td>\n",
              "      <td>0.469</td>\n",
              "      <td>7.185</td>\n",
              "      <td>61.1</td>\n",
              "      <td>22.2</td>\n",
              "      <td>4.03</td>\n",
              "      <td>7.394</td>\n",
              "      <td>46.19856</td>\n",
              "      <td>38.0</td>\n",
              "      <td>1</td>\n",
              "      <td>0</td>\n",
              "      <td>0</td>\n",
              "      <td>0</td>\n",
              "      <td>4.9675</td>\n",
              "    </tr>\n",
              "    <tr>\n",
              "      <th>3</th>\n",
              "      <td>0.031857</td>\n",
              "      <td>32.18</td>\n",
              "      <td>0.458</td>\n",
              "      <td>6.998</td>\n",
              "      <td>45.8</td>\n",
              "      <td>21.3</td>\n",
              "      <td>2.94</td>\n",
              "      <td>9.268</td>\n",
              "      <td>11.26720</td>\n",
              "      <td>45.0</td>\n",
              "      <td>0</td>\n",
              "      <td>1</td>\n",
              "      <td>0</td>\n",
              "      <td>0</td>\n",
              "      <td>6.0650</td>\n",
              "    </tr>\n",
              "    <tr>\n",
              "      <th>4</th>\n",
              "      <td>0.066770</td>\n",
              "      <td>32.18</td>\n",
              "      <td>0.458</td>\n",
              "      <td>7.147</td>\n",
              "      <td>54.2</td>\n",
              "      <td>21.3</td>\n",
              "      <td>5.33</td>\n",
              "      <td>8.824</td>\n",
              "      <td>11.28960</td>\n",
              "      <td>55.0</td>\n",
              "      <td>1</td>\n",
              "      <td>1</td>\n",
              "      <td>0</td>\n",
              "      <td>0</td>\n",
              "      <td>6.0625</td>\n",
              "    </tr>\n",
              "  </tbody>\n",
              "</table>\n",
              "</div>"
            ],
            "text/plain": [
              "   crime_rate  resid_area  ...  waterbody_River  avg_distance\n",
              "0    0.006300       32.31  ...                1        4.0875\n",
              "1    0.026944       37.07  ...                0        4.9675\n",
              "2    0.026924       37.07  ...                0        4.9675\n",
              "3    0.031857       32.18  ...                0        6.0650\n",
              "4    0.066770       32.18  ...                0        6.0625\n",
              "\n",
              "[5 rows x 15 columns]"
            ]
          },
          "metadata": {
            "tags": []
          },
          "execution_count": 63
        }
      ]
    },
    {
      "cell_type": "code",
      "metadata": {
        "id": "ppYeTZ-tQpGN"
      },
      "source": [
        "#Now same like Simple Linear Regression"
      ],
      "execution_count": 65,
      "outputs": []
    },
    {
      "cell_type": "code",
      "metadata": {
        "colab": {
          "base_uri": "https://localhost:8080/"
        },
        "id": "UR443w6XRb2u",
        "outputId": "f6aa4adb-5df1-47f5-cd35-7654b97170aa"
      },
      "source": [
        "lm3=LinearRegression()\n",
        "lm3.fit(x,y)\n",
        "print(lm3.intercept_,lm3.coef_)"
      ],
      "execution_count": 67,
      "outputs": [
        {
          "output_type": "stream",
          "text": [
            "-5.36094633416689 [ 9.71203758e-03 -4.08774503e-02 -1.58956755e+01  4.01889710e+00\n",
            " -5.72154230e-03  1.00697426e+00 -5.77275758e-01  3.29264016e-01\n",
            "  9.18412851e-02  1.59964890e-02 -1.13171892e+00  2.63819243e-01\n",
            " -6.87379411e-01 -2.91637368e-01 -1.21865341e+00]\n"
          ],
          "name": "stdout"
        }
      ]
    },
    {
      "cell_type": "code",
      "metadata": {
        "id": "qcpRBbNvSMl0"
      },
      "source": [
        ""
      ],
      "execution_count": null,
      "outputs": []
    }
  ]
}