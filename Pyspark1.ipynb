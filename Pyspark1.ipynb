{
  "nbformat": 4,
  "nbformat_minor": 0,
  "metadata": {
    "colab": {
      "name": "Untitled3.ipynb",
      "provenance": []
    },
    "kernelspec": {
      "name": "python3",
      "display_name": "Python 3"
    }
  },
  "cells": [
    {
      "cell_type": "code",
      "metadata": {
        "colab": {
          "base_uri": "https://localhost:8080/",
          "height": 634
        },
        "id": "yg_a5yywQCZc",
        "outputId": "0e36f67d-77d5-41ff-ac38-d1661f4456cc"
      },
      "source": [
        "!apt-get update\r\n",
        "!apt-get install openjdk-8-jdk-headless -qq > /dev/null\r\n",
        "!wget -q htt  https://archive.apache.org/dist/spark/spark-2.3.1/spark-2.3.1-bin-hadoop2.7.tgz\r\n",
        "!tar xf spark-2.3.1-bin-hadoop2.7.tgz\r\n",
        "!pip install -q findspark\r\n",
        "\r\n",
        "import os\r\n",
        "os.environ[\"JAVA_HOME\"] = \"/usr/lib/jvm/java-8-openjdk-amd64\"\r\n",
        "os.environ[\"SPARK_HOME\"] = \"/content/spark-2.3.1-bin-hadoop2.7\"\r\n",
        "\r\n",
        "import findspark\r\n",
        "findspark.init()\r\n",
        "from pyspark.sql import SparkSession\r\n",
        "spark = SparkSession.builder.getOrCreate()\r\n",
        "spark"
      ],
      "execution_count": null,
      "outputs": [
        {
          "output_type": "stream",
          "text": [
            "Get:1 https://cloud.r-project.org/bin/linux/ubuntu bionic-cran40/ InRelease [3,626 B]\n",
            "Ign:2 https://developer.download.nvidia.com/compute/cuda/repos/ubuntu1804/x86_64  InRelease\n",
            "Get:3 http://security.ubuntu.com/ubuntu bionic-security InRelease [88.7 kB]\n",
            "Ign:4 https://developer.download.nvidia.com/compute/machine-learning/repos/ubuntu1804/x86_64  InRelease\n",
            "Get:5 https://cloud.r-project.org/bin/linux/ubuntu bionic-cran40/ Packages [40.7 kB]\n",
            "Hit:6 https://developer.download.nvidia.com/compute/cuda/repos/ubuntu1804/x86_64  Release\n",
            "Hit:7 https://developer.download.nvidia.com/compute/machine-learning/repos/ubuntu1804/x86_64  Release\n",
            "Get:8 http://ppa.launchpad.net/c2d4u.team/c2d4u4.0+/ubuntu bionic InRelease [15.9 kB]\n",
            "Hit:10 http://archive.ubuntu.com/ubuntu bionic InRelease\n",
            "Get:12 http://archive.ubuntu.com/ubuntu bionic-updates InRelease [88.7 kB]\n",
            "Get:13 http://ppa.launchpad.net/graphics-drivers/ppa/ubuntu bionic InRelease [21.3 kB]\n",
            "Get:14 http://security.ubuntu.com/ubuntu bionic-security/universe amd64 Packages [1,372 kB]\n",
            "Get:15 http://archive.ubuntu.com/ubuntu bionic-backports InRelease [74.6 kB]\n",
            "Get:16 http://ppa.launchpad.net/c2d4u.team/c2d4u4.0+/ubuntu bionic/main Sources [1,699 kB]\n",
            "Get:17 http://archive.ubuntu.com/ubuntu bionic-updates/universe amd64 Packages [2,136 kB]\n",
            "Get:18 http://security.ubuntu.com/ubuntu bionic-security/main amd64 Packages [1,814 kB]\n",
            "Get:19 http://security.ubuntu.com/ubuntu bionic-security/multiverse amd64 Packages [15.3 kB]\n",
            "Get:20 http://security.ubuntu.com/ubuntu bionic-security/restricted amd64 Packages [237 kB]\n",
            "Get:21 http://archive.ubuntu.com/ubuntu bionic-updates/multiverse amd64 Packages [53.8 kB]\n",
            "Get:22 http://archive.ubuntu.com/ubuntu bionic-updates/restricted amd64 Packages [266 kB]\n",
            "Get:23 http://archive.ubuntu.com/ubuntu bionic-updates/main amd64 Packages [2,244 kB]\n",
            "Get:24 http://ppa.launchpad.net/c2d4u.team/c2d4u4.0+/ubuntu bionic/main amd64 Packages [870 kB]\n",
            "Get:25 http://ppa.launchpad.net/graphics-drivers/ppa/ubuntu bionic/main amd64 Packages [46.5 kB]\n",
            "Fetched 11.1 MB in 6s (1,746 kB/s)\n",
            "Reading package lists... Done\n"
          ],
          "name": "stdout"
        },
        {
          "output_type": "execute_result",
          "data": {
            "text/html": [
              "\n",
              "            <div>\n",
              "                <p><b>SparkSession - in-memory</b></p>\n",
              "                \n",
              "        <div>\n",
              "            <p><b>SparkContext</b></p>\n",
              "\n",
              "            <p><a href=\"http://98a2d802104d:4040\">Spark UI</a></p>\n",
              "\n",
              "            <dl>\n",
              "              <dt>Version</dt>\n",
              "                <dd><code>v2.3.1</code></dd>\n",
              "              <dt>Master</dt>\n",
              "                <dd><code>local[*]</code></dd>\n",
              "              <dt>AppName</dt>\n",
              "                <dd><code>pyspark-shell</code></dd>\n",
              "            </dl>\n",
              "        </div>\n",
              "        \n",
              "            </div>\n",
              "        "
            ],
            "text/plain": [
              "<pyspark.sql.session.SparkSession at 0x7ff2230e77b8>"
            ]
          },
          "metadata": {
            "tags": []
          },
          "execution_count": 1
        }
      ]
    },
    {
      "cell_type": "markdown",
      "metadata": {
        "id": "ni57CZ4tuWRd"
      },
      "source": [
        "# **Show the Data**"
      ]
    },
    {
      "cell_type": "code",
      "metadata": {
        "id": "crlIIzVpRCTM",
        "colab": {
          "base_uri": "https://localhost:8080/"
        },
        "outputId": "64fc0f92-468c-4bd6-e388-d7ab89759782"
      },
      "source": [
        "df=spark.read.format(\"csv\").option(\"header\",\"true\").option(\"inferschema\",\"true\").load(\"/Walmart.csv\");\r\n",
        "df.show()"
      ],
      "execution_count": null,
      "outputs": [
        {
          "output_type": "stream",
          "text": [
            "+----------+---------+---------+---------+---------+--------+---------+\n",
            "|      Date|     Open|     High|      Low|    Close|  Volume|Adj Close|\n",
            "+----------+---------+---------+---------+---------+--------+---------+\n",
            "|03-01-2012|59.970001|61.060001|59.869999|60.330002|12668800|52.619235|\n",
            "|04-01-2012|60.209999|60.349998|59.470001|59.709999| 9593300|52.078475|\n",
            "|05-01-2012|59.349998|59.619999|58.369999|59.419998|12768200|51.825539|\n",
            "|06-01-2012|59.419998|59.450001|58.869999|     59.0| 8069400| 51.45922|\n",
            "|09-01-2012|59.029999|59.549999|58.919998|    59.18| 6679300|51.616215|\n",
            "|10-01-2012|    59.43|59.709999|    58.98|59.040001| 6907300|51.494109|\n",
            "|11-01-2012|59.060001|59.529999|59.040001|59.400002| 6365600|51.808098|\n",
            "|12-01-2012|59.790001|     60.0|59.400002|     59.5| 7236400|51.895316|\n",
            "|13-01-2012|    59.18|59.610001|59.009998|59.540001| 7729300|51.930204|\n",
            "|17-01-2012|59.869999|60.110001|    59.52|59.849998| 8500000|52.200581|\n",
            "|18-01-2012|59.790001|60.029999|59.650002|60.009998| 5911400|52.340131|\n",
            "|19-01-2012|    59.93|    60.73|    59.75|60.610001| 9234600|52.863447|\n",
            "|20-01-2012|    60.75|    61.25|60.669998|61.009998|10378800|53.212321|\n",
            "|23-01-2012|60.810001|    60.98|60.509998|    60.91| 7134100|53.125104|\n",
            "|24-01-2012|    60.75|     62.0|    60.75|61.389999| 7362800|53.543754|\n",
            "|25-01-2012|    61.18|61.610001|61.040001|61.470001| 5915800|53.613531|\n",
            "|26-01-2012|61.799999|    61.84|    60.77|60.970001| 7436200|53.177436|\n",
            "|27-01-2012|60.860001|61.119999|60.540001|60.709999| 6287300|52.950665|\n",
            "|30-01-2012|60.470001|    61.32|60.349998|61.299999| 7636900|53.465257|\n",
            "|31-01-2012|61.529999|    61.57|60.580002|61.360001| 9761500| 53.51759|\n",
            "+----------+---------+---------+---------+---------+--------+---------+\n",
            "only showing top 20 rows\n",
            "\n"
          ],
          "name": "stdout"
        }
      ]
    },
    {
      "cell_type": "markdown",
      "metadata": {
        "id": "_QSNEu9tu9Iz"
      },
      "source": [
        "# Spark has understood the datatypes by itself "
      ]
    },
    {
      "cell_type": "code",
      "metadata": {
        "colab": {
          "base_uri": "https://localhost:8080/"
        },
        "id": "T3P-j_qztz8q",
        "outputId": "4fe53092-e7e2-4223-eb34-0177fa83b5ff"
      },
      "source": [
        "df.printSchema()"
      ],
      "execution_count": null,
      "outputs": [
        {
          "output_type": "stream",
          "text": [
            "root\n",
            " |-- Date: string (nullable = true)\n",
            " |-- Open: double (nullable = true)\n",
            " |-- High: double (nullable = true)\n",
            " |-- Low: double (nullable = true)\n",
            " |-- Close: double (nullable = true)\n",
            " |-- Volume: integer (nullable = true)\n",
            " |-- Adj Close: double (nullable = true)\n",
            "\n"
          ],
          "name": "stdout"
        }
      ]
    },
    {
      "cell_type": "code",
      "metadata": {
        "colab": {
          "base_uri": "https://localhost:8080/"
        },
        "id": "cjA7dBj_viTa",
        "outputId": "c7757337-12a3-44ee-d619-1cc8fe26e102"
      },
      "source": [
        "df.columns "
      ],
      "execution_count": null,
      "outputs": [
        {
          "output_type": "execute_result",
          "data": {
            "text/plain": [
              "['Date', 'Open', 'High', 'Low', 'Close', 'Volume', 'Adj Close']"
            ]
          },
          "metadata": {
            "tags": []
          },
          "execution_count": 12
        }
      ]
    },
    {
      "cell_type": "code",
      "metadata": {
        "colab": {
          "base_uri": "https://localhost:8080/"
        },
        "id": "vS2nHHi6xy6I",
        "outputId": "f0375e75-e02a-4746-ba6e-cdb89b861955"
      },
      "source": [
        "len(df.columns)"
      ],
      "execution_count": null,
      "outputs": [
        {
          "output_type": "execute_result",
          "data": {
            "text/plain": [
              "7"
            ]
          },
          "metadata": {
            "tags": []
          },
          "execution_count": 22
        }
      ]
    },
    {
      "cell_type": "code",
      "metadata": {
        "colab": {
          "base_uri": "https://localhost:8080/"
        },
        "id": "VglOcwVduDzs",
        "outputId": "5fa8db1e-25a4-47c7-bf85-f367e796156f"
      },
      "source": [
        "df.describe()"
      ],
      "execution_count": null,
      "outputs": [
        {
          "output_type": "execute_result",
          "data": {
            "text/plain": [
              "DataFrame[summary: string, Date: string, Open: string, High: string, Low: string, Close: string, Volume: string, Adj Close: string]"
            ]
          },
          "metadata": {
            "tags": []
          },
          "execution_count": 10
        }
      ]
    },
    {
      "cell_type": "code",
      "metadata": {
        "colab": {
          "base_uri": "https://localhost:8080/"
        },
        "id": "jV15zVzkvUB6",
        "outputId": "9c39d5f0-6102-42b6-e01f-10c0b86e58b9"
      },
      "source": [
        "df.describe().show()"
      ],
      "execution_count": null,
      "outputs": [
        {
          "output_type": "stream",
          "text": [
            "+-------+----------+-----------------+-----------------+-----------------+-----------------+-----------------+-----------------+\n",
            "|summary|      Date|             Open|             High|              Low|            Close|           Volume|        Adj Close|\n",
            "+-------+----------+-----------------+-----------------+-----------------+-----------------+-----------------+-----------------+\n",
            "|  count|      1258|             1258|             1258|             1258|             1258|             1258|             1258|\n",
            "|   mean|      null|72.35785375357709|72.83938807631165| 71.9186009594594|72.38844998012726|8222093.481717011|67.23883848728146|\n",
            "| stddev|      null| 6.76809024470826|6.768186808159218|6.744075756255496| 6.75685916373299|  4519780.8431556|6.722609449996858|\n",
            "|    min|01-02-2012|        56.389999|        57.060001|        56.299999|        56.419998|          2094900|        50.363689|\n",
            "|    max|31-12-2015|        90.800003|        90.970001|            89.25|        90.470001|         80898100|        84.914216|\n",
            "+-------+----------+-----------------+-----------------+-----------------+-----------------+-----------------+-----------------+\n",
            "\n"
          ],
          "name": "stdout"
        }
      ]
    },
    {
      "cell_type": "code",
      "metadata": {
        "colab": {
          "base_uri": "https://localhost:8080/"
        },
        "id": "8MgFGm6DvvWJ",
        "outputId": "76fe0c3d-556f-4577-e1b2-4fe246d5b912"
      },
      "source": [
        "df['Date']"
      ],
      "execution_count": null,
      "outputs": [
        {
          "output_type": "execute_result",
          "data": {
            "text/plain": [
              "Column<b'Date'>"
            ]
          },
          "metadata": {
            "tags": []
          },
          "execution_count": 14
        }
      ]
    },
    {
      "cell_type": "code",
      "metadata": {
        "colab": {
          "base_uri": "https://localhost:8080/"
        },
        "id": "CRWmr512wTS9",
        "outputId": "c7961b07-0d5d-4529-84f4-21bce405b388"
      },
      "source": [
        "type(df['Date'])"
      ],
      "execution_count": null,
      "outputs": [
        {
          "output_type": "execute_result",
          "data": {
            "text/plain": [
              "pyspark.sql.column.Column"
            ]
          },
          "metadata": {
            "tags": []
          },
          "execution_count": 15
        }
      ]
    },
    {
      "cell_type": "code",
      "metadata": {
        "colab": {
          "base_uri": "https://localhost:8080/"
        },
        "id": "3VNXMgK9wXO2",
        "outputId": "71156cfb-47db-49c2-e4ab-06778b95d75e"
      },
      "source": [
        "df.select('Date','Open').show()"
      ],
      "execution_count": null,
      "outputs": [
        {
          "output_type": "stream",
          "text": [
            "+----------+---------+\n",
            "|      Date|     Open|\n",
            "+----------+---------+\n",
            "|03-01-2012|59.970001|\n",
            "|04-01-2012|60.209999|\n",
            "|05-01-2012|59.349998|\n",
            "|06-01-2012|59.419998|\n",
            "|09-01-2012|59.029999|\n",
            "|10-01-2012|    59.43|\n",
            "|11-01-2012|59.060001|\n",
            "|12-01-2012|59.790001|\n",
            "|13-01-2012|    59.18|\n",
            "|17-01-2012|59.869999|\n",
            "|18-01-2012|59.790001|\n",
            "|19-01-2012|    59.93|\n",
            "|20-01-2012|    60.75|\n",
            "|23-01-2012|60.810001|\n",
            "|24-01-2012|    60.75|\n",
            "|25-01-2012|    61.18|\n",
            "|26-01-2012|61.799999|\n",
            "|27-01-2012|60.860001|\n",
            "|30-01-2012|60.470001|\n",
            "|31-01-2012|61.529999|\n",
            "+----------+---------+\n",
            "only showing top 20 rows\n",
            "\n"
          ],
          "name": "stdout"
        }
      ]
    },
    {
      "cell_type": "markdown",
      "metadata": {
        "id": "AeYmKqJZ9hDP"
      },
      "source": [
        "# **If you want to select multiple columns , you can pass them via list also**"
      ]
    },
    {
      "cell_type": "code",
      "metadata": {
        "colab": {
          "base_uri": "https://localhost:8080/"
        },
        "id": "T2q2nWLo9gZf",
        "outputId": "52abb5c0-bbb0-43a5-97ee-412a40bc365f"
      },
      "source": [
        "df.select(['Date','Open']).show()"
      ],
      "execution_count": 25,
      "outputs": [
        {
          "output_type": "stream",
          "text": [
            "+----------+---------+\n",
            "|      Date|     Open|\n",
            "+----------+---------+\n",
            "|03-01-2012|59.970001|\n",
            "|04-01-2012|60.209999|\n",
            "|05-01-2012|59.349998|\n",
            "|06-01-2012|59.419998|\n",
            "|09-01-2012|59.029999|\n",
            "|10-01-2012|    59.43|\n",
            "|11-01-2012|59.060001|\n",
            "|12-01-2012|59.790001|\n",
            "|13-01-2012|    59.18|\n",
            "|17-01-2012|59.869999|\n",
            "|18-01-2012|59.790001|\n",
            "|19-01-2012|    59.93|\n",
            "|20-01-2012|    60.75|\n",
            "|23-01-2012|60.810001|\n",
            "|24-01-2012|    60.75|\n",
            "|25-01-2012|    61.18|\n",
            "|26-01-2012|61.799999|\n",
            "|27-01-2012|60.860001|\n",
            "|30-01-2012|60.470001|\n",
            "|31-01-2012|61.529999|\n",
            "+----------+---------+\n",
            "only showing top 20 rows\n",
            "\n"
          ],
          "name": "stdout"
        }
      ]
    },
    {
      "cell_type": "code",
      "metadata": {
        "colab": {
          "base_uri": "https://localhost:8080/"
        },
        "id": "R2P1-qZtwZok",
        "outputId": "3bc4fe73-099b-4659-95f2-81fbd134324c"
      },
      "source": [
        "type(df.select('Date'))"
      ],
      "execution_count": null,
      "outputs": [
        {
          "output_type": "execute_result",
          "data": {
            "text/plain": [
              "pyspark.sql.dataframe.DataFrame"
            ]
          },
          "metadata": {
            "tags": []
          },
          "execution_count": 18
        }
      ]
    },
    {
      "cell_type": "code",
      "metadata": {
        "colab": {
          "base_uri": "https://localhost:8080/"
        },
        "id": "foXCOsu6wmfd",
        "outputId": "56d804fc-03b3-4949-a95e-ab562ff2afdd"
      },
      "source": [
        "df.head(2)"
      ],
      "execution_count": null,
      "outputs": [
        {
          "output_type": "execute_result",
          "data": {
            "text/plain": [
              "[Row(Date='03-01-2012', Open=59.970001, High=61.060001, Low=59.869999, Close=60.330002, Volume=12668800, Adj Close=52.619235),\n",
              " Row(Date='04-01-2012', Open=60.209999, High=60.349998, Low=59.470001, Close=59.709999, Volume=9593300, Adj Close=52.078475)]"
            ]
          },
          "metadata": {
            "tags": []
          },
          "execution_count": 19
        }
      ]
    },
    {
      "cell_type": "code",
      "metadata": {
        "colab": {
          "base_uri": "https://localhost:8080/"
        },
        "id": "M83WuqWBwrXS",
        "outputId": "991f9ad4-c311-4ca7-b4e4-a4f7d2a6e08f"
      },
      "source": [
        "type(df.head(2)[0])"
      ],
      "execution_count": null,
      "outputs": [
        {
          "output_type": "execute_result",
          "data": {
            "text/plain": [
              "pyspark.sql.types.Row"
            ]
          },
          "metadata": {
            "tags": []
          },
          "execution_count": 24
        }
      ]
    }
  ]
}
