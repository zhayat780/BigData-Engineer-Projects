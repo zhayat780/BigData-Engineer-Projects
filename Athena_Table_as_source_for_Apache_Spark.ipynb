{
  "nbformat": 4,
  "nbformat_minor": 0,
  "metadata": {
    "colab": {
      "name": "Athena Table as source for Apache Spark.ipynb",
      "provenance": [],
      "collapsed_sections": [],
      "authorship_tag": "ABX9TyMDMLEHt2T5XiLts1jL1TAK",
      "include_colab_link": true
    },
    "kernelspec": {
      "name": "python3",
      "display_name": "Python 3"
    },
    "language_info": {
      "name": "python"
    }
  },
  "cells": [
    {
      "cell_type": "markdown",
      "metadata": {
        "id": "view-in-github",
        "colab_type": "text"
      },
      "source": [
        "<a href=\"https://colab.research.google.com/github/SatadruMukherjee/Data-Preprocessing-Models/blob/main/Athena_Table_as_source_for_Apache_Spark.ipynb\" target=\"_parent\"><img src=\"https://colab.research.google.com/assets/colab-badge.svg\" alt=\"Open In Colab\"/></a>"
      ]
    },
    {
      "cell_type": "markdown",
      "source": [
        "**Documentation**"
      ],
      "metadata": {
        "id": "A5WJsFKvSp8M"
      }
    },
    {
      "cell_type": "markdown",
      "source": [
        "https://pypi.org/project/pyathena/"
      ],
      "metadata": {
        "id": "sLOxfdAHStjj"
      }
    },
    {
      "cell_type": "markdown",
      "source": [
        "# **Athena Query**"
      ],
      "metadata": {
        "id": "mpkc6R4fS6W3"
      }
    },
    {
      "cell_type": "code",
      "source": [
        "create database helloworld;\n",
        "\n",
        "\n",
        "CREATE  EXTERNAL TABLE helloworld.hellocsv (\n",
        "`Id` int,\n",
        "`SEPAL_LENGTH` double,\n",
        "`SEPAL_WIDTH` double,\n",
        "`PETAL_LENGTH` double,\n",
        "`PETAL_WIDTH` double,\n",
        "`CLASS_NAME` string\n",
        ")\n",
        "ROW FORMAT SERDE 'org.apache.hadoop.hive.serde2.lazy.LazySimpleSerDe' \n",
        "WITH SERDEPROPERTIES (\n",
        "'serialization.format' = ',',\n",
        "'field.delim' = ','\n",
        ") LOCATION '{}'\n",
        "TBLPROPERTIES ('has_encrypted_data'='false','skip.header.line.count'='1');\n",
        "\n",
        "select * from helloworld.hellocsv;"
      ],
      "metadata": {
        "id": "gLi6oq1aS45k"
      },
      "execution_count": null,
      "outputs": []
    },
    {
      "cell_type": "code",
      "source": [
        "!pip install pyathena"
      ],
      "metadata": {
        "id": "rkgenPNqLO6y"
      },
      "execution_count": null,
      "outputs": []
    },
    {
      "cell_type": "code",
      "source": [
        "from pyathena import connect\n",
        "from pyathena.cursor import DictCursor"
      ],
      "metadata": {
        "id": "ke1URrN7LY8N"
      },
      "execution_count": null,
      "outputs": []
    },
    {
      "cell_type": "code",
      "source": [
        "aws_access_key_id=''\n",
        "aws_secret_access_key=''"
      ],
      "metadata": {
        "id": "kGwLRnPCtZhH"
      },
      "execution_count": null,
      "outputs": []
    },
    {
      "cell_type": "code",
      "source": [
        "cursor = connect(aws_access_key_id=aws_access_key_id,\n",
        "    aws_secret_access_key=aws_secret_access_key,s3_staging_dir=\"{s3 directory name where Athena will write the data}\",\n",
        "                 region_name=\"{Region Name}\",=).cursor()"
      ],
      "metadata": {
        "id": "gky_vIi77u3r"
      },
      "execution_count": null,
      "outputs": []
    },
    {
      "cell_type": "code",
      "source": [
        "query=\"{Put the Athena Query here}\""
      ],
      "metadata": {
        "id": "HdWPI2W6sar9"
      },
      "execution_count": null,
      "outputs": []
    },
    {
      "cell_type": "code",
      "source": [
        "cursor.execute(query)"
      ],
      "metadata": {
        "id": "CPl_yq2_tBuS"
      },
      "execution_count": null,
      "outputs": []
    },
    {
      "cell_type": "code",
      "source": [
        "print(cursor.output_location)"
      ],
      "metadata": {
        "id": "-J39WPLmtGdy"
      },
      "execution_count": null,
      "outputs": []
    },
    {
      "cell_type": "code",
      "source": [
        "for row in cursor:\n",
        "    print(row)"
      ],
      "metadata": {
        "id": "QXQlC8zCuAHZ"
      },
      "execution_count": null,
      "outputs": []
    },
    {
      "cell_type": "code",
      "source": [
        "cursor = connect(aws_access_key_id=aws_access_key_id,\n",
        "    aws_secret_access_key=aws_secret_access_key,s3_staging_dir=\"{s3 directory name where Athena will write the data}\",\n",
        "                 region_name=\"{Region Name}\",\n",
        "                 cursor_class=DictCursor).cursor()\n",
        "query=\"{Put the Athena Query here}\"\n",
        "cursor.execute(query)\n",
        "print(cursor.output_location)\n",
        "for row in cursor:\n",
        "    print(row)"
      ],
      "metadata": {
        "id": "1QNKiJQH73YP"
      },
      "execution_count": null,
      "outputs": []
    },
    {
      "cell_type": "markdown",
      "source": [
        "# **Bootstrap Code (.sh file)**"
      ],
      "metadata": {
        "id": "Q5J-w1kwSwnf"
      }
    },
    {
      "cell_type": "code",
      "source": [
        "#!/bin/bash\n",
        "sudo pip3 install -U pyathena"
      ],
      "metadata": {
        "id": "Fz_MW7_OSzqa"
      },
      "execution_count": null,
      "outputs": []
    },
    {
      "cell_type": "markdown",
      "source": [
        "# **PySpark Athena Integration**"
      ],
      "metadata": {
        "id": "s7sYlUy7R1UI"
      }
    },
    {
      "cell_type": "code",
      "source": [
        "from pyathena import connect\n",
        "from pyathena.cursor import DictCursor\n",
        "cursor = connect(s3_staging_dir=\"{s3 directory name where Athena will write the data}\",region_name=\"{Region Name}\",cursor_class=DictCursor).cursor()\n",
        "query=\"{Put the Athena Query here}\"\n",
        "cursor.execute(query)\n",
        "df=spark.read.csv(cursor.output_location,header=True)"
      ],
      "metadata": {
        "id": "xmrtFNVXFEsI"
      },
      "execution_count": null,
      "outputs": []
    }
  ]
}