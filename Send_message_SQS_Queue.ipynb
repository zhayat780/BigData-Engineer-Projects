{
  "nbformat": 4,
  "nbformat_minor": 0,
  "metadata": {
    "colab": {
      "name": "Send_message_SQS_Queue.ipynb",
      "provenance": [],
      "authorship_tag": "ABX9TyNRg96CGCIXFwDrKNhe0VbC",
      "include_colab_link": true
    },
    "kernelspec": {
      "name": "python3",
      "display_name": "Python 3"
    },
    "language_info": {
      "name": "python"
    }
  },
  "cells": [
    {
      "cell_type": "markdown",
      "metadata": {
        "id": "view-in-github",
        "colab_type": "text"
      },
      "source": [
        "<a href=\"https://colab.research.google.com/github/SatadruMukherjee/Data-Preprocessing-Models/blob/main/Send_message_SQS_Queue.ipynb\" target=\"_parent\"><img src=\"https://colab.research.google.com/assets/colab-badge.svg\" alt=\"Open In Colab\"/></a>"
      ]
    },
    {
      "cell_type": "code",
      "execution_count": 31,
      "metadata": {
        "colab": {
          "base_uri": "https://localhost:8080/"
        },
        "id": "1YsXQhbs8hEu",
        "outputId": "5156d7bb-8ca1-4906-f3ab-612469907d59"
      },
      "outputs": [
        {
          "output_type": "stream",
          "name": "stdout",
          "text": [
            "Requirement already satisfied: boto3 in /usr/local/lib/python3.7/dist-packages (1.22.9)\n",
            "Requirement already satisfied: jmespath<2.0.0,>=0.7.1 in /usr/local/lib/python3.7/dist-packages (from boto3) (1.0.0)\n",
            "Requirement already satisfied: s3transfer<0.6.0,>=0.5.0 in /usr/local/lib/python3.7/dist-packages (from boto3) (0.5.2)\n",
            "Requirement already satisfied: botocore<1.26.0,>=1.25.9 in /usr/local/lib/python3.7/dist-packages (from boto3) (1.25.9)\n",
            "Requirement already satisfied: urllib3<1.27,>=1.25.4 in /usr/local/lib/python3.7/dist-packages (from botocore<1.26.0,>=1.25.9->boto3) (1.26.9)\n",
            "Requirement already satisfied: python-dateutil<3.0.0,>=2.1 in /usr/local/lib/python3.7/dist-packages (from botocore<1.26.0,>=1.25.9->boto3) (2.8.2)\n",
            "Requirement already satisfied: six>=1.5 in /usr/local/lib/python3.7/dist-packages (from python-dateutil<3.0.0,>=2.1->botocore<1.26.0,>=1.25.9->boto3) (1.15.0)\n"
          ]
        }
      ],
      "source": [
        "!pip install boto3"
      ]
    },
    {
      "cell_type": "code",
      "source": [
        "import json\n",
        "import boto3\n",
        "import datetime\n",
        "from datetime import date"
      ],
      "metadata": {
        "id": "krkLuk-D8nCi"
      },
      "execution_count": 28,
      "outputs": []
    },
    {
      "cell_type": "code",
      "source": [
        "sqs_send= boto3.client('sqs',  aws_access_key_id='{}',\n",
        "aws_secret_access_key='{}', region_name='{}')"
      ],
      "metadata": {
        "id": "M72TYpIh86TO"
      },
      "execution_count": 32,
      "outputs": []
    },
    {
      "cell_type": "markdown",
      "source": [
        "**Simple Message Publish**"
      ],
      "metadata": {
        "id": "3YdxLPsQOkkR"
      }
    },
    {
      "cell_type": "code",
      "source": [
        "sendQueueUrl='{}'\n",
        "messageBody=\"Hi\"\n",
        "ret = sqs_send.send_message( QueueUrl=sendQueueUrl, \n",
        "                            MessageBody=messageBody)"
      ],
      "metadata": {
        "id": "YEKYoWUDOkJ2"
      },
      "execution_count": 33,
      "outputs": []
    },
    {
      "cell_type": "markdown",
      "source": [
        "Message attributes are optional and separate from the message body (however, they are sent alongside it).\n",
        "\n",
        " Your consumer can use message attributes to handle a message in a particular way without having to process the message body first. \n",
        "\n",
        " Each message attribute consists of the following components:\n",
        " \n",
        " Name \n",
        "\n",
        " Type(String, Number, and Binary)\n",
        "\n",
        " Value "
      ],
      "metadata": {
        "id": "ZeJpvMXYDnR3"
      }
    },
    {
      "cell_type": "markdown",
      "source": [
        "\"Value\", can be one of: StringValue, BinaryValue"
      ],
      "metadata": {
        "id": "W7zNhaZeCcJr"
      }
    },
    {
      "cell_type": "markdown",
      "source": [
        "Datatype used -- Binary, Number, String"
      ],
      "metadata": {
        "id": "P48mvF_tCo9o"
      }
    },
    {
      "cell_type": "code",
      "source": [
        "sendQueueUrl='{}'\n",
        "MessageAttributes={\n",
        "    'Name': {\n",
        "        'StringValue': 'Satadru',\n",
        "        'DataType': 'String'\n",
        "    }}"
      ],
      "metadata": {
        "id": "80bF4RCl_DH7"
      },
      "execution_count": 37,
      "outputs": []
    },
    {
      "cell_type": "code",
      "source": [
        "# Defining Custom Function to Send Message to Main Queue and Deleting it from DLQ \n",
        "def sendQueue(sendQueueUrl,messageBody,messageAttributes) :\n",
        "    # Calling Send Message API\n",
        "    ret = sqs_send.send_message( QueueUrl=sendQueueUrl, \n",
        "                            MessageBody=messageBody,\n",
        "                            MessageAttributes=messageAttributes) \n",
        "    return ret"
      ],
      "metadata": {
        "id": "17RvSgSi8s_A"
      },
      "execution_count": 38,
      "outputs": []
    },
    {
      "cell_type": "code",
      "source": [
        "messageBody='Hello World 2'\n",
        "response = sendQueue(sendQueueUrl,messageBody,MessageAttributes)"
      ],
      "metadata": {
        "id": "s2B3Vhj4-_Q3"
      },
      "execution_count": 39,
      "outputs": []
    },
    {
      "cell_type": "markdown",
      "source": [
        "Case 2: Sending Number"
      ],
      "metadata": {
        "id": "Q4QRnTLPK2l3"
      }
    },
    {
      "cell_type": "code",
      "source": [
        "sendQueueUrl='{}'\n",
        "MessageAttributes={\n",
        "    'Age': {\n",
        "        'StringValue': '5',\n",
        "        'DataType': 'Number'\n",
        "    }}\n",
        "messageBody='Hello World 3'\n",
        "response = sendQueue(sendQueueUrl,messageBody,MessageAttributes)"
      ],
      "metadata": {
        "id": "zZrl32UWBobF"
      },
      "execution_count": 41,
      "outputs": []
    },
    {
      "cell_type": "markdown",
      "source": [
        "Case 3: Sending multiple attributes"
      ],
      "metadata": {
        "id": "qmyyORxZK54L"
      }
    },
    {
      "cell_type": "code",
      "source": [
        "sendQueueUrl='{}'\n",
        "MessageAttributes={\n",
        "    'Name': {\n",
        "        'StringValue': 'Satadru Mukherjee',\n",
        "        'DataType': 'String'\n",
        "    },\n",
        "    'Age': {\n",
        "        'StringValue': '5',\n",
        "        'DataType': 'Number'\n",
        "    }}\n",
        "messageBody='Hello World 10'\n",
        "response = sendQueue(sendQueueUrl,messageBody,MessageAttributes)"
      ],
      "metadata": {
        "id": "tGEjC6O0KtxR"
      },
      "execution_count": 42,
      "outputs": []
    },
    {
      "cell_type": "markdown",
      "source": [
        "Case 4: Sending wrong datatype"
      ],
      "metadata": {
        "id": "1s-qtE7xLHi5"
      }
    },
    {
      "cell_type": "code",
      "source": [
        "sendQueueUrl='{}'\n",
        "MessageAttributes={\n",
        "    'Name': {\n",
        "        'StringValue': 'Satadru Mukherjee',\n",
        "        'DataType': 'String'\n",
        "    },\n",
        "    'Age': {\n",
        "        'StringValue': 'Hello',\n",
        "        'DataType': 'Number'\n",
        "    }}\n",
        "messageBody='Hello World 2'\n",
        "response = sendQueue(sendQueueUrl,messageBody,MessageAttributes)"
      ],
      "metadata": {
        "colab": {
          "base_uri": "https://localhost:8080/",
          "height": 345
        },
        "id": "da9zQezeLDTL",
        "outputId": "291d8950-f843-4884-97a6-443237884dec"
      },
      "execution_count": 44,
      "outputs": [
        {
          "output_type": "error",
          "ename": "ClientError",
          "evalue": "ignored",
          "traceback": [
            "\u001b[0;31m---------------------------------------------------------------------------\u001b[0m",
            "\u001b[0;31mClientError\u001b[0m                               Traceback (most recent call last)",
            "\u001b[0;32m<ipython-input-44-de1a4362d96a>\u001b[0m in \u001b[0;36m<module>\u001b[0;34m()\u001b[0m\n\u001b[1;32m     10\u001b[0m     }}\n\u001b[1;32m     11\u001b[0m \u001b[0mmessageBody\u001b[0m\u001b[0;34m=\u001b[0m\u001b[0;34m'Hello World 2'\u001b[0m\u001b[0;34m\u001b[0m\u001b[0;34m\u001b[0m\u001b[0m\n\u001b[0;32m---> 12\u001b[0;31m \u001b[0mresponse\u001b[0m \u001b[0;34m=\u001b[0m \u001b[0msendQueue\u001b[0m\u001b[0;34m(\u001b[0m\u001b[0msendQueueUrl\u001b[0m\u001b[0;34m,\u001b[0m\u001b[0mmessageBody\u001b[0m\u001b[0;34m,\u001b[0m\u001b[0mMessageAttributes\u001b[0m\u001b[0;34m)\u001b[0m\u001b[0;34m\u001b[0m\u001b[0;34m\u001b[0m\u001b[0m\n\u001b[0m",
            "\u001b[0;32m<ipython-input-38-690dd6c1ba7d>\u001b[0m in \u001b[0;36msendQueue\u001b[0;34m(sendQueueUrl, messageBody, messageAttributes)\u001b[0m\n\u001b[1;32m      4\u001b[0m     ret = sqs_send.send_message( QueueUrl=sendQueueUrl, \n\u001b[1;32m      5\u001b[0m                             \u001b[0mMessageBody\u001b[0m\u001b[0;34m=\u001b[0m\u001b[0mmessageBody\u001b[0m\u001b[0;34m,\u001b[0m\u001b[0;34m\u001b[0m\u001b[0;34m\u001b[0m\u001b[0m\n\u001b[0;32m----> 6\u001b[0;31m                             MessageAttributes=messageAttributes) \n\u001b[0m\u001b[1;32m      7\u001b[0m     \u001b[0;32mreturn\u001b[0m \u001b[0mret\u001b[0m\u001b[0;34m\u001b[0m\u001b[0;34m\u001b[0m\u001b[0m\n",
            "\u001b[0;32m/usr/local/lib/python3.7/dist-packages/botocore/client.py\u001b[0m in \u001b[0;36m_api_call\u001b[0;34m(self, *args, **kwargs)\u001b[0m\n\u001b[1;32m    413\u001b[0m                     \"%s() only accepts keyword arguments.\" % py_operation_name)\n\u001b[1;32m    414\u001b[0m             \u001b[0;31m# The \"self\" in this scope is referring to the BaseClient.\u001b[0m\u001b[0;34m\u001b[0m\u001b[0;34m\u001b[0m\u001b[0;34m\u001b[0m\u001b[0m\n\u001b[0;32m--> 415\u001b[0;31m             \u001b[0;32mreturn\u001b[0m \u001b[0mself\u001b[0m\u001b[0;34m.\u001b[0m\u001b[0m_make_api_call\u001b[0m\u001b[0;34m(\u001b[0m\u001b[0moperation_name\u001b[0m\u001b[0;34m,\u001b[0m \u001b[0mkwargs\u001b[0m\u001b[0;34m)\u001b[0m\u001b[0;34m\u001b[0m\u001b[0;34m\u001b[0m\u001b[0m\n\u001b[0m\u001b[1;32m    416\u001b[0m \u001b[0;34m\u001b[0m\u001b[0m\n\u001b[1;32m    417\u001b[0m         \u001b[0m_api_call\u001b[0m\u001b[0;34m.\u001b[0m\u001b[0m__name__\u001b[0m \u001b[0;34m=\u001b[0m \u001b[0mstr\u001b[0m\u001b[0;34m(\u001b[0m\u001b[0mpy_operation_name\u001b[0m\u001b[0;34m)\u001b[0m\u001b[0;34m\u001b[0m\u001b[0;34m\u001b[0m\u001b[0m\n",
            "\u001b[0;32m/usr/local/lib/python3.7/dist-packages/botocore/client.py\u001b[0m in \u001b[0;36m_make_api_call\u001b[0;34m(self, operation_name, api_params)\u001b[0m\n\u001b[1;32m    743\u001b[0m             \u001b[0merror_code\u001b[0m \u001b[0;34m=\u001b[0m \u001b[0mparsed_response\u001b[0m\u001b[0;34m.\u001b[0m\u001b[0mget\u001b[0m\u001b[0;34m(\u001b[0m\u001b[0;34m\"Error\"\u001b[0m\u001b[0;34m,\u001b[0m \u001b[0;34m{\u001b[0m\u001b[0;34m}\u001b[0m\u001b[0;34m)\u001b[0m\u001b[0;34m.\u001b[0m\u001b[0mget\u001b[0m\u001b[0;34m(\u001b[0m\u001b[0;34m\"Code\"\u001b[0m\u001b[0;34m)\u001b[0m\u001b[0;34m\u001b[0m\u001b[0;34m\u001b[0m\u001b[0m\n\u001b[1;32m    744\u001b[0m             \u001b[0merror_class\u001b[0m \u001b[0;34m=\u001b[0m \u001b[0mself\u001b[0m\u001b[0;34m.\u001b[0m\u001b[0mexceptions\u001b[0m\u001b[0;34m.\u001b[0m\u001b[0mfrom_code\u001b[0m\u001b[0;34m(\u001b[0m\u001b[0merror_code\u001b[0m\u001b[0;34m)\u001b[0m\u001b[0;34m\u001b[0m\u001b[0;34m\u001b[0m\u001b[0m\n\u001b[0;32m--> 745\u001b[0;31m             \u001b[0;32mraise\u001b[0m \u001b[0merror_class\u001b[0m\u001b[0;34m(\u001b[0m\u001b[0mparsed_response\u001b[0m\u001b[0;34m,\u001b[0m \u001b[0moperation_name\u001b[0m\u001b[0;34m)\u001b[0m\u001b[0;34m\u001b[0m\u001b[0;34m\u001b[0m\u001b[0m\n\u001b[0m\u001b[1;32m    746\u001b[0m         \u001b[0;32melse\u001b[0m\u001b[0;34m:\u001b[0m\u001b[0;34m\u001b[0m\u001b[0;34m\u001b[0m\u001b[0m\n\u001b[1;32m    747\u001b[0m             \u001b[0;32mreturn\u001b[0m \u001b[0mparsed_response\u001b[0m\u001b[0;34m\u001b[0m\u001b[0;34m\u001b[0m\u001b[0m\n",
            "\u001b[0;31mClientError\u001b[0m: An error occurred (InvalidParameterValue) when calling the SendMessage operation: Can't cast the value of message (user) attribute 'Age' to a number."
          ]
        }
      ]
    },
    {
      "cell_type": "code",
      "source": [
        ""
      ],
      "metadata": {
        "id": "MbC1WfOPLa-N"
      },
      "execution_count": null,
      "outputs": []
    }
  ]
}